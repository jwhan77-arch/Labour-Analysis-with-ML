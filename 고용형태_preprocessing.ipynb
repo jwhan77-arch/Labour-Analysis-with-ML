{
 "cells": [
  {
   "cell_type": "code",
   "execution_count": 8,
   "id": "e8241358-dc2b-4de3-822c-bbc6ccd2719f",
   "metadata": {
    "scrolled": true
   },
   "outputs": [
    {
     "name": "stdin",
     "output_type": "stream",
     "text": [
      "데이터가 있는 폴더: data2\n"
     ]
    },
    {
     "name": "stdout",
     "output_type": "stream",
     "text": [
      "2021_총괄_20250827_24235.csv\n",
      "2022_총괄_20250827_24235.csv\n",
      "2023_총괄_20250827_62500.csv\n",
      "2024_총괄_20250827_62500.csv\n",
      "고용형태별조사DB_09-02_15-31.csv\n",
      "항목정보.csv\n",
      "총6개의 csv 파일을 찾았습니다\n",
      "\n",
      "2024년: 1,004,559개의 샘플, 29개의 칼럼.\n",
      "2023년: 991,358개의 샘플, 29개의 칼럼.\n",
      "2022년: 993,588개의 샘플, 29개의 칼럼.\n",
      "2021년: 969,620개의 샘플, 29개의 칼럼.\n"
     ]
    },
    {
     "name": "stdin",
     "output_type": "stream",
     "text": [
      "병합할 파일 갯수: 1\n"
     ]
    },
    {
     "name": "stdout",
     "output_type": "stream",
     "text": [
      "data2\\2024_총괄_20250827_62500.csv파일을 읽습니다.\n"
     ]
    },
    {
     "name": "stderr",
     "output_type": "stream",
     "text": [
      "C:\\Users\\jwhan\\AppData\\Local\\Temp\\ipykernel_25828\\903797535.py:55: DtypeWarning: Columns (11,12,13,14,15) have mixed types. Specify dtype option on import or set low_memory=False.\n",
      "  df= pd.read_csv(files_with_year[i][1], encoding=encoding, usecols= col_to_read)\n"
     ]
    },
    {
     "name": "stdout",
     "output_type": "stream",
     "text": [
      "1개의 문자형 범주 칼럼.\n",
      " 데이타가 고르지 못한 칼럼은 ['소정실근로일수', '휴일실근로일수', '소정실근로시간수', '초과실근로시간수', '휴일실근로시간수'].\n",
      "산업대분류코드의 코드를 숫자로 변환\n",
      "소정실근로일수 칼럼의 데이터 에러를 수정\n",
      "휴일실근로일수 칼럼의 데이터 에러를 수정\n",
      "소정실근로시간수 칼럼의 데이터 에러를 수정\n",
      "초과실근로시간수 칼럼의 데이터 에러를 수정\n",
      "휴일실근로시간수 칼럼의 데이터 에러를 수정\n",
      "(NaN 행의 수는 25,153개. 전체 대비 2.5%.\n"
     ]
    },
    {
     "name": "stdin",
     "output_type": "stream",
     "text": [
      "NaN 행들을 지우시겠습니까?(y/n) y\n"
     ]
    },
    {
     "name": "stdout",
     "output_type": "stream",
     "text": [
      "25,153가 삭제.\n"
     ]
    },
    {
     "name": "stdin",
     "output_type": "stream",
     "text": [
      "항목정보가 있는 파일명(엑셀): 2024년_고용형태별근로실태조사_파일설계서.xlsx\n"
     ]
    },
    {
     "name": "stdout",
     "output_type": "stream",
     "text": [
      "항목정보.csv 파일을 생성.\n"
     ]
    },
    {
     "name": "stdin",
     "output_type": "stream",
     "text": [
      "모든 처리가 종료. 979404개 Data를 저장?(y/n) y\n"
     ]
    },
    {
     "name": "stdout",
     "output_type": "stream",
     "text": [
      "고용형태별조사DB_09-02_15-42.csv을 저장.\n"
     ]
    }
   ],
   "source": [
    "import pandas as pd\n",
    "import glob\n",
    "import os\n",
    "import re\n",
    "import datetime\n",
    "\n",
    "#폴더 내 csv 파일 찾기\n",
    "folder = input(\"데이터가 있는 폴더:\")\n",
    "csv_files = glob.glob(os.path.join(folder, \"*.csv\"))\n",
    "for file in csv_files:\n",
    "    print(f\"{os.path.basename(file)}\")\n",
    "print(f\"총{len(csv_files)}개의 csv 파일을 찾았습니다\\n\")\n",
    "\n",
    "# 파일명을 통해 최근 순으로 파일 정리. \n",
    "most_recent_file = None\n",
    "max_year=0\n",
    "year_pattern = re.compile(r'\\d{4}') #숫자 4개가 연속으로 이어질 때 파싱\n",
    "files_with_year=[]\n",
    "for file in csv_files:\n",
    "    file_name = os.path.basename(file)\n",
    "    match = year_pattern.search(file_name)\n",
    "    if match:\n",
    "        year= int(match.group())\n",
    "        files_with_year.append((year, file))\n",
    "files_with_year.sort(key=lambda x:x[0], reverse=True)\n",
    "\n",
    "#데이타의 칼럼 수와 샘플 수 확인\n",
    "first_year= True\n",
    "for year, file in files_with_year:\n",
    "    try:\n",
    "        encoding =\"cp949\"\n",
    "        df = pd.read_csv(file, encoding=encoding, nrows=0)\n",
    "    except UnicodeDecodeError:\n",
    "        encoding=\"utf-8\"\n",
    "        df= pd.read_csv(file, encoding=encoding, nrows=0)\n",
    "    with open(file, \"r\", encoding=encoding) as f:\n",
    "        line_count=0\n",
    "        for line in f:\n",
    "            line_count +=1\n",
    "        print(f\"{year}년: {line_count:,}개의 샘플, {len(df.columns)}개의 칼럼.\")\n",
    "    if first_year :\n",
    "        col_to_read=df.columns\n",
    "        first_year = False\n",
    "\n",
    "\n",
    "# 몇 개나 합할 것인지?\n",
    "df_list=[]\n",
    "num_of_combined=int(input(\"병합할 파일 갯수:\"))\n",
    "if num_of_combined <= 0 : \n",
    "    import sys\n",
    "    sys.exit()\n",
    "\n",
    "for i in range(num_of_combined):\n",
    "    print(f\"{files_with_year[i][1]}파일을 읽습니다.\")\n",
    "    df= pd.read_csv(files_with_year[i][1], encoding=encoding, usecols= col_to_read)\n",
    "    df=df.reindex(columns=col_to_read)\n",
    "    df= df[1:] #0행에 칼럼 영문 코드가 있는 경우가 종종 있음.\n",
    "    df_list.append(df)\n",
    "\n",
    "df=pd.concat(df_list, ignore_index=True) \n",
    "del df_list   \n",
    "   \n",
    "#dType이 object인 열을 레이블인지 결측인지 판단\n",
    "col_object= df.select_dtypes(include=['object']).columns.tolist()\n",
    "col_code_keyword =['코드','여부']\n",
    "col_code=[]\n",
    "for col in col_object:\n",
    "    if any(keyword in col for keyword in col_code_keyword):\n",
    "        col_code.append(col)\n",
    "col_error = [col for col in col_object if col not in col_code]\n",
    "print(f\"{len(col_code)}개의 문자형 범주 칼럼.\\n 데이타가 고르지 못한 칼럼은 {col_error}.\")\n",
    "\n",
    "#원본 칼럼명에 원래 레이블과 숫자로 변환된 레이블을 튜플로 저장\n",
    "original_col_code_list=[]\n",
    "from sklearn.preprocessing import LabelEncoder\n",
    "for col in col_code:\n",
    "    le=LabelEncoder()\n",
    "    df[col]=le.fit_transform(df[col])\n",
    "    original_col_code_list.append((col, dict(zip(le.classes_,le.transform(le.classes_)))))\n",
    "    print(f\"{col}의 코드를 숫자로 변환\")\n",
    "\n",
    "#결측 데이타 처리\n",
    "for col in col_error:\n",
    "    df[col] = pd.to_numeric(df[col], errors='coerce')\n",
    "    print(f\"{col} 칼럼의 데이터 에러를 수정\")\n",
    "nan_num = df.isnull().any(axis=1).sum()\n",
    "origin_num=len(df)\n",
    "print(f\"(NaN 행의 수는 {nan_num:,}개. 전체 대비 {nan_num/origin_num:.1%}.\")\n",
    "del_rows = input(\"NaN 행들을 지우시겠습니까?(y/n)\")\n",
    "if del_rows == 'y':\n",
    "    df= df.dropna()\n",
    "    print(f\"{(origin_num-len(df)):,}가 삭제.\")\n",
    "\n",
    "#데이타 레이블 맵핑 및 설명\n",
    "file_path_excel=input(\"항목정보가 있는 파일명(엑셀):\")\n",
    "df_feature_info=pd.read_excel(os.path.join(folder, file_path_excel), sheet_name=\"총괄\", header=2,)\n",
    "col_to_read_exel=['항목명', '코드','코드의미 및 단위' ]\n",
    "df_feature_info=df_feature_info[col_to_read_exel]                              \n",
    "\n",
    "for i in range(len(original_col_code_list)):\n",
    "    condition = df_feature_info['항목명'] ==original_col_code_list[i][0]\n",
    "    df_feature_info.loc[condition, '코드']=df_feature_info.loc[condition, '코드'].map(original_col_code_list[0][1])\n",
    "\n",
    "df_feature_info.to_csv(os.path.join(folder, \"항목정보.csv\"), encoding=\"cp949\")\n",
    "print(\"항목정보.csv 파일을 생성.\")\n",
    "\n",
    "saveornot= input(f\"모든 처리가 종료. {len(df)}개 Data를 저장?(y/n)\")\n",
    "if saveornot==\"y\":\n",
    "    now=datetime.datetime.now()\n",
    "    now_fomatted=now.strftime(\"%m-%d_%H-%M\")\n",
    "    df_filename= f\"고용형태별조사DB_{now_fomatted}.csv\"\n",
    "    print(\"파일 저장 중...............\")\n",
    "    df.to_csv(os.path.join(folder,df_filename), encoding=\"cp949\")\n",
    "    print(f\"{df_filename}을 저장.\")\n",
    "    del df\n",
    "\n",
    "\n",
    "\n",
    "                            "
   ]
  },
  {
   "cell_type": "code",
   "execution_count": 3,
   "id": "737fb223-55b7-4cca-abd1-2029136f5953",
   "metadata": {},
   "outputs": [
    {
     "data": {
      "text/plain": [
       "['산업대분류코드']"
      ]
     },
     "execution_count": 3,
     "metadata": {},
     "output_type": "execute_result"
    }
   ],
   "source": [
    "col_code"
   ]
  },
  {
   "cell_type": "code",
   "execution_count": 4,
   "id": "9557160b-eac9-4cb6-8d1a-26d0acbb17f6",
   "metadata": {},
   "outputs": [
    {
     "data": {
      "text/plain": [
       "['산업대분류코드', '소정실근로일수', '휴일실근로일수', '소정실근로시간수', '초과실근로시간수', '휴일실근로시간수']"
      ]
     },
     "execution_count": 4,
     "metadata": {},
     "output_type": "execute_result"
    }
   ],
   "source": [
    "col_object"
   ]
  },
  {
   "cell_type": "code",
   "execution_count": 5,
   "id": "f8817988-83ef-4ec4-b735-741931ce4c8b",
   "metadata": {},
   "outputs": [
    {
     "ename": "NameError",
     "evalue": "name 'df' is not defined",
     "output_type": "error",
     "traceback": [
      "\u001b[1;31m---------------------------------------------------------------------------\u001b[0m",
      "\u001b[1;31mNameError\u001b[0m                                 Traceback (most recent call last)",
      "Cell \u001b[1;32mIn[5], line 1\u001b[0m\n\u001b[1;32m----> 1\u001b[0m df\n",
      "\u001b[1;31mNameError\u001b[0m: name 'df' is not defined"
     ]
    }
   ],
   "source": [
    "df"
   ]
  },
  {
   "cell_type": "code",
   "execution_count": 6,
   "id": "0c835c1b-40f8-40fa-9c72-9db43d639231",
   "metadata": {},
   "outputs": [
    {
     "name": "stdout",
     "output_type": "stream",
     "text": [
      "현재 파이썬 프로세스가 사용하는 메모리: 207.89 MB\n"
     ]
    }
   ],
   "source": [
    "import psutil\n",
    "import os\n",
    "\n",
    "# 현재 파이썬 프로세스 ID 가져오기\n",
    "pid = os.getpid()\n",
    "\n",
    "# PID를 이용해 프로세스 객체 생성\n",
    "process = psutil.Process(pid)\n",
    "\n",
    "# 메모리 정보 가져오기 (bytes 단위)\n",
    "mem_info = process.memory_info()\n",
    "\n",
    "# RSS(Resident Set Size) 메모리 확인\n",
    "# RSS는 물리적(RAM) 메모리에 올라와 있는 실제 메모리 사용량입니다.\n",
    "print(f\"현재 파이썬 프로세스가 사용하는 메모리: {mem_info.rss / (1024 * 1024):.2f} MB\")"
   ]
  },
  {
   "cell_type": "code",
   "execution_count": null,
   "id": "e10d69d7-90c2-4c22-9689-c25417f4de26",
   "metadata": {},
   "outputs": [],
   "source": []
  }
 ],
 "metadata": {
  "kernelspec": {
   "display_name": "Python 3 (ipykernel)",
   "language": "python",
   "name": "python3"
  },
  "language_info": {
   "codemirror_mode": {
    "name": "ipython",
    "version": 3
   },
   "file_extension": ".py",
   "mimetype": "text/x-python",
   "name": "python",
   "nbconvert_exporter": "python",
   "pygments_lexer": "ipython3",
   "version": "3.12.7"
  }
 },
 "nbformat": 4,
 "nbformat_minor": 5
}
