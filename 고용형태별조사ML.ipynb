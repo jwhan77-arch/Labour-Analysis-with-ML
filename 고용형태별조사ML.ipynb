{
 "cells": [
  {
   "cell_type": "code",
   "execution_count": 1,
   "id": "c739151e-f487-4334-8226-9ce19d0e515f",
   "metadata": {},
   "outputs": [],
   "source": [
    "import pandas as pd\n",
    "import numpy as np\n",
    "import xgboost as xgb\n",
    "import shap\n",
    "import matplotlib.pyplot as plt\n",
    "import matplotlib.font_manager as fm\n",
    "from sklearn.model_selection import train_test_split\n",
    "from sklearn.preprocessing import LabelEncoder\n",
    "# from tensorflow.keras.models import Sequential\n",
    "# from tensorflow.keras.layers import Dense, Input\n",
    "import warnings\n",
    "# from sklearn.metrics import mean_squared_error\n",
    "import seaborn as sns"
   ]
  },
  {
   "cell_type": "code",
   "execution_count": 2,
   "id": "748655d4-4ebc-4aa4-bae1-567c638a73f1",
   "metadata": {},
   "outputs": [],
   "source": [
    "file_path=\"data2/고용형태별조사DB_09-02_15-31.csv\"\n",
    "df=pd.read_csv(file_path, encoding=\"cp949\")\n",
    "\n",
    "#데이터 전처리 추가\n",
    "df=df.drop(columns=\"Unnamed: 0\")\n",
    "df['임금총액']=df['정액급여액']+df['초과급여액']+df['상여금성과급총액']/12 #임금총액\n",
    "df['임금총액']=df['임금총액'].astype(int)\n",
    "df=df.drop(columns=['정액급여액','초과급여액','상여금성과급총액'])\n",
    "df['총근로시간']=df['소정실근로시간수']+df['초과실근로시간수']+df['휴일실근로시간수'] #노동시간합계\n",
    "df=df.drop(['소정실근로시간수','초과실근로시간수','휴일실근로시간수'], axis=1)\n",
    "df=df.drop(columns=['소정실근로일수','휴일실근로일수']) #필요없는 칼럼\n",
    "df=df.drop(columns=['입사연도','입사월'], axis=1) #필요없는 칼럼"
   ]
  },
  {
   "cell_type": "code",
   "execution_count": 3,
   "id": "e663fe7a-7c31-4c12-ac86-b4e05e49b29a",
   "metadata": {},
   "outputs": [],
   "source": [
    "#가중치 분리\n",
    "w = df['가중값']\n",
    "df=df.drop(columns='가중값', axis=1)\n",
    "\n",
    "#수치 데이터를 범주 데이터로 변환\n",
    "col_code_kewords=['여부','코드']\n",
    "all_col = df.columns.tolist()\n",
    "boundary_list={}\n",
    "\n",
    "q_wage= 5 #임금총액의 분위수 \n",
    "q_features=10 #나머지 범주들의 분류 갯수\n",
    "\n",
    "for col in all_col:\n",
    "    if not any(keyword in col for keyword in col_code_kewords):\n",
    "        \n",
    "        if \"액\" in col:\n",
    "            col_name_decile= f\"{col}_{q_wage}분위\"\n",
    "            df[col_name_decile], bin_edges = pd.qcut(df[col], q=q_wage, duplicates='drop',labels=range(0,q_wage), retbins=True)\n",
    "        else:\n",
    "            col_name_decile= f\"{col}_{q_features}분위\"\n",
    "            df[col_name_decile], bin_edges = pd.qcut(df[col], q=q_features, duplicates='drop',labels=False, retbins=True)\n",
    "        boundary_list[col]=bin_edges.tolist()\n",
    "        df=df.drop(columns=col, axis=1)\n",
    "        df[col_name_decile]=df[col_name_decile].astype(int)\n"
   ]
  },
  {
   "cell_type": "code",
   "execution_count": 4,
   "id": "6c514435-0997-4bd8-896a-49a926ade232",
   "metadata": {},
   "outputs": [],
   "source": [
    "#XGBoost 전처리\n",
    "target_col= f\"임금총액_{q_wage}분위\"\n",
    "y= df[target_col]\n",
    "df=df.drop(columns=target_col, axis=1)\n",
    "x=df\n",
    "x_t, x_10, y_t, y_10, w_t, w_10 = train_test_split(x,y,w, test_size=0.1, random_state=36)\n",
    "del df\n"
   ]
  },
  {
   "cell_type": "code",
   "execution_count": 6,
   "id": "8025b322-100f-4321-be4b-43ab28ba99d7",
   "metadata": {},
   "outputs": [],
   "source": [
    "#XGboost\n",
    "\n",
    "from sklearn.metrics import accuracy_score, confusion_matrix, classification_report\n",
    "model= xgb.XGBClassifier(\n",
    "    objective='multi:softmax', \n",
    "    num_class=q_wage, \n",
    "    eval_metric='mlogloss', \n",
    "    n_estimators=1000, \n",
    "    learning_rate=0.05, \n",
    "    max_depth=8,\n",
    "    verbosity=0)\n",
    "\n",
    "model.fit(x_t, y_t, sample_weight=w_t)\n",
    "y_pred = model.predict(x_10)\n"
   ]
  },
  {
   "cell_type": "code",
   "execution_count": 7,
   "id": "64a34d7e-cdec-4aee-8c4f-7c829e36e2fe",
   "metadata": {},
   "outputs": [
    {
     "name": "stdout",
     "output_type": "stream",
     "text": [
      "\n",
      "정확도: 0.6357\n",
      "\n",
      "### 혼동 행렬 ###\n",
      "[[30580  6723   920   362   127]\n",
      " [ 5005 24456  7419  1722   521]\n",
      " [  944  8700 19413  8292  1834]\n",
      " [  310  1823  7684 20122  8811]\n",
      " [   99   422  1301  6817 30366]]\n",
      "\n",
      "### 분류 리포트 ###\n",
      "              precision    recall  f1-score   support\n",
      "\n",
      "           0       0.83      0.79      0.81     38712\n",
      "           1       0.58      0.63      0.60     39123\n",
      "           2       0.53      0.50      0.51     39183\n",
      "           3       0.54      0.52      0.53     38750\n",
      "           4       0.73      0.78      0.75     39005\n",
      "\n",
      "    accuracy                           0.64    194773\n",
      "   macro avg       0.64      0.64      0.64    194773\n",
      "weighted avg       0.64      0.64      0.64    194773\n",
      "\n"
     ]
    }
   ],
   "source": [
    "#정확도 및 모델 품질 측정\n",
    "\n",
    "accuracy = accuracy_score(y_10, y_pred, sample_weight=w_10)\n",
    "print(f\"\\n정확도: {accuracy:.4f}\")\n",
    "print(\"\\n### 혼동 행렬 ###\")\n",
    "print(confusion_matrix(y_10, y_pred))\n",
    "\n",
    "print(\"\\n### 분류 리포트 ###\")\n",
    "print(classification_report(y_10, y_pred))"
   ]
  },
  {
   "cell_type": "code",
   "execution_count": 9,
   "id": "ba41e8dd-1182-475e-8761-75a3ef15b937",
   "metadata": {},
   "outputs": [],
   "source": [
    "plt.rc('font', family='NanumGothic')"
   ]
  },
  {
   "cell_type": "code",
   "execution_count": 10,
   "id": "57cdd7df-6700-4399-9186-bb47c39a785f",
   "metadata": {},
   "outputs": [],
   "source": [
    "#변수 영향력 분석_ 샤프 분석\n",
    "\n",
    "x_shap = x_10.sample(n=1000, random_state=12)\n",
    "explainer =shap.TreeExplainer(model)\n",
    "shap_value = explainer(x_shap)\n"
   ]
  },
  {
   "cell_type": "code",
   "execution_count": null,
   "id": "7fc6666f-5a61-4b4d-bc85-5ba325f55d1b",
   "metadata": {},
   "outputs": [],
   "source": [
    "#샤프 값 후처리\n",
    "\n",
    "df_shap=pd.DataFrame(columns=shap_value.feature_names)\n",
    "f_num =len(x_shap.columns)\n",
    "shap_mean_value=np.empty((q_wage,f_num))\n",
    "for i in range(q_wage):\n",
    "    for j in range(f_num):\n",
    "        shap_mean_value[i][j] = np.abs(shap_value.values[:,j,i]).mean()\n",
    "\n",
    "index_list=[]\n",
    "for i in range(q_wage):\n",
    "    index_name=f\"임금{i+1}분위\"\n",
    "    index_list.append(index_name)\n",
    "\n",
    "df_shap=pd.DataFrame(shap_mean_value, index=index_list, columns=shap_value.feature_names)\n",
    "print (df_shap)"
   ]
  },
  {
   "cell_type": "code",
   "execution_count": null,
   "id": "7deaecd1-2100-4e89-8606-3d9821358cb5",
   "metadata": {},
   "outputs": [],
   "source": [
    "# 애니메이션 막대 전처리\n",
    "df_shap.index.name = '임금분위'\n",
    "\n",
    "df_reset= df_shap.reset_index()\n",
    "df_pivot =df_reset.melt(\n",
    "    id_vars='임금분위',\n",
    "    var_name='항목',\n",
    "    value_name='영향력'\n",
    ")\n",
    "\n",
    "df_pivot['순위']=df_pivot.groupby('임금분위')['영향력'].rank(method=\"first\", ascending=False)\n",
    "df_sorted= df_pivot.sort_values(by=['임금분위','항목'], ascending=[True, False])\n",
    "df_sorted['순위']=df_sorted['순위'].astype(str)\n",
    "fixed_order = sorted(df_sorted['항목'].unique())"
   ]
  },
  {
   "cell_type": "code",
   "execution_count": 163,
   "id": "feda9c2e-1a5e-46c1-a3e2-3a1f88b661d8",
   "metadata": {},
   "outputs": [
    {
     "data": {
      "application/vnd.plotly.v1+json": {
       "config": {
        "plotlyServerURL": "https://plot.ly"
       },
       "data": [
        {
         "alignmentgroup": "True",
         "hovertemplate": "순위=13<br>임금분위=임금1분위<br>임금에 대한 영향력=%{x}<br>변수=%{text}<extra></extra>",
         "legendgroup": "13",
         "marker": {
          "color": "tomato",
          "pattern": {
           "shape": ""
          }
         },
         "name": "13",
         "offsetgroup": "13",
         "orientation": "h",
         "showlegend": true,
         "text": [
          "퇴직연금가입여부"
         ],
         "textposition": "auto",
         "type": "bar",
         "x": [
          0.17953747510910034
         ],
         "xaxis": "x",
         "y": [
          "퇴직연금가입여부"
         ],
         "yaxis": "y"
        },
        {
         "alignmentgroup": "True",
         "hovertemplate": "순위=1<br>임금분위=임금1분위<br>임금에 대한 영향력=%{x}<br>변수=%{text}<extra></extra>",
         "legendgroup": "1",
         "marker": {
          "color": "forestgreen",
          "pattern": {
           "shape": ""
          }
         },
         "name": "1",
         "offsetgroup": "1",
         "orientation": "h",
         "showlegend": true,
         "text": [
          "총근로시간_10분위"
         ],
         "textposition": "auto",
         "type": "bar",
         "x": [
          0.9995107650756836
         ],
         "xaxis": "x",
         "y": [
          "총근로시간_10분위"
         ],
         "yaxis": "y"
        },
        {
         "alignmentgroup": "True",
         "hovertemplate": "순위=8<br>임금분위=임금1분위<br>임금에 대한 영향력=%{x}<br>변수=%{text}<extra></extra>",
         "legendgroup": "8",
         "marker": {
          "color": "tomato",
          "pattern": {
           "shape": ""
          }
         },
         "name": "8",
         "offsetgroup": "8",
         "orientation": "h",
         "showlegend": true,
         "text": [
          "직업대분류코드"
         ],
         "textposition": "auto",
         "type": "bar",
         "x": [
          0.3435644507408142
         ],
         "xaxis": "x",
         "y": [
          "직업대분류코드"
         ],
         "yaxis": "y"
        },
        {
         "alignmentgroup": "True",
         "hovertemplate": "순위=7<br>임금분위=임금1분위<br>임금에 대한 영향력=%{x}<br>변수=%{text}<extra></extra>",
         "legendgroup": "7",
         "marker": {
          "color": "tomato",
          "pattern": {
           "shape": ""
          }
         },
         "name": "7",
         "offsetgroup": "7",
         "orientation": "h",
         "showlegend": true,
         "text": [
          "임금산정기준코드"
         ],
         "textposition": "auto",
         "type": "bar",
         "x": [
          0.36308035254478455
         ],
         "xaxis": "x",
         "y": [
          "임금산정기준코드"
         ],
         "yaxis": "y"
        },
        {
         "alignmentgroup": "True",
         "hovertemplate": "순위=12<br>임금분위=임금1분위<br>임금에 대한 영향력=%{x}<br>변수=%{text}<extra></extra>",
         "legendgroup": "12",
         "marker": {
          "color": "tomato",
          "pattern": {
           "shape": ""
          }
         },
         "name": "12",
         "offsetgroup": "12",
         "orientation": "h",
         "showlegend": true,
         "text": [
          "연령_10분위"
         ],
         "textposition": "auto",
         "type": "bar",
         "x": [
          0.18187272548675537
         ],
         "xaxis": "x",
         "y": [
          "연령_10분위"
         ],
         "yaxis": "y"
        },
        {
         "alignmentgroup": "True",
         "hovertemplate": "순위=5<br>임금분위=임금1분위<br>임금에 대한 영향력=%{x}<br>변수=%{text}<extra></extra>",
         "legendgroup": "5",
         "marker": {
          "color": "tomato",
          "pattern": {
           "shape": ""
          }
         },
         "name": "5",
         "offsetgroup": "5",
         "orientation": "h",
         "showlegend": true,
         "text": [
          "성별코드"
         ],
         "textposition": "auto",
         "type": "bar",
         "x": [
          0.3708541691303253
         ],
         "xaxis": "x",
         "y": [
          "성별코드"
         ],
         "yaxis": "y"
        },
        {
         "alignmentgroup": "True",
         "hovertemplate": "순위=4<br>임금분위=임금1분위<br>임금에 대한 영향력=%{x}<br>변수=%{text}<extra></extra>",
         "legendgroup": "4",
         "marker": {
          "color": "tomato",
          "pattern": {
           "shape": ""
          }
         },
         "name": "4",
         "offsetgroup": "4",
         "orientation": "h",
         "showlegend": true,
         "text": [
          "상여금지급여부"
         ],
         "textposition": "auto",
         "type": "bar",
         "x": [
          0.45381203293800354
         ],
         "xaxis": "x",
         "y": [
          "상여금지급여부"
         ],
         "yaxis": "y"
        },
        {
         "alignmentgroup": "True",
         "hovertemplate": "순위=19<br>임금분위=임금1분위<br>임금에 대한 영향력=%{x}<br>변수=%{text}<extra></extra>",
         "legendgroup": "19",
         "marker": {
          "color": "tomato",
          "pattern": {
           "shape": ""
          }
         },
         "name": "19",
         "offsetgroup": "19",
         "orientation": "h",
         "showlegend": true,
         "text": [
          "산재보험가입여부"
         ],
         "textposition": "auto",
         "type": "bar",
         "x": [
          0.017347943037748337
         ],
         "xaxis": "x",
         "y": [
          "산재보험가입여부"
         ],
         "yaxis": "y"
        },
        {
         "alignmentgroup": "True",
         "hovertemplate": "순위=6<br>임금분위=임금1분위<br>임금에 대한 영향력=%{x}<br>변수=%{text}<extra></extra>",
         "legendgroup": "6",
         "marker": {
          "color": "tomato",
          "pattern": {
           "shape": ""
          }
         },
         "name": "6",
         "offsetgroup": "6",
         "orientation": "h",
         "showlegend": true,
         "text": [
          "산업대분류코드"
         ],
         "textposition": "auto",
         "type": "bar",
         "x": [
          0.3632711172103882
         ],
         "xaxis": "x",
         "y": [
          "산업대분류코드"
         ],
         "yaxis": "y"
        },
        {
         "alignmentgroup": "True",
         "hovertemplate": "순위=2<br>임금분위=임금1분위<br>임금에 대한 영향력=%{x}<br>변수=%{text}<extra></extra>",
         "legendgroup": "2",
         "marker": {
          "color": "saddlebrown",
          "pattern": {
           "shape": ""
          }
         },
         "name": "2",
         "offsetgroup": "2",
         "orientation": "h",
         "showlegend": true,
         "text": [
          "사업체규모코드"
         ],
         "textposition": "auto",
         "type": "bar",
         "x": [
          0.691493034362793
         ],
         "xaxis": "x",
         "y": [
          "사업체규모코드"
         ],
         "yaxis": "y"
        },
        {
         "alignmentgroup": "True",
         "hovertemplate": "순위=10<br>임금분위=임금1분위<br>임금에 대한 영향력=%{x}<br>변수=%{text}<extra></extra>",
         "legendgroup": "10",
         "marker": {
          "color": "tomato",
          "pattern": {
           "shape": ""
          }
         },
         "name": "10",
         "offsetgroup": "10",
         "orientation": "h",
         "showlegend": true,
         "text": [
          "노동조합가입코드"
         ],
         "textposition": "auto",
         "type": "bar",
         "x": [
          0.21902643144130707
         ],
         "xaxis": "x",
         "y": [
          "노동조합가입코드"
         ],
         "yaxis": "y"
        },
        {
         "alignmentgroup": "True",
         "hovertemplate": "순위=14<br>임금분위=임금1분위<br>임금에 대한 영향력=%{x}<br>변수=%{text}<extra></extra>",
         "legendgroup": "14",
         "marker": {
          "color": "tomato",
          "pattern": {
           "shape": ""
          }
         },
         "name": "14",
         "offsetgroup": "14",
         "orientation": "h",
         "showlegend": true,
         "text": [
          "근무형태코드"
         ],
         "textposition": "auto",
         "type": "bar",
         "x": [
          0.12968383729457855
         ],
         "xaxis": "x",
         "y": [
          "근무형태코드"
         ],
         "yaxis": "y"
        },
        {
         "alignmentgroup": "True",
         "hovertemplate": "순위=17<br>임금분위=임금1분위<br>임금에 대한 영향력=%{x}<br>변수=%{text}<extra></extra>",
         "legendgroup": "17",
         "marker": {
          "color": "tomato",
          "pattern": {
           "shape": ""
          }
         },
         "name": "17",
         "offsetgroup": "17",
         "orientation": "h",
         "showlegend": true,
         "text": [
          "근무형태_전일제상용여부"
         ],
         "textposition": "auto",
         "type": "bar",
         "x": [
          0.03922146186232567
         ],
         "xaxis": "x",
         "y": [
          "근무형태_전일제상용여부"
         ],
         "yaxis": "y"
        },
        {
         "alignmentgroup": "True",
         "hovertemplate": "순위=16<br>임금분위=임금1분위<br>임금에 대한 영향력=%{x}<br>변수=%{text}<extra></extra>",
         "legendgroup": "16",
         "marker": {
          "color": "tomato",
          "pattern": {
           "shape": ""
          }
         },
         "name": "16",
         "offsetgroup": "16",
         "orientation": "h",
         "showlegend": true,
         "text": [
          "국민연금가입여부"
         ],
         "textposition": "auto",
         "type": "bar",
         "x": [
          0.049099646508693695
         ],
         "xaxis": "x",
         "y": [
          "국민연금가입여부"
         ],
         "yaxis": "y"
        },
        {
         "alignmentgroup": "True",
         "hovertemplate": "순위=9<br>임금분위=임금1분위<br>임금에 대한 영향력=%{x}<br>변수=%{text}<extra></extra>",
         "legendgroup": "9",
         "marker": {
          "color": "tomato",
          "pattern": {
           "shape": ""
          }
         },
         "name": "9",
         "offsetgroup": "9",
         "orientation": "h",
         "showlegend": true,
         "text": [
          "교육정도_학력구분코드"
         ],
         "textposition": "auto",
         "type": "bar",
         "x": [
          0.278839111328125
         ],
         "xaxis": "x",
         "y": [
          "교육정도_학력구분코드"
         ],
         "yaxis": "y"
        },
        {
         "alignmentgroup": "True",
         "hovertemplate": "순위=11<br>임금분위=임금1분위<br>임금에 대한 영향력=%{x}<br>변수=%{text}<extra></extra>",
         "legendgroup": "11",
         "marker": {
          "color": "tomato",
          "pattern": {
           "shape": ""
          }
         },
         "name": "11",
         "offsetgroup": "11",
         "orientation": "h",
         "showlegend": true,
         "text": [
          "고용형태코드"
         ],
         "textposition": "auto",
         "type": "bar",
         "x": [
          0.20335909724235535
         ],
         "xaxis": "x",
         "y": [
          "고용형태코드"
         ],
         "yaxis": "y"
        },
        {
         "alignmentgroup": "True",
         "hovertemplate": "순위=15<br>임금분위=임금1분위<br>임금에 대한 영향력=%{x}<br>변수=%{text}<extra></extra>",
         "legendgroup": "15",
         "marker": {
          "color": "tomato",
          "pattern": {
           "shape": ""
          }
         },
         "name": "15",
         "offsetgroup": "15",
         "orientation": "h",
         "showlegend": true,
         "text": [
          "고용보험가입여부"
         ],
         "textposition": "auto",
         "type": "bar",
         "x": [
          0.05104440078139305
         ],
         "xaxis": "x",
         "y": [
          "고용보험가입여부"
         ],
         "yaxis": "y"
        },
        {
         "alignmentgroup": "True",
         "hovertemplate": "순위=3<br>임금분위=임금1분위<br>임금에 대한 영향력=%{x}<br>변수=%{text}<extra></extra>",
         "legendgroup": "3",
         "marker": {
          "color": "saddlebrown",
          "pattern": {
           "shape": ""
          }
         },
         "name": "3",
         "offsetgroup": "3",
         "orientation": "h",
         "showlegend": true,
         "text": [
          "경력년수코드"
         ],
         "textposition": "auto",
         "type": "bar",
         "x": [
          0.46949928998947144
         ],
         "xaxis": "x",
         "y": [
          "경력년수코드"
         ],
         "yaxis": "y"
        },
        {
         "alignmentgroup": "True",
         "hovertemplate": "순위=18<br>임금분위=임금1분위<br>임금에 대한 영향력=%{x}<br>변수=%{text}<extra></extra>",
         "legendgroup": "18",
         "marker": {
          "color": "tomato",
          "pattern": {
           "shape": ""
          }
         },
         "name": "18",
         "offsetgroup": "18",
         "orientation": "h",
         "showlegend": true,
         "text": [
          "건강보험가입여부"
         ],
         "textposition": "auto",
         "type": "bar",
         "x": [
          0.03378637880086899
         ],
         "xaxis": "x",
         "y": [
          "건강보험가입여부"
         ],
         "yaxis": "y"
        }
       ],
       "frames": [
        {
         "data": [
          {
           "alignmentgroup": "True",
           "hovertemplate": "순위=13<br>임금분위=임금1분위<br>임금에 대한 영향력=%{x}<br>변수=%{text}<extra></extra>",
           "legendgroup": "13",
           "marker": {
            "color": "tomato",
            "pattern": {
             "shape": ""
            }
           },
           "name": "13",
           "offsetgroup": "13",
           "orientation": "h",
           "showlegend": true,
           "text": [
            "퇴직연금가입여부"
           ],
           "textposition": "auto",
           "type": "bar",
           "x": [
            0.17953747510910034
           ],
           "xaxis": "x",
           "y": [
            "퇴직연금가입여부"
           ],
           "yaxis": "y"
          },
          {
           "alignmentgroup": "True",
           "hovertemplate": "순위=1<br>임금분위=임금1분위<br>임금에 대한 영향력=%{x}<br>변수=%{text}<extra></extra>",
           "legendgroup": "1",
           "marker": {
            "color": "forestgreen",
            "pattern": {
             "shape": ""
            }
           },
           "name": "1",
           "offsetgroup": "1",
           "orientation": "h",
           "showlegend": true,
           "text": [
            "총근로시간_10분위"
           ],
           "textposition": "auto",
           "type": "bar",
           "x": [
            0.9995107650756836
           ],
           "xaxis": "x",
           "y": [
            "총근로시간_10분위"
           ],
           "yaxis": "y"
          },
          {
           "alignmentgroup": "True",
           "hovertemplate": "순위=8<br>임금분위=임금1분위<br>임금에 대한 영향력=%{x}<br>변수=%{text}<extra></extra>",
           "legendgroup": "8",
           "marker": {
            "color": "tomato",
            "pattern": {
             "shape": ""
            }
           },
           "name": "8",
           "offsetgroup": "8",
           "orientation": "h",
           "showlegend": true,
           "text": [
            "직업대분류코드"
           ],
           "textposition": "auto",
           "type": "bar",
           "x": [
            0.3435644507408142
           ],
           "xaxis": "x",
           "y": [
            "직업대분류코드"
           ],
           "yaxis": "y"
          },
          {
           "alignmentgroup": "True",
           "hovertemplate": "순위=7<br>임금분위=임금1분위<br>임금에 대한 영향력=%{x}<br>변수=%{text}<extra></extra>",
           "legendgroup": "7",
           "marker": {
            "color": "tomato",
            "pattern": {
             "shape": ""
            }
           },
           "name": "7",
           "offsetgroup": "7",
           "orientation": "h",
           "showlegend": true,
           "text": [
            "임금산정기준코드"
           ],
           "textposition": "auto",
           "type": "bar",
           "x": [
            0.36308035254478455
           ],
           "xaxis": "x",
           "y": [
            "임금산정기준코드"
           ],
           "yaxis": "y"
          },
          {
           "alignmentgroup": "True",
           "hovertemplate": "순위=12<br>임금분위=임금1분위<br>임금에 대한 영향력=%{x}<br>변수=%{text}<extra></extra>",
           "legendgroup": "12",
           "marker": {
            "color": "tomato",
            "pattern": {
             "shape": ""
            }
           },
           "name": "12",
           "offsetgroup": "12",
           "orientation": "h",
           "showlegend": true,
           "text": [
            "연령_10분위"
           ],
           "textposition": "auto",
           "type": "bar",
           "x": [
            0.18187272548675537
           ],
           "xaxis": "x",
           "y": [
            "연령_10분위"
           ],
           "yaxis": "y"
          },
          {
           "alignmentgroup": "True",
           "hovertemplate": "순위=5<br>임금분위=임금1분위<br>임금에 대한 영향력=%{x}<br>변수=%{text}<extra></extra>",
           "legendgroup": "5",
           "marker": {
            "color": "tomato",
            "pattern": {
             "shape": ""
            }
           },
           "name": "5",
           "offsetgroup": "5",
           "orientation": "h",
           "showlegend": true,
           "text": [
            "성별코드"
           ],
           "textposition": "auto",
           "type": "bar",
           "x": [
            0.3708541691303253
           ],
           "xaxis": "x",
           "y": [
            "성별코드"
           ],
           "yaxis": "y"
          },
          {
           "alignmentgroup": "True",
           "hovertemplate": "순위=4<br>임금분위=임금1분위<br>임금에 대한 영향력=%{x}<br>변수=%{text}<extra></extra>",
           "legendgroup": "4",
           "marker": {
            "color": "tomato",
            "pattern": {
             "shape": ""
            }
           },
           "name": "4",
           "offsetgroup": "4",
           "orientation": "h",
           "showlegend": true,
           "text": [
            "상여금지급여부"
           ],
           "textposition": "auto",
           "type": "bar",
           "x": [
            0.45381203293800354
           ],
           "xaxis": "x",
           "y": [
            "상여금지급여부"
           ],
           "yaxis": "y"
          },
          {
           "alignmentgroup": "True",
           "hovertemplate": "순위=19<br>임금분위=임금1분위<br>임금에 대한 영향력=%{x}<br>변수=%{text}<extra></extra>",
           "legendgroup": "19",
           "marker": {
            "color": "tomato",
            "pattern": {
             "shape": ""
            }
           },
           "name": "19",
           "offsetgroup": "19",
           "orientation": "h",
           "showlegend": true,
           "text": [
            "산재보험가입여부"
           ],
           "textposition": "auto",
           "type": "bar",
           "x": [
            0.017347943037748337
           ],
           "xaxis": "x",
           "y": [
            "산재보험가입여부"
           ],
           "yaxis": "y"
          },
          {
           "alignmentgroup": "True",
           "hovertemplate": "순위=6<br>임금분위=임금1분위<br>임금에 대한 영향력=%{x}<br>변수=%{text}<extra></extra>",
           "legendgroup": "6",
           "marker": {
            "color": "tomato",
            "pattern": {
             "shape": ""
            }
           },
           "name": "6",
           "offsetgroup": "6",
           "orientation": "h",
           "showlegend": true,
           "text": [
            "산업대분류코드"
           ],
           "textposition": "auto",
           "type": "bar",
           "x": [
            0.3632711172103882
           ],
           "xaxis": "x",
           "y": [
            "산업대분류코드"
           ],
           "yaxis": "y"
          },
          {
           "alignmentgroup": "True",
           "hovertemplate": "순위=2<br>임금분위=임금1분위<br>임금에 대한 영향력=%{x}<br>변수=%{text}<extra></extra>",
           "legendgroup": "2",
           "marker": {
            "color": "saddlebrown",
            "pattern": {
             "shape": ""
            }
           },
           "name": "2",
           "offsetgroup": "2",
           "orientation": "h",
           "showlegend": true,
           "text": [
            "사업체규모코드"
           ],
           "textposition": "auto",
           "type": "bar",
           "x": [
            0.691493034362793
           ],
           "xaxis": "x",
           "y": [
            "사업체규모코드"
           ],
           "yaxis": "y"
          },
          {
           "alignmentgroup": "True",
           "hovertemplate": "순위=10<br>임금분위=임금1분위<br>임금에 대한 영향력=%{x}<br>변수=%{text}<extra></extra>",
           "legendgroup": "10",
           "marker": {
            "color": "tomato",
            "pattern": {
             "shape": ""
            }
           },
           "name": "10",
           "offsetgroup": "10",
           "orientation": "h",
           "showlegend": true,
           "text": [
            "노동조합가입코드"
           ],
           "textposition": "auto",
           "type": "bar",
           "x": [
            0.21902643144130707
           ],
           "xaxis": "x",
           "y": [
            "노동조합가입코드"
           ],
           "yaxis": "y"
          },
          {
           "alignmentgroup": "True",
           "hovertemplate": "순위=14<br>임금분위=임금1분위<br>임금에 대한 영향력=%{x}<br>변수=%{text}<extra></extra>",
           "legendgroup": "14",
           "marker": {
            "color": "tomato",
            "pattern": {
             "shape": ""
            }
           },
           "name": "14",
           "offsetgroup": "14",
           "orientation": "h",
           "showlegend": true,
           "text": [
            "근무형태코드"
           ],
           "textposition": "auto",
           "type": "bar",
           "x": [
            0.12968383729457855
           ],
           "xaxis": "x",
           "y": [
            "근무형태코드"
           ],
           "yaxis": "y"
          },
          {
           "alignmentgroup": "True",
           "hovertemplate": "순위=17<br>임금분위=임금1분위<br>임금에 대한 영향력=%{x}<br>변수=%{text}<extra></extra>",
           "legendgroup": "17",
           "marker": {
            "color": "tomato",
            "pattern": {
             "shape": ""
            }
           },
           "name": "17",
           "offsetgroup": "17",
           "orientation": "h",
           "showlegend": true,
           "text": [
            "근무형태_전일제상용여부"
           ],
           "textposition": "auto",
           "type": "bar",
           "x": [
            0.03922146186232567
           ],
           "xaxis": "x",
           "y": [
            "근무형태_전일제상용여부"
           ],
           "yaxis": "y"
          },
          {
           "alignmentgroup": "True",
           "hovertemplate": "순위=16<br>임금분위=임금1분위<br>임금에 대한 영향력=%{x}<br>변수=%{text}<extra></extra>",
           "legendgroup": "16",
           "marker": {
            "color": "tomato",
            "pattern": {
             "shape": ""
            }
           },
           "name": "16",
           "offsetgroup": "16",
           "orientation": "h",
           "showlegend": true,
           "text": [
            "국민연금가입여부"
           ],
           "textposition": "auto",
           "type": "bar",
           "x": [
            0.049099646508693695
           ],
           "xaxis": "x",
           "y": [
            "국민연금가입여부"
           ],
           "yaxis": "y"
          },
          {
           "alignmentgroup": "True",
           "hovertemplate": "순위=9<br>임금분위=임금1분위<br>임금에 대한 영향력=%{x}<br>변수=%{text}<extra></extra>",
           "legendgroup": "9",
           "marker": {
            "color": "tomato",
            "pattern": {
             "shape": ""
            }
           },
           "name": "9",
           "offsetgroup": "9",
           "orientation": "h",
           "showlegend": true,
           "text": [
            "교육정도_학력구분코드"
           ],
           "textposition": "auto",
           "type": "bar",
           "x": [
            0.278839111328125
           ],
           "xaxis": "x",
           "y": [
            "교육정도_학력구분코드"
           ],
           "yaxis": "y"
          },
          {
           "alignmentgroup": "True",
           "hovertemplate": "순위=11<br>임금분위=임금1분위<br>임금에 대한 영향력=%{x}<br>변수=%{text}<extra></extra>",
           "legendgroup": "11",
           "marker": {
            "color": "tomato",
            "pattern": {
             "shape": ""
            }
           },
           "name": "11",
           "offsetgroup": "11",
           "orientation": "h",
           "showlegend": true,
           "text": [
            "고용형태코드"
           ],
           "textposition": "auto",
           "type": "bar",
           "x": [
            0.20335909724235535
           ],
           "xaxis": "x",
           "y": [
            "고용형태코드"
           ],
           "yaxis": "y"
          },
          {
           "alignmentgroup": "True",
           "hovertemplate": "순위=15<br>임금분위=임금1분위<br>임금에 대한 영향력=%{x}<br>변수=%{text}<extra></extra>",
           "legendgroup": "15",
           "marker": {
            "color": "tomato",
            "pattern": {
             "shape": ""
            }
           },
           "name": "15",
           "offsetgroup": "15",
           "orientation": "h",
           "showlegend": true,
           "text": [
            "고용보험가입여부"
           ],
           "textposition": "auto",
           "type": "bar",
           "x": [
            0.05104440078139305
           ],
           "xaxis": "x",
           "y": [
            "고용보험가입여부"
           ],
           "yaxis": "y"
          },
          {
           "alignmentgroup": "True",
           "hovertemplate": "순위=3<br>임금분위=임금1분위<br>임금에 대한 영향력=%{x}<br>변수=%{text}<extra></extra>",
           "legendgroup": "3",
           "marker": {
            "color": "saddlebrown",
            "pattern": {
             "shape": ""
            }
           },
           "name": "3",
           "offsetgroup": "3",
           "orientation": "h",
           "showlegend": true,
           "text": [
            "경력년수코드"
           ],
           "textposition": "auto",
           "type": "bar",
           "x": [
            0.46949928998947144
           ],
           "xaxis": "x",
           "y": [
            "경력년수코드"
           ],
           "yaxis": "y"
          },
          {
           "alignmentgroup": "True",
           "hovertemplate": "순위=18<br>임금분위=임금1분위<br>임금에 대한 영향력=%{x}<br>변수=%{text}<extra></extra>",
           "legendgroup": "18",
           "marker": {
            "color": "tomato",
            "pattern": {
             "shape": ""
            }
           },
           "name": "18",
           "offsetgroup": "18",
           "orientation": "h",
           "showlegend": true,
           "text": [
            "건강보험가입여부"
           ],
           "textposition": "auto",
           "type": "bar",
           "x": [
            0.03378637880086899
           ],
           "xaxis": "x",
           "y": [
            "건강보험가입여부"
           ],
           "yaxis": "y"
          }
         ],
         "name": "임금1분위"
        },
        {
         "data": [
          {
           "alignmentgroup": "True",
           "hovertemplate": "순위=13<br>임금분위=임금2분위<br>임금에 대한 영향력=%{x}<br>변수=%{text}<extra></extra>",
           "legendgroup": "13",
           "marker": {
            "color": "tomato",
            "pattern": {
             "shape": ""
            }
           },
           "name": "13",
           "offsetgroup": "13",
           "orientation": "h",
           "showlegend": true,
           "text": [
            "근무형태코드"
           ],
           "textposition": "auto",
           "type": "bar",
           "x": [
            0.07539968192577362
           ],
           "xaxis": "x",
           "y": [
            "근무형태코드"
           ],
           "yaxis": "y"
          },
          {
           "alignmentgroup": "True",
           "hovertemplate": "순위=1<br>임금분위=임금2분위<br>임금에 대한 영향력=%{x}<br>변수=%{text}<extra></extra>",
           "legendgroup": "1",
           "marker": {
            "color": "forestgreen",
            "pattern": {
             "shape": ""
            }
           },
           "name": "1",
           "offsetgroup": "1",
           "orientation": "h",
           "showlegend": true,
           "text": [
            "사업체규모코드"
           ],
           "textposition": "auto",
           "type": "bar",
           "x": [
            0.4331998825073242
           ],
           "xaxis": "x",
           "y": [
            "사업체규모코드"
           ],
           "yaxis": "y"
          },
          {
           "alignmentgroup": "True",
           "hovertemplate": "순위=8<br>임금분위=임금2분위<br>임금에 대한 영향력=%{x}<br>변수=%{text}<extra></extra>",
           "legendgroup": "8",
           "marker": {
            "color": "tomato",
            "pattern": {
             "shape": ""
            }
           },
           "name": "8",
           "offsetgroup": "8",
           "orientation": "h",
           "showlegend": true,
           "text": [
            "임금산정기준코드"
           ],
           "textposition": "auto",
           "type": "bar",
           "x": [
            0.17917081713676453
           ],
           "xaxis": "x",
           "y": [
            "임금산정기준코드"
           ],
           "yaxis": "y"
          },
          {
           "alignmentgroup": "True",
           "hovertemplate": "순위=7<br>임금분위=임금2분위<br>임금에 대한 영향력=%{x}<br>변수=%{text}<extra></extra>",
           "legendgroup": "7",
           "marker": {
            "color": "tomato",
            "pattern": {
             "shape": ""
            }
           },
           "name": "7",
           "offsetgroup": "7",
           "orientation": "h",
           "showlegend": true,
           "text": [
            "직업대분류코드"
           ],
           "textposition": "auto",
           "type": "bar",
           "x": [
            0.19992715120315552
           ],
           "xaxis": "x",
           "y": [
            "직업대분류코드"
           ],
           "yaxis": "y"
          },
          {
           "alignmentgroup": "True",
           "hovertemplate": "순위=12<br>임금분위=임금2분위<br>임금에 대한 영향력=%{x}<br>변수=%{text}<extra></extra>",
           "legendgroup": "12",
           "marker": {
            "color": "tomato",
            "pattern": {
             "shape": ""
            }
           },
           "name": "12",
           "offsetgroup": "12",
           "orientation": "h",
           "showlegend": true,
           "text": [
            "고용형태코드"
           ],
           "textposition": "auto",
           "type": "bar",
           "x": [
            0.10871496796607971
           ],
           "xaxis": "x",
           "y": [
            "고용형태코드"
           ],
           "yaxis": "y"
          },
          {
           "alignmentgroup": "True",
           "hovertemplate": "순위=5<br>임금분위=임금2분위<br>임금에 대한 영향력=%{x}<br>변수=%{text}<extra></extra>",
           "legendgroup": "5",
           "marker": {
            "color": "tomato",
            "pattern": {
             "shape": ""
            }
           },
           "name": "5",
           "offsetgroup": "5",
           "orientation": "h",
           "showlegend": true,
           "text": [
            "산업대분류코드"
           ],
           "textposition": "auto",
           "type": "bar",
           "x": [
            0.2380416840314865
           ],
           "xaxis": "x",
           "y": [
            "산업대분류코드"
           ],
           "yaxis": "y"
          },
          {
           "alignmentgroup": "True",
           "hovertemplate": "순위=4<br>임금분위=임금2분위<br>임금에 대한 영향력=%{x}<br>변수=%{text}<extra></extra>",
           "legendgroup": "4",
           "marker": {
            "color": "tomato",
            "pattern": {
             "shape": ""
            }
           },
           "name": "4",
           "offsetgroup": "4",
           "orientation": "h",
           "showlegend": true,
           "text": [
            "성별코드"
           ],
           "textposition": "auto",
           "type": "bar",
           "x": [
            0.2395567148923874
           ],
           "xaxis": "x",
           "y": [
            "성별코드"
           ],
           "yaxis": "y"
          },
          {
           "alignmentgroup": "True",
           "hovertemplate": "순위=19<br>임금분위=임금2분위<br>임금에 대한 영향력=%{x}<br>변수=%{text}<extra></extra>",
           "legendgroup": "19",
           "marker": {
            "color": "tomato",
            "pattern": {
             "shape": ""
            }
           },
           "name": "19",
           "offsetgroup": "19",
           "orientation": "h",
           "showlegend": true,
           "text": [
            "산재보험가입여부"
           ],
           "textposition": "auto",
           "type": "bar",
           "x": [
            0.015243257395923138
           ],
           "xaxis": "x",
           "y": [
            "산재보험가입여부"
           ],
           "yaxis": "y"
          },
          {
           "alignmentgroup": "True",
           "hovertemplate": "순위=6<br>임금분위=임금2분위<br>임금에 대한 영향력=%{x}<br>변수=%{text}<extra></extra>",
           "legendgroup": "6",
           "marker": {
            "color": "tomato",
            "pattern": {
             "shape": ""
            }
           },
           "name": "6",
           "offsetgroup": "6",
           "orientation": "h",
           "showlegend": true,
           "text": [
            "연령_10분위"
           ],
           "textposition": "auto",
           "type": "bar",
           "x": [
            0.21028533577919006
           ],
           "xaxis": "x",
           "y": [
            "연령_10분위"
           ],
           "yaxis": "y"
          },
          {
           "alignmentgroup": "True",
           "hovertemplate": "순위=2<br>임금분위=임금2분위<br>임금에 대한 영향력=%{x}<br>변수=%{text}<extra></extra>",
           "legendgroup": "2",
           "marker": {
            "color": "saddlebrown",
            "pattern": {
             "shape": ""
            }
           },
           "name": "2",
           "offsetgroup": "2",
           "orientation": "h",
           "showlegend": true,
           "text": [
            "경력년수코드"
           ],
           "textposition": "auto",
           "type": "bar",
           "x": [
            0.3748655319213867
           ],
           "xaxis": "x",
           "y": [
            "경력년수코드"
           ],
           "yaxis": "y"
          },
          {
           "alignmentgroup": "True",
           "hovertemplate": "순위=10<br>임금분위=임금2분위<br>임금에 대한 영향력=%{x}<br>변수=%{text}<extra></extra>",
           "legendgroup": "10",
           "marker": {
            "color": "tomato",
            "pattern": {
             "shape": ""
            }
           },
           "name": "10",
           "offsetgroup": "10",
           "orientation": "h",
           "showlegend": true,
           "text": [
            "상여금지급여부"
           ],
           "textposition": "auto",
           "type": "bar",
           "x": [
            0.17254136502742767
           ],
           "xaxis": "x",
           "y": [
            "상여금지급여부"
           ],
           "yaxis": "y"
          },
          {
           "alignmentgroup": "True",
           "hovertemplate": "순위=14<br>임금분위=임금2분위<br>임금에 대한 영향력=%{x}<br>변수=%{text}<extra></extra>",
           "legendgroup": "14",
           "marker": {
            "color": "tomato",
            "pattern": {
             "shape": ""
            }
           },
           "name": "14",
           "offsetgroup": "14",
           "orientation": "h",
           "showlegend": true,
           "text": [
            "퇴직연금가입여부"
           ],
           "textposition": "auto",
           "type": "bar",
           "x": [
            0.06685948371887207
           ],
           "xaxis": "x",
           "y": [
            "퇴직연금가입여부"
           ],
           "yaxis": "y"
          },
          {
           "alignmentgroup": "True",
           "hovertemplate": "순위=17<br>임금분위=임금2분위<br>임금에 대한 영향력=%{x}<br>변수=%{text}<extra></extra>",
           "legendgroup": "17",
           "marker": {
            "color": "tomato",
            "pattern": {
             "shape": ""
            }
           },
           "name": "17",
           "offsetgroup": "17",
           "orientation": "h",
           "showlegend": true,
           "text": [
            "국민연금가입여부"
           ],
           "textposition": "auto",
           "type": "bar",
           "x": [
            0.03046409599483013
           ],
           "xaxis": "x",
           "y": [
            "국민연금가입여부"
           ],
           "yaxis": "y"
          },
          {
           "alignmentgroup": "True",
           "hovertemplate": "순위=16<br>임금분위=임금2분위<br>임금에 대한 영향력=%{x}<br>변수=%{text}<extra></extra>",
           "legendgroup": "16",
           "marker": {
            "color": "tomato",
            "pattern": {
             "shape": ""
            }
           },
           "name": "16",
           "offsetgroup": "16",
           "orientation": "h",
           "showlegend": true,
           "text": [
            "고용보험가입여부"
           ],
           "textposition": "auto",
           "type": "bar",
           "x": [
            0.03424974903464317
           ],
           "xaxis": "x",
           "y": [
            "고용보험가입여부"
           ],
           "yaxis": "y"
          },
          {
           "alignmentgroup": "True",
           "hovertemplate": "순위=9<br>임금분위=임금2분위<br>임금에 대한 영향력=%{x}<br>변수=%{text}<extra></extra>",
           "legendgroup": "9",
           "marker": {
            "color": "tomato",
            "pattern": {
             "shape": ""
            }
           },
           "name": "9",
           "offsetgroup": "9",
           "orientation": "h",
           "showlegend": true,
           "text": [
            "노동조합가입코드"
           ],
           "textposition": "auto",
           "type": "bar",
           "x": [
            0.17811983823776245
           ],
           "xaxis": "x",
           "y": [
            "노동조합가입코드"
           ],
           "yaxis": "y"
          },
          {
           "alignmentgroup": "True",
           "hovertemplate": "순위=11<br>임금분위=임금2분위<br>임금에 대한 영향력=%{x}<br>변수=%{text}<extra></extra>",
           "legendgroup": "11",
           "marker": {
            "color": "tomato",
            "pattern": {
             "shape": ""
            }
           },
           "name": "11",
           "offsetgroup": "11",
           "orientation": "h",
           "showlegend": true,
           "text": [
            "교육정도_학력구분코드"
           ],
           "textposition": "auto",
           "type": "bar",
           "x": [
            0.16664539277553558
           ],
           "xaxis": "x",
           "y": [
            "교육정도_학력구분코드"
           ],
           "yaxis": "y"
          },
          {
           "alignmentgroup": "True",
           "hovertemplate": "순위=15<br>임금분위=임금2분위<br>임금에 대한 영향력=%{x}<br>변수=%{text}<extra></extra>",
           "legendgroup": "15",
           "marker": {
            "color": "tomato",
            "pattern": {
             "shape": ""
            }
           },
           "name": "15",
           "offsetgroup": "15",
           "orientation": "h",
           "showlegend": true,
           "text": [
            "근무형태_전일제상용여부"
           ],
           "textposition": "auto",
           "type": "bar",
           "x": [
            0.04292331635951996
           ],
           "xaxis": "x",
           "y": [
            "근무형태_전일제상용여부"
           ],
           "yaxis": "y"
          },
          {
           "alignmentgroup": "True",
           "hovertemplate": "순위=3<br>임금분위=임금2분위<br>임금에 대한 영향력=%{x}<br>변수=%{text}<extra></extra>",
           "legendgroup": "3",
           "marker": {
            "color": "saddlebrown",
            "pattern": {
             "shape": ""
            }
           },
           "name": "3",
           "offsetgroup": "3",
           "orientation": "h",
           "showlegend": true,
           "text": [
            "총근로시간_10분위"
           ],
           "textposition": "auto",
           "type": "bar",
           "x": [
            0.28931963443756104
           ],
           "xaxis": "x",
           "y": [
            "총근로시간_10분위"
           ],
           "yaxis": "y"
          },
          {
           "alignmentgroup": "True",
           "hovertemplate": "순위=18<br>임금분위=임금2분위<br>임금에 대한 영향력=%{x}<br>변수=%{text}<extra></extra>",
           "legendgroup": "18",
           "marker": {
            "color": "tomato",
            "pattern": {
             "shape": ""
            }
           },
           "name": "18",
           "offsetgroup": "18",
           "orientation": "h",
           "showlegend": true,
           "text": [
            "건강보험가입여부"
           ],
           "textposition": "auto",
           "type": "bar",
           "x": [
            0.02567240595817566
           ],
           "xaxis": "x",
           "y": [
            "건강보험가입여부"
           ],
           "yaxis": "y"
          }
         ],
         "name": "임금2분위"
        },
        {
         "data": [
          {
           "alignmentgroup": "True",
           "hovertemplate": "순위=13<br>임금분위=임금3분위<br>임금에 대한 영향력=%{x}<br>변수=%{text}<extra></extra>",
           "legendgroup": "13",
           "marker": {
            "color": "tomato",
            "pattern": {
             "shape": ""
            }
           },
           "name": "13",
           "offsetgroup": "13",
           "orientation": "h",
           "showlegend": true,
           "text": [
            "고용형태코드"
           ],
           "textposition": "auto",
           "type": "bar",
           "x": [
            0.05477233976125717
           ],
           "xaxis": "x",
           "y": [
            "고용형태코드"
           ],
           "yaxis": "y"
          },
          {
           "alignmentgroup": "True",
           "hovertemplate": "순위=1<br>임금분위=임금3분위<br>임금에 대한 영향력=%{x}<br>변수=%{text}<extra></extra>",
           "legendgroup": "1",
           "marker": {
            "color": "forestgreen",
            "pattern": {
             "shape": ""
            }
           },
           "name": "1",
           "offsetgroup": "1",
           "orientation": "h",
           "showlegend": true,
           "text": [
            "총근로시간_10분위"
           ],
           "textposition": "auto",
           "type": "bar",
           "x": [
            0.30305883288383484
           ],
           "xaxis": "x",
           "y": [
            "총근로시간_10분위"
           ],
           "yaxis": "y"
          },
          {
           "alignmentgroup": "True",
           "hovertemplate": "순위=8<br>임금분위=임금3분위<br>임금에 대한 영향력=%{x}<br>변수=%{text}<extra></extra>",
           "legendgroup": "8",
           "marker": {
            "color": "tomato",
            "pattern": {
             "shape": ""
            }
           },
           "name": "8",
           "offsetgroup": "8",
           "orientation": "h",
           "showlegend": true,
           "text": [
            "임금산정기준코드"
           ],
           "textposition": "auto",
           "type": "bar",
           "x": [
            0.10180551558732986
           ],
           "xaxis": "x",
           "y": [
            "임금산정기준코드"
           ],
           "yaxis": "y"
          },
          {
           "alignmentgroup": "True",
           "hovertemplate": "순위=7<br>임금분위=임금3분위<br>임금에 대한 영향력=%{x}<br>변수=%{text}<extra></extra>",
           "legendgroup": "7",
           "marker": {
            "color": "tomato",
            "pattern": {
             "shape": ""
            }
           },
           "name": "7",
           "offsetgroup": "7",
           "orientation": "h",
           "showlegend": true,
           "text": [
            "근무형태코드"
           ],
           "textposition": "auto",
           "type": "bar",
           "x": [
            0.1223270371556282
           ],
           "xaxis": "x",
           "y": [
            "근무형태코드"
           ],
           "yaxis": "y"
          },
          {
           "alignmentgroup": "True",
           "hovertemplate": "순위=12<br>임금분위=임금3분위<br>임금에 대한 영향력=%{x}<br>변수=%{text}<extra></extra>",
           "legendgroup": "12",
           "marker": {
            "color": "tomato",
            "pattern": {
             "shape": ""
            }
           },
           "name": "12",
           "offsetgroup": "12",
           "orientation": "h",
           "showlegend": true,
           "text": [
            "상여금지급여부"
           ],
           "textposition": "auto",
           "type": "bar",
           "x": [
            0.06018191948533058
           ],
           "xaxis": "x",
           "y": [
            "상여금지급여부"
           ],
           "yaxis": "y"
          },
          {
           "alignmentgroup": "True",
           "hovertemplate": "순위=5<br>임금분위=임금3분위<br>임금에 대한 영향력=%{x}<br>변수=%{text}<extra></extra>",
           "legendgroup": "5",
           "marker": {
            "color": "tomato",
            "pattern": {
             "shape": ""
            }
           },
           "name": "5",
           "offsetgroup": "5",
           "orientation": "h",
           "showlegend": true,
           "text": [
            "산업대분류코드"
           ],
           "textposition": "auto",
           "type": "bar",
           "x": [
            0.1777084916830063
           ],
           "xaxis": "x",
           "y": [
            "산업대분류코드"
           ],
           "yaxis": "y"
          },
          {
           "alignmentgroup": "True",
           "hovertemplate": "순위=4<br>임금분위=임금3분위<br>임금에 대한 영향력=%{x}<br>변수=%{text}<extra></extra>",
           "legendgroup": "4",
           "marker": {
            "color": "tomato",
            "pattern": {
             "shape": ""
            }
           },
           "name": "4",
           "offsetgroup": "4",
           "orientation": "h",
           "showlegend": true,
           "text": [
            "직업대분류코드"
           ],
           "textposition": "auto",
           "type": "bar",
           "x": [
            0.1816723346710205
           ],
           "xaxis": "x",
           "y": [
            "직업대분류코드"
           ],
           "yaxis": "y"
          },
          {
           "alignmentgroup": "True",
           "hovertemplate": "순위=19<br>임금분위=임금3분위<br>임금에 대한 영향력=%{x}<br>변수=%{text}<extra></extra>",
           "legendgroup": "19",
           "marker": {
            "color": "tomato",
            "pattern": {
             "shape": ""
            }
           },
           "name": "19",
           "offsetgroup": "19",
           "orientation": "h",
           "showlegend": true,
           "text": [
            "국민연금가입여부"
           ],
           "textposition": "auto",
           "type": "bar",
           "x": [
            0.013679143972694874
           ],
           "xaxis": "x",
           "y": [
            "국민연금가입여부"
           ],
           "yaxis": "y"
          },
          {
           "alignmentgroup": "True",
           "hovertemplate": "순위=6<br>임금분위=임금3분위<br>임금에 대한 영향력=%{x}<br>변수=%{text}<extra></extra>",
           "legendgroup": "6",
           "marker": {
            "color": "tomato",
            "pattern": {
             "shape": ""
            }
           },
           "name": "6",
           "offsetgroup": "6",
           "orientation": "h",
           "showlegend": true,
           "text": [
            "경력년수코드"
           ],
           "textposition": "auto",
           "type": "bar",
           "x": [
            0.1712401807308197
           ],
           "xaxis": "x",
           "y": [
            "경력년수코드"
           ],
           "yaxis": "y"
          },
          {
           "alignmentgroup": "True",
           "hovertemplate": "순위=2<br>임금분위=임금3분위<br>임금에 대한 영향력=%{x}<br>변수=%{text}<extra></extra>",
           "legendgroup": "2",
           "marker": {
            "color": "saddlebrown",
            "pattern": {
             "shape": ""
            }
           },
           "name": "2",
           "offsetgroup": "2",
           "orientation": "h",
           "showlegend": true,
           "text": [
            "사업체규모코드"
           ],
           "textposition": "auto",
           "type": "bar",
           "x": [
            0.2340136468410492
           ],
           "xaxis": "x",
           "y": [
            "사업체규모코드"
           ],
           "yaxis": "y"
          },
          {
           "alignmentgroup": "True",
           "hovertemplate": "순위=10<br>임금분위=임금3분위<br>임금에 대한 영향력=%{x}<br>변수=%{text}<extra></extra>",
           "legendgroup": "10",
           "marker": {
            "color": "tomato",
            "pattern": {
             "shape": ""
            }
           },
           "name": "10",
           "offsetgroup": "10",
           "orientation": "h",
           "showlegend": true,
           "text": [
            "교육정도_학력구분코드"
           ],
           "textposition": "auto",
           "type": "bar",
           "x": [
            0.08910579234361649
           ],
           "xaxis": "x",
           "y": [
            "교육정도_학력구분코드"
           ],
           "yaxis": "y"
          },
          {
           "alignmentgroup": "True",
           "hovertemplate": "순위=14<br>임금분위=임금3분위<br>임금에 대한 영향력=%{x}<br>변수=%{text}<extra></extra>",
           "legendgroup": "14",
           "marker": {
            "color": "tomato",
            "pattern": {
             "shape": ""
            }
           },
           "name": "14",
           "offsetgroup": "14",
           "orientation": "h",
           "showlegend": true,
           "text": [
            "고용보험가입여부"
           ],
           "textposition": "auto",
           "type": "bar",
           "x": [
            0.035611554980278015
           ],
           "xaxis": "x",
           "y": [
            "고용보험가입여부"
           ],
           "yaxis": "y"
          },
          {
           "alignmentgroup": "True",
           "hovertemplate": "순위=17<br>임금분위=임금3분위<br>임금에 대한 영향력=%{x}<br>변수=%{text}<extra></extra>",
           "legendgroup": "17",
           "marker": {
            "color": "tomato",
            "pattern": {
             "shape": ""
            }
           },
           "name": "17",
           "offsetgroup": "17",
           "orientation": "h",
           "showlegend": true,
           "text": [
            "근무형태_전일제상용여부"
           ],
           "textposition": "auto",
           "type": "bar",
           "x": [
            0.01821509189903736
           ],
           "xaxis": "x",
           "y": [
            "근무형태_전일제상용여부"
           ],
           "yaxis": "y"
          },
          {
           "alignmentgroup": "True",
           "hovertemplate": "순위=16<br>임금분위=임금3분위<br>임금에 대한 영향력=%{x}<br>변수=%{text}<extra></extra>",
           "legendgroup": "16",
           "marker": {
            "color": "tomato",
            "pattern": {
             "shape": ""
            }
           },
           "name": "16",
           "offsetgroup": "16",
           "orientation": "h",
           "showlegend": true,
           "text": [
            "건강보험가입여부"
           ],
           "textposition": "auto",
           "type": "bar",
           "x": [
            0.02858714759349823
           ],
           "xaxis": "x",
           "y": [
            "건강보험가입여부"
           ],
           "yaxis": "y"
          },
          {
           "alignmentgroup": "True",
           "hovertemplate": "순위=9<br>임금분위=임금3분위<br>임금에 대한 영향력=%{x}<br>변수=%{text}<extra></extra>",
           "legendgroup": "9",
           "marker": {
            "color": "tomato",
            "pattern": {
             "shape": ""
            }
           },
           "name": "9",
           "offsetgroup": "9",
           "orientation": "h",
           "showlegend": true,
           "text": [
            "성별코드"
           ],
           "textposition": "auto",
           "type": "bar",
           "x": [
            0.09624432027339935
           ],
           "xaxis": "x",
           "y": [
            "성별코드"
           ],
           "yaxis": "y"
          },
          {
           "alignmentgroup": "True",
           "hovertemplate": "순위=11<br>임금분위=임금3분위<br>임금에 대한 영향력=%{x}<br>변수=%{text}<extra></extra>",
           "legendgroup": "11",
           "marker": {
            "color": "tomato",
            "pattern": {
             "shape": ""
            }
           },
           "name": "11",
           "offsetgroup": "11",
           "orientation": "h",
           "showlegend": true,
           "text": [
            "노동조합가입코드"
           ],
           "textposition": "auto",
           "type": "bar",
           "x": [
            0.08792620897293091
           ],
           "xaxis": "x",
           "y": [
            "노동조합가입코드"
           ],
           "yaxis": "y"
          },
          {
           "alignmentgroup": "True",
           "hovertemplate": "순위=15<br>임금분위=임금3분위<br>임금에 대한 영향력=%{x}<br>변수=%{text}<extra></extra>",
           "legendgroup": "15",
           "marker": {
            "color": "tomato",
            "pattern": {
             "shape": ""
            }
           },
           "name": "15",
           "offsetgroup": "15",
           "orientation": "h",
           "showlegend": true,
           "text": [
            "퇴직연금가입여부"
           ],
           "textposition": "auto",
           "type": "bar",
           "x": [
            0.029709290713071823
           ],
           "xaxis": "x",
           "y": [
            "퇴직연금가입여부"
           ],
           "yaxis": "y"
          },
          {
           "alignmentgroup": "True",
           "hovertemplate": "순위=3<br>임금분위=임금3분위<br>임금에 대한 영향력=%{x}<br>변수=%{text}<extra></extra>",
           "legendgroup": "3",
           "marker": {
            "color": "saddlebrown",
            "pattern": {
             "shape": ""
            }
           },
           "name": "3",
           "offsetgroup": "3",
           "orientation": "h",
           "showlegend": true,
           "text": [
            "연령_10분위"
           ],
           "textposition": "auto",
           "type": "bar",
           "x": [
            0.22732622921466827
           ],
           "xaxis": "x",
           "y": [
            "연령_10분위"
           ],
           "yaxis": "y"
          },
          {
           "alignmentgroup": "True",
           "hovertemplate": "순위=18<br>임금분위=임금3분위<br>임금에 대한 영향력=%{x}<br>변수=%{text}<extra></extra>",
           "legendgroup": "18",
           "marker": {
            "color": "tomato",
            "pattern": {
             "shape": ""
            }
           },
           "name": "18",
           "offsetgroup": "18",
           "orientation": "h",
           "showlegend": true,
           "text": [
            "산재보험가입여부"
           ],
           "textposition": "auto",
           "type": "bar",
           "x": [
            0.0174409169703722
           ],
           "xaxis": "x",
           "y": [
            "산재보험가입여부"
           ],
           "yaxis": "y"
          }
         ],
         "name": "임금3분위"
        },
        {
         "data": [
          {
           "alignmentgroup": "True",
           "hovertemplate": "순위=13<br>임금분위=임금4분위<br>임금에 대한 영향력=%{x}<br>변수=%{text}<extra></extra>",
           "legendgroup": "13",
           "marker": {
            "color": "tomato",
            "pattern": {
             "shape": ""
            }
           },
           "name": "13",
           "offsetgroup": "13",
           "orientation": "h",
           "showlegend": true,
           "text": [
            "노동조합가입코드"
           ],
           "textposition": "auto",
           "type": "bar",
           "x": [
            0.09706979990005493
           ],
           "xaxis": "x",
           "y": [
            "노동조합가입코드"
           ],
           "yaxis": "y"
          },
          {
           "alignmentgroup": "True",
           "hovertemplate": "순위=1<br>임금분위=임금4분위<br>임금에 대한 영향력=%{x}<br>변수=%{text}<extra></extra>",
           "legendgroup": "1",
           "marker": {
            "color": "forestgreen",
            "pattern": {
             "shape": ""
            }
           },
           "name": "1",
           "offsetgroup": "1",
           "orientation": "h",
           "showlegend": true,
           "text": [
            "경력년수코드"
           ],
           "textposition": "auto",
           "type": "bar",
           "x": [
            0.4316171407699585
           ],
           "xaxis": "x",
           "y": [
            "경력년수코드"
           ],
           "yaxis": "y"
          },
          {
           "alignmentgroup": "True",
           "hovertemplate": "순위=8<br>임금분위=임금4분위<br>임금에 대한 영향력=%{x}<br>변수=%{text}<extra></extra>",
           "legendgroup": "8",
           "marker": {
            "color": "tomato",
            "pattern": {
             "shape": ""
            }
           },
           "name": "8",
           "offsetgroup": "8",
           "orientation": "h",
           "showlegend": true,
           "text": [
            "교육정도_학력구분코드"
           ],
           "textposition": "auto",
           "type": "bar",
           "x": [
            0.2314346879720688
           ],
           "xaxis": "x",
           "y": [
            "교육정도_학력구분코드"
           ],
           "yaxis": "y"
          },
          {
           "alignmentgroup": "True",
           "hovertemplate": "순위=7<br>임금분위=임금4분위<br>임금에 대한 영향력=%{x}<br>변수=%{text}<extra></extra>",
           "legendgroup": "7",
           "marker": {
            "color": "tomato",
            "pattern": {
             "shape": ""
            }
           },
           "name": "7",
           "offsetgroup": "7",
           "orientation": "h",
           "showlegend": true,
           "text": [
            "연령_10분위"
           ],
           "textposition": "auto",
           "type": "bar",
           "x": [
            0.2600691020488739
           ],
           "xaxis": "x",
           "y": [
            "연령_10분위"
           ],
           "yaxis": "y"
          },
          {
           "alignmentgroup": "True",
           "hovertemplate": "순위=12<br>임금분위=임금4분위<br>임금에 대한 영향력=%{x}<br>변수=%{text}<extra></extra>",
           "legendgroup": "12",
           "marker": {
            "color": "tomato",
            "pattern": {
             "shape": ""
            }
           },
           "name": "12",
           "offsetgroup": "12",
           "orientation": "h",
           "showlegend": true,
           "text": [
            "근무형태코드"
           ],
           "textposition": "auto",
           "type": "bar",
           "x": [
            0.1402740478515625
           ],
           "xaxis": "x",
           "y": [
            "근무형태코드"
           ],
           "yaxis": "y"
          },
          {
           "alignmentgroup": "True",
           "hovertemplate": "순위=5<br>임금분위=임금4분위<br>임금에 대한 영향력=%{x}<br>변수=%{text}<extra></extra>",
           "legendgroup": "5",
           "marker": {
            "color": "tomato",
            "pattern": {
             "shape": ""
            }
           },
           "name": "5",
           "offsetgroup": "5",
           "orientation": "h",
           "showlegend": true,
           "text": [
            "성별코드"
           ],
           "textposition": "auto",
           "type": "bar",
           "x": [
            0.29751721024513245
           ],
           "xaxis": "x",
           "y": [
            "성별코드"
           ],
           "yaxis": "y"
          },
          {
           "alignmentgroup": "True",
           "hovertemplate": "순위=4<br>임금분위=임금4분위<br>임금에 대한 영향력=%{x}<br>변수=%{text}<extra></extra>",
           "legendgroup": "4",
           "marker": {
            "color": "tomato",
            "pattern": {
             "shape": ""
            }
           },
           "name": "4",
           "offsetgroup": "4",
           "orientation": "h",
           "showlegend": true,
           "text": [
            "총근로시간_10분위"
           ],
           "textposition": "auto",
           "type": "bar",
           "x": [
            0.3274719715118408
           ],
           "xaxis": "x",
           "y": [
            "총근로시간_10분위"
           ],
           "yaxis": "y"
          },
          {
           "alignmentgroup": "True",
           "hovertemplate": "순위=19<br>임금분위=임금4분위<br>임금에 대한 영향력=%{x}<br>변수=%{text}<extra></extra>",
           "legendgroup": "19",
           "marker": {
            "color": "tomato",
            "pattern": {
             "shape": ""
            }
           },
           "name": "19",
           "offsetgroup": "19",
           "orientation": "h",
           "showlegend": true,
           "text": [
            "근무형태_전일제상용여부"
           ],
           "textposition": "auto",
           "type": "bar",
           "x": [
            0.022731801494956017
           ],
           "xaxis": "x",
           "y": [
            "근무형태_전일제상용여부"
           ],
           "yaxis": "y"
          },
          {
           "alignmentgroup": "True",
           "hovertemplate": "순위=6<br>임금분위=임금4분위<br>임금에 대한 영향력=%{x}<br>변수=%{text}<extra></extra>",
           "legendgroup": "6",
           "marker": {
            "color": "tomato",
            "pattern": {
             "shape": ""
            }
           },
           "name": "6",
           "offsetgroup": "6",
           "orientation": "h",
           "showlegend": true,
           "text": [
            "산업대분류코드"
           ],
           "textposition": "auto",
           "type": "bar",
           "x": [
            0.2759428024291992
           ],
           "xaxis": "x",
           "y": [
            "산업대분류코드"
           ],
           "yaxis": "y"
          },
          {
           "alignmentgroup": "True",
           "hovertemplate": "순위=2<br>임금분위=임금4분위<br>임금에 대한 영향력=%{x}<br>변수=%{text}<extra></extra>",
           "legendgroup": "2",
           "marker": {
            "color": "saddlebrown",
            "pattern": {
             "shape": ""
            }
           },
           "name": "2",
           "offsetgroup": "2",
           "orientation": "h",
           "showlegend": true,
           "text": [
            "직업대분류코드"
           ],
           "textposition": "auto",
           "type": "bar",
           "x": [
            0.36447790265083313
           ],
           "xaxis": "x",
           "y": [
            "직업대분류코드"
           ],
           "yaxis": "y"
          },
          {
           "alignmentgroup": "True",
           "hovertemplate": "순위=10<br>임금분위=임금4분위<br>임금에 대한 영향력=%{x}<br>변수=%{text}<extra></extra>",
           "legendgroup": "10",
           "marker": {
            "color": "tomato",
            "pattern": {
             "shape": ""
            }
           },
           "name": "10",
           "offsetgroup": "10",
           "orientation": "h",
           "showlegend": true,
           "text": [
            "고용형태코드"
           ],
           "textposition": "auto",
           "type": "bar",
           "x": [
            0.1567138433456421
           ],
           "xaxis": "x",
           "y": [
            "고용형태코드"
           ],
           "yaxis": "y"
          },
          {
           "alignmentgroup": "True",
           "hovertemplate": "순위=14<br>임금분위=임금4분위<br>임금에 대한 영향력=%{x}<br>변수=%{text}<extra></extra>",
           "legendgroup": "14",
           "marker": {
            "color": "tomato",
            "pattern": {
             "shape": ""
            }
           },
           "name": "14",
           "offsetgroup": "14",
           "orientation": "h",
           "showlegend": true,
           "text": [
            "고용보험가입여부"
           ],
           "textposition": "auto",
           "type": "bar",
           "x": [
            0.05362476408481598
           ],
           "xaxis": "x",
           "y": [
            "고용보험가입여부"
           ],
           "yaxis": "y"
          },
          {
           "alignmentgroup": "True",
           "hovertemplate": "순위=17<br>임금분위=임금4분위<br>임금에 대한 영향력=%{x}<br>변수=%{text}<extra></extra>",
           "legendgroup": "17",
           "marker": {
            "color": "tomato",
            "pattern": {
             "shape": ""
            }
           },
           "name": "17",
           "offsetgroup": "17",
           "orientation": "h",
           "showlegend": true,
           "text": [
            "산재보험가입여부"
           ],
           "textposition": "auto",
           "type": "bar",
           "x": [
            0.025538839399814606
           ],
           "xaxis": "x",
           "y": [
            "산재보험가입여부"
           ],
           "yaxis": "y"
          },
          {
           "alignmentgroup": "True",
           "hovertemplate": "순위=16<br>임금분위=임금4분위<br>임금에 대한 영향력=%{x}<br>변수=%{text}<extra></extra>",
           "legendgroup": "16",
           "marker": {
            "color": "tomato",
            "pattern": {
             "shape": ""
            }
           },
           "name": "16",
           "offsetgroup": "16",
           "orientation": "h",
           "showlegend": true,
           "text": [
            "국민연금가입여부"
           ],
           "textposition": "auto",
           "type": "bar",
           "x": [
            0.03876727819442749
           ],
           "xaxis": "x",
           "y": [
            "국민연금가입여부"
           ],
           "yaxis": "y"
          },
          {
           "alignmentgroup": "True",
           "hovertemplate": "순위=9<br>임금분위=임금4분위<br>임금에 대한 영향력=%{x}<br>변수=%{text}<extra></extra>",
           "legendgroup": "9",
           "marker": {
            "color": "tomato",
            "pattern": {
             "shape": ""
            }
           },
           "name": "9",
           "offsetgroup": "9",
           "orientation": "h",
           "showlegend": true,
           "text": [
            "상여금지급여부"
           ],
           "textposition": "auto",
           "type": "bar",
           "x": [
            0.18927805125713348
           ],
           "xaxis": "x",
           "y": [
            "상여금지급여부"
           ],
           "yaxis": "y"
          },
          {
           "alignmentgroup": "True",
           "hovertemplate": "순위=11<br>임금분위=임금4분위<br>임금에 대한 영향력=%{x}<br>변수=%{text}<extra></extra>",
           "legendgroup": "11",
           "marker": {
            "color": "tomato",
            "pattern": {
             "shape": ""
            }
           },
           "name": "11",
           "offsetgroup": "11",
           "orientation": "h",
           "showlegend": true,
           "text": [
            "임금산정기준코드"
           ],
           "textposition": "auto",
           "type": "bar",
           "x": [
            0.14599299430847168
           ],
           "xaxis": "x",
           "y": [
            "임금산정기준코드"
           ],
           "yaxis": "y"
          },
          {
           "alignmentgroup": "True",
           "hovertemplate": "순위=15<br>임금분위=임금4분위<br>임금에 대한 영향력=%{x}<br>변수=%{text}<extra></extra>",
           "legendgroup": "15",
           "marker": {
            "color": "tomato",
            "pattern": {
             "shape": ""
            }
           },
           "name": "15",
           "offsetgroup": "15",
           "orientation": "h",
           "showlegend": true,
           "text": [
            "퇴직연금가입여부"
           ],
           "textposition": "auto",
           "type": "bar",
           "x": [
            0.047959744930267334
           ],
           "xaxis": "x",
           "y": [
            "퇴직연금가입여부"
           ],
           "yaxis": "y"
          },
          {
           "alignmentgroup": "True",
           "hovertemplate": "순위=3<br>임금분위=임금4분위<br>임금에 대한 영향력=%{x}<br>변수=%{text}<extra></extra>",
           "legendgroup": "3",
           "marker": {
            "color": "saddlebrown",
            "pattern": {
             "shape": ""
            }
           },
           "name": "3",
           "offsetgroup": "3",
           "orientation": "h",
           "showlegend": true,
           "text": [
            "사업체규모코드"
           ],
           "textposition": "auto",
           "type": "bar",
           "x": [
            0.3510296046733856
           ],
           "xaxis": "x",
           "y": [
            "사업체규모코드"
           ],
           "yaxis": "y"
          },
          {
           "alignmentgroup": "True",
           "hovertemplate": "순위=18<br>임금분위=임금4분위<br>임금에 대한 영향력=%{x}<br>변수=%{text}<extra></extra>",
           "legendgroup": "18",
           "marker": {
            "color": "tomato",
            "pattern": {
             "shape": ""
            }
           },
           "name": "18",
           "offsetgroup": "18",
           "orientation": "h",
           "showlegend": true,
           "text": [
            "건강보험가입여부"
           ],
           "textposition": "auto",
           "type": "bar",
           "x": [
            0.023909632116556168
           ],
           "xaxis": "x",
           "y": [
            "건강보험가입여부"
           ],
           "yaxis": "y"
          }
         ],
         "name": "임금4분위"
        },
        {
         "data": [
          {
           "alignmentgroup": "True",
           "hovertemplate": "순위=13<br>임금분위=임금5분위<br>임금에 대한 영향력=%{x}<br>변수=%{text}<extra></extra>",
           "legendgroup": "13",
           "marker": {
            "color": "tomato",
            "pattern": {
             "shape": ""
            }
           },
           "name": "13",
           "offsetgroup": "13",
           "orientation": "h",
           "showlegend": true,
           "text": [
            "노동조합가입코드"
           ],
           "textposition": "auto",
           "type": "bar",
           "x": [
            0.12540581822395325
           ],
           "xaxis": "x",
           "y": [
            "노동조합가입코드"
           ],
           "yaxis": "y"
          },
          {
           "alignmentgroup": "True",
           "hovertemplate": "순위=1<br>임금분위=임금5분위<br>임금에 대한 영향력=%{x}<br>변수=%{text}<extra></extra>",
           "legendgroup": "1",
           "marker": {
            "color": "forestgreen",
            "pattern": {
             "shape": ""
            }
           },
           "name": "1",
           "offsetgroup": "1",
           "orientation": "h",
           "showlegend": true,
           "text": [
            "경력년수코드"
           ],
           "textposition": "auto",
           "type": "bar",
           "x": [
            0.8354313969612122
           ],
           "xaxis": "x",
           "y": [
            "경력년수코드"
           ],
           "yaxis": "y"
          },
          {
           "alignmentgroup": "True",
           "hovertemplate": "순위=8<br>임금분위=임금5분위<br>임금에 대한 영향력=%{x}<br>변수=%{text}<extra></extra>",
           "legendgroup": "8",
           "marker": {
            "color": "tomato",
            "pattern": {
             "shape": ""
            }
           },
           "name": "8",
           "offsetgroup": "8",
           "orientation": "h",
           "showlegend": true,
           "text": [
            "상여금지급여부"
           ],
           "textposition": "auto",
           "type": "bar",
           "x": [
            0.36586976051330566
           ],
           "xaxis": "x",
           "y": [
            "상여금지급여부"
           ],
           "yaxis": "y"
          },
          {
           "alignmentgroup": "True",
           "hovertemplate": "순위=7<br>임금분위=임금5분위<br>임금에 대한 영향력=%{x}<br>변수=%{text}<extra></extra>",
           "legendgroup": "7",
           "marker": {
            "color": "tomato",
            "pattern": {
             "shape": ""
            }
           },
           "name": "7",
           "offsetgroup": "7",
           "orientation": "h",
           "showlegend": true,
           "text": [
            "성별코드"
           ],
           "textposition": "auto",
           "type": "bar",
           "x": [
            0.41417238116264343
           ],
           "xaxis": "x",
           "y": [
            "성별코드"
           ],
           "yaxis": "y"
          },
          {
           "alignmentgroup": "True",
           "hovertemplate": "순위=12<br>임금분위=임금5분위<br>임금에 대한 영향력=%{x}<br>변수=%{text}<extra></extra>",
           "legendgroup": "12",
           "marker": {
            "color": "tomato",
            "pattern": {
             "shape": ""
            }
           },
           "name": "12",
           "offsetgroup": "12",
           "orientation": "h",
           "showlegend": true,
           "text": [
            "근무형태코드"
           ],
           "textposition": "auto",
           "type": "bar",
           "x": [
            0.16543933749198914
           ],
           "xaxis": "x",
           "y": [
            "근무형태코드"
           ],
           "yaxis": "y"
          },
          {
           "alignmentgroup": "True",
           "hovertemplate": "순위=5<br>임금분위=임금5분위<br>임금에 대한 영향력=%{x}<br>변수=%{text}<extra></extra>",
           "legendgroup": "5",
           "marker": {
            "color": "tomato",
            "pattern": {
             "shape": ""
            }
           },
           "name": "5",
           "offsetgroup": "5",
           "orientation": "h",
           "showlegend": true,
           "text": [
            "연령_10분위"
           ],
           "textposition": "auto",
           "type": "bar",
           "x": [
            0.5063257813453674
           ],
           "xaxis": "x",
           "y": [
            "연령_10분위"
           ],
           "yaxis": "y"
          },
          {
           "alignmentgroup": "True",
           "hovertemplate": "순위=4<br>임금분위=임금5분위<br>임금에 대한 영향력=%{x}<br>변수=%{text}<extra></extra>",
           "legendgroup": "4",
           "marker": {
            "color": "tomato",
            "pattern": {
             "shape": ""
            }
           },
           "name": "4",
           "offsetgroup": "4",
           "orientation": "h",
           "showlegend": true,
           "text": [
            "교육정도_학력구분코드"
           ],
           "textposition": "auto",
           "type": "bar",
           "x": [
            0.5190364122390747
           ],
           "xaxis": "x",
           "y": [
            "교육정도_학력구분코드"
           ],
           "yaxis": "y"
          },
          {
           "alignmentgroup": "True",
           "hovertemplate": "순위=19<br>임금분위=임금5분위<br>임금에 대한 영향력=%{x}<br>변수=%{text}<extra></extra>",
           "legendgroup": "19",
           "marker": {
            "color": "tomato",
            "pattern": {
             "shape": ""
            }
           },
           "name": "19",
           "offsetgroup": "19",
           "orientation": "h",
           "showlegend": true,
           "text": [
            "건강보험가입여부"
           ],
           "textposition": "auto",
           "type": "bar",
           "x": [
            0.019233444705605507
           ],
           "xaxis": "x",
           "y": [
            "건강보험가입여부"
           ],
           "yaxis": "y"
          },
          {
           "alignmentgroup": "True",
           "hovertemplate": "순위=6<br>임금분위=임금5분위<br>임금에 대한 영향력=%{x}<br>변수=%{text}<extra></extra>",
           "legendgroup": "6",
           "marker": {
            "color": "tomato",
            "pattern": {
             "shape": ""
            }
           },
           "name": "6",
           "offsetgroup": "6",
           "orientation": "h",
           "showlegend": true,
           "text": [
            "산업대분류코드"
           ],
           "textposition": "auto",
           "type": "bar",
           "x": [
            0.4637998044490814
           ],
           "xaxis": "x",
           "y": [
            "산업대분류코드"
           ],
           "yaxis": "y"
          },
          {
           "alignmentgroup": "True",
           "hovertemplate": "순위=2<br>임금분위=임금5분위<br>임금에 대한 영향력=%{x}<br>변수=%{text}<extra></extra>",
           "legendgroup": "2",
           "marker": {
            "color": "saddlebrown",
            "pattern": {
             "shape": ""
            }
           },
           "name": "2",
           "offsetgroup": "2",
           "orientation": "h",
           "showlegend": true,
           "text": [
            "직업대분류코드"
           ],
           "textposition": "auto",
           "type": "bar",
           "x": [
            0.7247803807258606
           ],
           "xaxis": "x",
           "y": [
            "직업대분류코드"
           ],
           "yaxis": "y"
          },
          {
           "alignmentgroup": "True",
           "hovertemplate": "순위=10<br>임금분위=임금5분위<br>임금에 대한 영향력=%{x}<br>변수=%{text}<extra></extra>",
           "legendgroup": "10",
           "marker": {
            "color": "tomato",
            "pattern": {
             "shape": ""
            }
           },
           "name": "10",
           "offsetgroup": "10",
           "orientation": "h",
           "showlegend": true,
           "text": [
            "임금산정기준코드"
           ],
           "textposition": "auto",
           "type": "bar",
           "x": [
            0.3574763238430023
           ],
           "xaxis": "x",
           "y": [
            "임금산정기준코드"
           ],
           "yaxis": "y"
          },
          {
           "alignmentgroup": "True",
           "hovertemplate": "순위=14<br>임금분위=임금5분위<br>임금에 대한 영향력=%{x}<br>변수=%{text}<extra></extra>",
           "legendgroup": "14",
           "marker": {
            "color": "tomato",
            "pattern": {
             "shape": ""
            }
           },
           "name": "14",
           "offsetgroup": "14",
           "orientation": "h",
           "showlegend": true,
           "text": [
            "고용보험가입여부"
           ],
           "textposition": "auto",
           "type": "bar",
           "x": [
            0.08576399087905884
           ],
           "xaxis": "x",
           "y": [
            "고용보험가입여부"
           ],
           "yaxis": "y"
          },
          {
           "alignmentgroup": "True",
           "hovertemplate": "순위=17<br>임금분위=임금5분위<br>임금에 대한 영향력=%{x}<br>변수=%{text}<extra></extra>",
           "legendgroup": "17",
           "marker": {
            "color": "tomato",
            "pattern": {
             "shape": ""
            }
           },
           "name": "17",
           "offsetgroup": "17",
           "orientation": "h",
           "showlegend": true,
           "text": [
            "근무형태_전일제상용여부"
           ],
           "textposition": "auto",
           "type": "bar",
           "x": [
            0.036450859159231186
           ],
           "xaxis": "x",
           "y": [
            "근무형태_전일제상용여부"
           ],
           "yaxis": "y"
          },
          {
           "alignmentgroup": "True",
           "hovertemplate": "순위=16<br>임금분위=임금5분위<br>임금에 대한 영향력=%{x}<br>변수=%{text}<extra></extra>",
           "legendgroup": "16",
           "marker": {
            "color": "tomato",
            "pattern": {
             "shape": ""
            }
           },
           "name": "16",
           "offsetgroup": "16",
           "orientation": "h",
           "showlegend": true,
           "text": [
            "국민연금가입여부"
           ],
           "textposition": "auto",
           "type": "bar",
           "x": [
            0.07264053821563721
           ],
           "xaxis": "x",
           "y": [
            "국민연금가입여부"
           ],
           "yaxis": "y"
          },
          {
           "alignmentgroup": "True",
           "hovertemplate": "순위=9<br>임금분위=임금5분위<br>임금에 대한 영향력=%{x}<br>변수=%{text}<extra></extra>",
           "legendgroup": "9",
           "marker": {
            "color": "tomato",
            "pattern": {
             "shape": ""
            }
           },
           "name": "9",
           "offsetgroup": "9",
           "orientation": "h",
           "showlegend": true,
           "text": [
            "총근로시간_10분위"
           ],
           "textposition": "auto",
           "type": "bar",
           "x": [
            0.3616832494735718
           ],
           "xaxis": "x",
           "y": [
            "총근로시간_10분위"
           ],
           "yaxis": "y"
          },
          {
           "alignmentgroup": "True",
           "hovertemplate": "순위=11<br>임금분위=임금5분위<br>임금에 대한 영향력=%{x}<br>변수=%{text}<extra></extra>",
           "legendgroup": "11",
           "marker": {
            "color": "tomato",
            "pattern": {
             "shape": ""
            }
           },
           "name": "11",
           "offsetgroup": "11",
           "orientation": "h",
           "showlegend": true,
           "text": [
            "고용형태코드"
           ],
           "textposition": "auto",
           "type": "bar",
           "x": [
            0.20960447192192078
           ],
           "xaxis": "x",
           "y": [
            "고용형태코드"
           ],
           "yaxis": "y"
          },
          {
           "alignmentgroup": "True",
           "hovertemplate": "순위=15<br>임금분위=임금5분위<br>임금에 대한 영향력=%{x}<br>변수=%{text}<extra></extra>",
           "legendgroup": "15",
           "marker": {
            "color": "tomato",
            "pattern": {
             "shape": ""
            }
           },
           "name": "15",
           "offsetgroup": "15",
           "orientation": "h",
           "showlegend": true,
           "text": [
            "퇴직연금가입여부"
           ],
           "textposition": "auto",
           "type": "bar",
           "x": [
            0.08526621758937836
           ],
           "xaxis": "x",
           "y": [
            "퇴직연금가입여부"
           ],
           "yaxis": "y"
          },
          {
           "alignmentgroup": "True",
           "hovertemplate": "순위=3<br>임금분위=임금5분위<br>임금에 대한 영향력=%{x}<br>변수=%{text}<extra></extra>",
           "legendgroup": "3",
           "marker": {
            "color": "saddlebrown",
            "pattern": {
             "shape": ""
            }
           },
           "name": "3",
           "offsetgroup": "3",
           "orientation": "h",
           "showlegend": true,
           "text": [
            "사업체규모코드"
           ],
           "textposition": "auto",
           "type": "bar",
           "x": [
            0.6432784199714661
           ],
           "xaxis": "x",
           "y": [
            "사업체규모코드"
           ],
           "yaxis": "y"
          },
          {
           "alignmentgroup": "True",
           "hovertemplate": "순위=18<br>임금분위=임금5분위<br>임금에 대한 영향력=%{x}<br>변수=%{text}<extra></extra>",
           "legendgroup": "18",
           "marker": {
            "color": "tomato",
            "pattern": {
             "shape": ""
            }
           },
           "name": "18",
           "offsetgroup": "18",
           "orientation": "h",
           "showlegend": true,
           "text": [
            "산재보험가입여부"
           ],
           "textposition": "auto",
           "type": "bar",
           "x": [
            0.02649439312517643
           ],
           "xaxis": "x",
           "y": [
            "산재보험가입여부"
           ],
           "yaxis": "y"
          }
         ],
         "name": "임금5분위"
        }
       ],
       "layout": {
        "barmode": "relative",
        "coloraxis": {
         "showscale": false
        },
        "height": 700,
        "legend": {
         "title": {
          "text": "순위"
         },
         "tracegroupgap": 0
        },
        "showlegend": false,
        "sliders": [
         {
          "active": 0,
          "currentvalue": {
           "prefix": "임금 분위: "
          },
          "len": 0.9,
          "pad": {
           "b": 10,
           "t": 60
          },
          "steps": [
           {
            "args": [
             [
              "임금1분위"
             ],
             {
              "frame": {
               "duration": 0,
               "redraw": true
              },
              "fromcurrent": true,
              "mode": "immediate",
              "transition": {
               "duration": 0,
               "easing": "linear"
              }
             }
            ],
            "label": "임금1분위",
            "method": "animate"
           },
           {
            "args": [
             [
              "임금2분위"
             ],
             {
              "frame": {
               "duration": 0,
               "redraw": true
              },
              "fromcurrent": true,
              "mode": "immediate",
              "transition": {
               "duration": 0,
               "easing": "linear"
              }
             }
            ],
            "label": "임금2분위",
            "method": "animate"
           },
           {
            "args": [
             [
              "임금3분위"
             ],
             {
              "frame": {
               "duration": 0,
               "redraw": true
              },
              "fromcurrent": true,
              "mode": "immediate",
              "transition": {
               "duration": 0,
               "easing": "linear"
              }
             }
            ],
            "label": "임금3분위",
            "method": "animate"
           },
           {
            "args": [
             [
              "임금4분위"
             ],
             {
              "frame": {
               "duration": 0,
               "redraw": true
              },
              "fromcurrent": true,
              "mode": "immediate",
              "transition": {
               "duration": 0,
               "easing": "linear"
              }
             }
            ],
            "label": "임금4분위",
            "method": "animate"
           },
           {
            "args": [
             [
              "임금5분위"
             ],
             {
              "frame": {
               "duration": 0,
               "redraw": true
              },
              "fromcurrent": true,
              "mode": "immediate",
              "transition": {
               "duration": 0,
               "easing": "linear"
              }
             }
            ],
            "label": "임금5분위",
            "method": "animate"
           }
          ],
          "x": 0.1,
          "xanchor": "left",
          "y": 0,
          "yanchor": "top"
         }
        ],
        "template": {
         "data": {
          "bar": [
           {
            "error_x": {
             "color": "#2a3f5f"
            },
            "error_y": {
             "color": "#2a3f5f"
            },
            "marker": {
             "line": {
              "color": "#E5ECF6",
              "width": 0.5
             },
             "pattern": {
              "fillmode": "overlay",
              "size": 10,
              "solidity": 0.2
             }
            },
            "type": "bar"
           }
          ],
          "barpolar": [
           {
            "marker": {
             "line": {
              "color": "#E5ECF6",
              "width": 0.5
             },
             "pattern": {
              "fillmode": "overlay",
              "size": 10,
              "solidity": 0.2
             }
            },
            "type": "barpolar"
           }
          ],
          "carpet": [
           {
            "aaxis": {
             "endlinecolor": "#2a3f5f",
             "gridcolor": "white",
             "linecolor": "white",
             "minorgridcolor": "white",
             "startlinecolor": "#2a3f5f"
            },
            "baxis": {
             "endlinecolor": "#2a3f5f",
             "gridcolor": "white",
             "linecolor": "white",
             "minorgridcolor": "white",
             "startlinecolor": "#2a3f5f"
            },
            "type": "carpet"
           }
          ],
          "choropleth": [
           {
            "colorbar": {
             "outlinewidth": 0,
             "ticks": ""
            },
            "type": "choropleth"
           }
          ],
          "contour": [
           {
            "colorbar": {
             "outlinewidth": 0,
             "ticks": ""
            },
            "colorscale": [
             [
              0,
              "#0d0887"
             ],
             [
              0.1111111111111111,
              "#46039f"
             ],
             [
              0.2222222222222222,
              "#7201a8"
             ],
             [
              0.3333333333333333,
              "#9c179e"
             ],
             [
              0.4444444444444444,
              "#bd3786"
             ],
             [
              0.5555555555555556,
              "#d8576b"
             ],
             [
              0.6666666666666666,
              "#ed7953"
             ],
             [
              0.7777777777777778,
              "#fb9f3a"
             ],
             [
              0.8888888888888888,
              "#fdca26"
             ],
             [
              1,
              "#f0f921"
             ]
            ],
            "type": "contour"
           }
          ],
          "contourcarpet": [
           {
            "colorbar": {
             "outlinewidth": 0,
             "ticks": ""
            },
            "type": "contourcarpet"
           }
          ],
          "heatmap": [
           {
            "colorbar": {
             "outlinewidth": 0,
             "ticks": ""
            },
            "colorscale": [
             [
              0,
              "#0d0887"
             ],
             [
              0.1111111111111111,
              "#46039f"
             ],
             [
              0.2222222222222222,
              "#7201a8"
             ],
             [
              0.3333333333333333,
              "#9c179e"
             ],
             [
              0.4444444444444444,
              "#bd3786"
             ],
             [
              0.5555555555555556,
              "#d8576b"
             ],
             [
              0.6666666666666666,
              "#ed7953"
             ],
             [
              0.7777777777777778,
              "#fb9f3a"
             ],
             [
              0.8888888888888888,
              "#fdca26"
             ],
             [
              1,
              "#f0f921"
             ]
            ],
            "type": "heatmap"
           }
          ],
          "heatmapgl": [
           {
            "colorbar": {
             "outlinewidth": 0,
             "ticks": ""
            },
            "colorscale": [
             [
              0,
              "#0d0887"
             ],
             [
              0.1111111111111111,
              "#46039f"
             ],
             [
              0.2222222222222222,
              "#7201a8"
             ],
             [
              0.3333333333333333,
              "#9c179e"
             ],
             [
              0.4444444444444444,
              "#bd3786"
             ],
             [
              0.5555555555555556,
              "#d8576b"
             ],
             [
              0.6666666666666666,
              "#ed7953"
             ],
             [
              0.7777777777777778,
              "#fb9f3a"
             ],
             [
              0.8888888888888888,
              "#fdca26"
             ],
             [
              1,
              "#f0f921"
             ]
            ],
            "type": "heatmapgl"
           }
          ],
          "histogram": [
           {
            "marker": {
             "pattern": {
              "fillmode": "overlay",
              "size": 10,
              "solidity": 0.2
             }
            },
            "type": "histogram"
           }
          ],
          "histogram2d": [
           {
            "colorbar": {
             "outlinewidth": 0,
             "ticks": ""
            },
            "colorscale": [
             [
              0,
              "#0d0887"
             ],
             [
              0.1111111111111111,
              "#46039f"
             ],
             [
              0.2222222222222222,
              "#7201a8"
             ],
             [
              0.3333333333333333,
              "#9c179e"
             ],
             [
              0.4444444444444444,
              "#bd3786"
             ],
             [
              0.5555555555555556,
              "#d8576b"
             ],
             [
              0.6666666666666666,
              "#ed7953"
             ],
             [
              0.7777777777777778,
              "#fb9f3a"
             ],
             [
              0.8888888888888888,
              "#fdca26"
             ],
             [
              1,
              "#f0f921"
             ]
            ],
            "type": "histogram2d"
           }
          ],
          "histogram2dcontour": [
           {
            "colorbar": {
             "outlinewidth": 0,
             "ticks": ""
            },
            "colorscale": [
             [
              0,
              "#0d0887"
             ],
             [
              0.1111111111111111,
              "#46039f"
             ],
             [
              0.2222222222222222,
              "#7201a8"
             ],
             [
              0.3333333333333333,
              "#9c179e"
             ],
             [
              0.4444444444444444,
              "#bd3786"
             ],
             [
              0.5555555555555556,
              "#d8576b"
             ],
             [
              0.6666666666666666,
              "#ed7953"
             ],
             [
              0.7777777777777778,
              "#fb9f3a"
             ],
             [
              0.8888888888888888,
              "#fdca26"
             ],
             [
              1,
              "#f0f921"
             ]
            ],
            "type": "histogram2dcontour"
           }
          ],
          "mesh3d": [
           {
            "colorbar": {
             "outlinewidth": 0,
             "ticks": ""
            },
            "type": "mesh3d"
           }
          ],
          "parcoords": [
           {
            "line": {
             "colorbar": {
              "outlinewidth": 0,
              "ticks": ""
             }
            },
            "type": "parcoords"
           }
          ],
          "pie": [
           {
            "automargin": true,
            "type": "pie"
           }
          ],
          "scatter": [
           {
            "fillpattern": {
             "fillmode": "overlay",
             "size": 10,
             "solidity": 0.2
            },
            "type": "scatter"
           }
          ],
          "scatter3d": [
           {
            "line": {
             "colorbar": {
              "outlinewidth": 0,
              "ticks": ""
             }
            },
            "marker": {
             "colorbar": {
              "outlinewidth": 0,
              "ticks": ""
             }
            },
            "type": "scatter3d"
           }
          ],
          "scattercarpet": [
           {
            "marker": {
             "colorbar": {
              "outlinewidth": 0,
              "ticks": ""
             }
            },
            "type": "scattercarpet"
           }
          ],
          "scattergeo": [
           {
            "marker": {
             "colorbar": {
              "outlinewidth": 0,
              "ticks": ""
             }
            },
            "type": "scattergeo"
           }
          ],
          "scattergl": [
           {
            "marker": {
             "colorbar": {
              "outlinewidth": 0,
              "ticks": ""
             }
            },
            "type": "scattergl"
           }
          ],
          "scattermapbox": [
           {
            "marker": {
             "colorbar": {
              "outlinewidth": 0,
              "ticks": ""
             }
            },
            "type": "scattermapbox"
           }
          ],
          "scatterpolar": [
           {
            "marker": {
             "colorbar": {
              "outlinewidth": 0,
              "ticks": ""
             }
            },
            "type": "scatterpolar"
           }
          ],
          "scatterpolargl": [
           {
            "marker": {
             "colorbar": {
              "outlinewidth": 0,
              "ticks": ""
             }
            },
            "type": "scatterpolargl"
           }
          ],
          "scatterternary": [
           {
            "marker": {
             "colorbar": {
              "outlinewidth": 0,
              "ticks": ""
             }
            },
            "type": "scatterternary"
           }
          ],
          "surface": [
           {
            "colorbar": {
             "outlinewidth": 0,
             "ticks": ""
            },
            "colorscale": [
             [
              0,
              "#0d0887"
             ],
             [
              0.1111111111111111,
              "#46039f"
             ],
             [
              0.2222222222222222,
              "#7201a8"
             ],
             [
              0.3333333333333333,
              "#9c179e"
             ],
             [
              0.4444444444444444,
              "#bd3786"
             ],
             [
              0.5555555555555556,
              "#d8576b"
             ],
             [
              0.6666666666666666,
              "#ed7953"
             ],
             [
              0.7777777777777778,
              "#fb9f3a"
             ],
             [
              0.8888888888888888,
              "#fdca26"
             ],
             [
              1,
              "#f0f921"
             ]
            ],
            "type": "surface"
           }
          ],
          "table": [
           {
            "cells": {
             "fill": {
              "color": "#EBF0F8"
             },
             "line": {
              "color": "white"
             }
            },
            "header": {
             "fill": {
              "color": "#C8D4E3"
             },
             "line": {
              "color": "white"
             }
            },
            "type": "table"
           }
          ]
         },
         "layout": {
          "annotationdefaults": {
           "arrowcolor": "#2a3f5f",
           "arrowhead": 0,
           "arrowwidth": 1
          },
          "autotypenumbers": "strict",
          "coloraxis": {
           "colorbar": {
            "outlinewidth": 0,
            "ticks": ""
           }
          },
          "colorscale": {
           "diverging": [
            [
             0,
             "#8e0152"
            ],
            [
             0.1,
             "#c51b7d"
            ],
            [
             0.2,
             "#de77ae"
            ],
            [
             0.3,
             "#f1b6da"
            ],
            [
             0.4,
             "#fde0ef"
            ],
            [
             0.5,
             "#f7f7f7"
            ],
            [
             0.6,
             "#e6f5d0"
            ],
            [
             0.7,
             "#b8e186"
            ],
            [
             0.8,
             "#7fbc41"
            ],
            [
             0.9,
             "#4d9221"
            ],
            [
             1,
             "#276419"
            ]
           ],
           "sequential": [
            [
             0,
             "#0d0887"
            ],
            [
             0.1111111111111111,
             "#46039f"
            ],
            [
             0.2222222222222222,
             "#7201a8"
            ],
            [
             0.3333333333333333,
             "#9c179e"
            ],
            [
             0.4444444444444444,
             "#bd3786"
            ],
            [
             0.5555555555555556,
             "#d8576b"
            ],
            [
             0.6666666666666666,
             "#ed7953"
            ],
            [
             0.7777777777777778,
             "#fb9f3a"
            ],
            [
             0.8888888888888888,
             "#fdca26"
            ],
            [
             1,
             "#f0f921"
            ]
           ],
           "sequentialminus": [
            [
             0,
             "#0d0887"
            ],
            [
             0.1111111111111111,
             "#46039f"
            ],
            [
             0.2222222222222222,
             "#7201a8"
            ],
            [
             0.3333333333333333,
             "#9c179e"
            ],
            [
             0.4444444444444444,
             "#bd3786"
            ],
            [
             0.5555555555555556,
             "#d8576b"
            ],
            [
             0.6666666666666666,
             "#ed7953"
            ],
            [
             0.7777777777777778,
             "#fb9f3a"
            ],
            [
             0.8888888888888888,
             "#fdca26"
            ],
            [
             1,
             "#f0f921"
            ]
           ]
          },
          "colorway": [
           "#636efa",
           "#EF553B",
           "#00cc96",
           "#ab63fa",
           "#FFA15A",
           "#19d3f3",
           "#FF6692",
           "#B6E880",
           "#FF97FF",
           "#FECB52"
          ],
          "font": {
           "color": "#2a3f5f"
          },
          "geo": {
           "bgcolor": "white",
           "lakecolor": "white",
           "landcolor": "#E5ECF6",
           "showlakes": true,
           "showland": true,
           "subunitcolor": "white"
          },
          "hoverlabel": {
           "align": "left"
          },
          "hovermode": "closest",
          "mapbox": {
           "style": "light"
          },
          "paper_bgcolor": "white",
          "plot_bgcolor": "#E5ECF6",
          "polar": {
           "angularaxis": {
            "gridcolor": "white",
            "linecolor": "white",
            "ticks": ""
           },
           "bgcolor": "#E5ECF6",
           "radialaxis": {
            "gridcolor": "white",
            "linecolor": "white",
            "ticks": ""
           }
          },
          "scene": {
           "xaxis": {
            "backgroundcolor": "#E5ECF6",
            "gridcolor": "white",
            "gridwidth": 2,
            "linecolor": "white",
            "showbackground": true,
            "ticks": "",
            "zerolinecolor": "white"
           },
           "yaxis": {
            "backgroundcolor": "#E5ECF6",
            "gridcolor": "white",
            "gridwidth": 2,
            "linecolor": "white",
            "showbackground": true,
            "ticks": "",
            "zerolinecolor": "white"
           },
           "zaxis": {
            "backgroundcolor": "#E5ECF6",
            "gridcolor": "white",
            "gridwidth": 2,
            "linecolor": "white",
            "showbackground": true,
            "ticks": "",
            "zerolinecolor": "white"
           }
          },
          "shapedefaults": {
           "line": {
            "color": "#2a3f5f"
           }
          },
          "ternary": {
           "aaxis": {
            "gridcolor": "white",
            "linecolor": "white",
            "ticks": ""
           },
           "baxis": {
            "gridcolor": "white",
            "linecolor": "white",
            "ticks": ""
           },
           "bgcolor": "#E5ECF6",
           "caxis": {
            "gridcolor": "white",
            "linecolor": "white",
            "ticks": ""
           }
          },
          "title": {
           "x": 0.05
          },
          "xaxis": {
           "automargin": true,
           "gridcolor": "white",
           "linecolor": "white",
           "ticks": "",
           "title": {
            "standoff": 15
           },
           "zerolinecolor": "white",
           "zerolinewidth": 2
          },
          "yaxis": {
           "automargin": true,
           "gridcolor": "white",
           "linecolor": "white",
           "ticks": "",
           "title": {
            "standoff": 15
           },
           "zerolinecolor": "white",
           "zerolinewidth": 2
          }
         }
        },
        "title": {
         "font": {
          "size": 20
         },
         "text": "임금 분위별 변수 중요도 변화"
        },
        "uniformtext": {
         "minsize": 8,
         "mode": "hide"
        },
        "updatemenus": [
         {
          "buttons": [
           {
            "args": [
             null,
             {
              "frame": {
               "duration": 1500
              }
             }
            ],
            "label": "&#9654;",
            "method": "animate"
           },
           {
            "args": [
             null,
             {
              "frame": {
               "duration": 1500
              }
             }
            ],
            "label": "&#9724;",
            "method": "animate"
           }
          ],
          "direction": "left",
          "pad": {
           "r": 10,
           "t": 70
          },
          "showactive": false,
          "type": "buttons",
          "x": 0.1,
          "xanchor": "right",
          "y": 0,
          "yanchor": "top"
         }
        ],
        "xaxis": {
         "anchor": "y",
         "domain": [
          0,
          1
         ],
         "title": {
          "text": "임금에 대한 영향력"
         }
        },
        "yaxis": {
         "anchor": "x",
         "categoryarray": [
          "퇴직연금가입여부",
          "총근로시간_10분위",
          "직업대분류코드",
          "임금산정기준코드",
          "연령_10분위",
          "성별코드",
          "상여금지급여부",
          "산재보험가입여부",
          "산업대분류코드",
          "사업체규모코드",
          "노동조합가입코드",
          "근무형태코드",
          "근무형태_전일제상용여부",
          "국민연금가입여부",
          "교육정도_학력구분코드",
          "고용형태코드",
          "고용보험가입여부",
          "경력년수코드",
          "건강보험가입여부"
         ],
         "categoryorder": "array",
         "domain": [
          0,
          1
         ],
         "title": {
          "text": "변수"
         }
        }
       }
      },
      "image/png": "[encoded data removed]",
      "text/html": [
       "<div>                            <div id=\"3f426a9c-d0bf-42cb-9052-ba207eddfc6a\" class=\"plotly-graph-div\" style=\"height:700px; width:100%;\"></div>            <script type=\"text/javascript\">                require([\"plotly\"], function(Plotly) {                    window.PLOTLYENV=window.PLOTLYENV || {};                                    if (document.getElementById(\"3f426a9c-d0bf-42cb-9052-ba207eddfc6a\")) {                    Plotly.newPlot(                        \"3f426a9c-d0bf-42cb-9052-ba207eddfc6a\",                        [{\"alignmentgroup\":\"True\",\"hovertemplate\":\"\\uc21c\\uc704=13\\u003cbr\\u003e\\uc784\\uae08\\ubd84\\uc704=\\uc784\\uae081\\ubd84\\uc704\\u003cbr\\u003e\\uc784\\uae08\\uc5d0 \\ub300\\ud55c \\uc601\\ud5a5\\ub825=%{x}\\u003cbr\\u003e\\ubcc0\\uc218=%{text}\\u003cextra\\u003e\\u003c\\u002fextra\\u003e\",\"legendgroup\":\"13\",\"marker\":{\"color\":\"tomato\",\"pattern\":{\"shape\":\"\"}},\"name\":\"13\",\"offsetgroup\":\"13\",\"orientation\":\"h\",\"showlegend\":true,\"text\":[\"\\ud1f4\\uc9c1\\uc5f0\\uae08\\uac00\\uc785\\uc5ec\\ubd80\"],\"textposition\":\"auto\",\"x\":[0.17953747510910034],\"xaxis\":\"x\",\"y\":[\"\\ud1f4\\uc9c1\\uc5f0\\uae08\\uac00\\uc785\\uc5ec\\ubd80\"],\"yaxis\":\"y\",\"type\":\"bar\"},{\"alignmentgroup\":\"True\",\"hovertemplate\":\"\\uc21c\\uc704=1\\u003cbr\\u003e\\uc784\\uae08\\ubd84\\uc704=\\uc784\\uae081\\ubd84\\uc704\\u003cbr\\u003e\\uc784\\uae08\\uc5d0 \\ub300\\ud55c \\uc601\\ud5a5\\ub825=%{x}\\u003cbr\\u003e\\ubcc0\\uc218=%{text}\\u003cextra\\u003e\\u003c\\u002fextra\\u003e\",\"legendgroup\":\"1\",\"marker\":{\"color\":\"forestgreen\",\"pattern\":{\"shape\":\"\"}},\"name\":\"1\",\"offsetgroup\":\"1\",\"orientation\":\"h\",\"showlegend\":true,\"text\":[\"\\ucd1d\\uadfc\\ub85c\\uc2dc\\uac04_10\\ubd84\\uc704\"],\"textposition\":\"auto\",\"x\":[0.9995107650756836],\"xaxis\":\"x\",\"y\":[\"\\ucd1d\\uadfc\\ub85c\\uc2dc\\uac04_10\\ubd84\\uc704\"],\"yaxis\":\"y\",\"type\":\"bar\"},{\"alignmentgroup\":\"True\",\"hovertemplate\":\"\\uc21c\\uc704=8\\u003cbr\\u003e\\uc784\\uae08\\ubd84\\uc704=\\uc784\\uae081\\ubd84\\uc704\\u003cbr\\u003e\\uc784\\uae08\\uc5d0 \\ub300\\ud55c \\uc601\\ud5a5\\ub825=%{x}\\u003cbr\\u003e\\ubcc0\\uc218=%{text}\\u003cextra\\u003e\\u003c\\u002fextra\\u003e\",\"legendgroup\":\"8\",\"marker\":{\"color\":\"tomato\",\"pattern\":{\"shape\":\"\"}},\"name\":\"8\",\"offsetgroup\":\"8\",\"orientation\":\"h\",\"showlegend\":true,\"text\":[\"\\uc9c1\\uc5c5\\ub300\\ubd84\\ub958\\ucf54\\ub4dc\"],\"textposition\":\"auto\",\"x\":[0.3435644507408142],\"xaxis\":\"x\",\"y\":[\"\\uc9c1\\uc5c5\\ub300\\ubd84\\ub958\\ucf54\\ub4dc\"],\"yaxis\":\"y\",\"type\":\"bar\"},{\"alignmentgroup\":\"True\",\"hovertemplate\":\"\\uc21c\\uc704=7\\u003cbr\\u003e\\uc784\\uae08\\ubd84\\uc704=\\uc784\\uae081\\ubd84\\uc704\\u003cbr\\u003e\\uc784\\uae08\\uc5d0 \\ub300\\ud55c \\uc601\\ud5a5\\ub825=%{x}\\u003cbr\\u003e\\ubcc0\\uc218=%{text}\\u003cextra\\u003e\\u003c\\u002fextra\\u003e\",\"legendgroup\":\"7\",\"marker\":{\"color\":\"tomato\",\"pattern\":{\"shape\":\"\"}},\"name\":\"7\",\"offsetgroup\":\"7\",\"orientation\":\"h\",\"showlegend\":true,\"text\":[\"\\uc784\\uae08\\uc0b0\\uc815\\uae30\\uc900\\ucf54\\ub4dc\"],\"textposition\":\"auto\",\"x\":[0.36308035254478455],\"xaxis\":\"x\",\"y\":[\"\\uc784\\uae08\\uc0b0\\uc815\\uae30\\uc900\\ucf54\\ub4dc\"],\"yaxis\":\"y\",\"type\":\"bar\"},{\"alignmentgroup\":\"True\",\"hovertemplate\":\"\\uc21c\\uc704=12\\u003cbr\\u003e\\uc784\\uae08\\ubd84\\uc704=\\uc784\\uae081\\ubd84\\uc704\\u003cbr\\u003e\\uc784\\uae08\\uc5d0 \\ub300\\ud55c \\uc601\\ud5a5\\ub825=%{x}\\u003cbr\\u003e\\ubcc0\\uc218=%{text}\\u003cextra\\u003e\\u003c\\u002fextra\\u003e\",\"legendgroup\":\"12\",\"marker\":{\"color\":\"tomato\",\"pattern\":{\"shape\":\"\"}},\"name\":\"12\",\"offsetgroup\":\"12\",\"orientation\":\"h\",\"showlegend\":true,\"text\":[\"\\uc5f0\\ub839_10\\ubd84\\uc704\"],\"textposition\":\"auto\",\"x\":[0.18187272548675537],\"xaxis\":\"x\",\"y\":[\"\\uc5f0\\ub839_10\\ubd84\\uc704\"],\"yaxis\":\"y\",\"type\":\"bar\"},{\"alignmentgroup\":\"True\",\"hovertemplate\":\"\\uc21c\\uc704=5\\u003cbr\\u003e\\uc784\\uae08\\ubd84\\uc704=\\uc784\\uae081\\ubd84\\uc704\\u003cbr\\u003e\\uc784\\uae08\\uc5d0 \\ub300\\ud55c \\uc601\\ud5a5\\ub825=%{x}\\u003cbr\\u003e\\ubcc0\\uc218=%{text}\\u003cextra\\u003e\\u003c\\u002fextra\\u003e\",\"legendgroup\":\"5\",\"marker\":{\"color\":\"tomato\",\"pattern\":{\"shape\":\"\"}},\"name\":\"5\",\"offsetgroup\":\"5\",\"orientation\":\"h\",\"showlegend\":true,\"text\":[\"\\uc131\\ubcc4\\ucf54\\ub4dc\"],\"textposition\":\"auto\",\"x\":[0.3708541691303253],\"xaxis\":\"x\",\"y\":[\"\\uc131\\ubcc4\\ucf54\\ub4dc\"],\"yaxis\":\"y\",\"type\":\"bar\"},{\"alignmentgroup\":\"True\",\"hovertemplate\":\"\\uc21c\\uc704=4\\u003cbr\\u003e\\uc784\\uae08\\ubd84\\uc704=\\uc784\\uae081\\ubd84\\uc704\\u003cbr\\u003e\\uc784\\uae08\\uc5d0 \\ub300\\ud55c \\uc601\\ud5a5\\ub825=%{x}\\u003cbr\\u003e\\ubcc0\\uc218=%{text}\\u003cextra\\u003e\\u003c\\u002fextra\\u003e\",\"legendgroup\":\"4\",\"marker\":{\"color\":\"tomato\",\"pattern\":{\"shape\":\"\"}},\"name\":\"4\",\"offsetgroup\":\"4\",\"orientation\":\"h\",\"showlegend\":true,\"text\":[\"\\uc0c1\\uc5ec\\uae08\\uc9c0\\uae09\\uc5ec\\ubd80\"],\"textposition\":\"auto\",\"x\":[0.45381203293800354],\"xaxis\":\"x\",\"y\":[\"\\uc0c1\\uc5ec\\uae08\\uc9c0\\uae09\\uc5ec\\ubd80\"],\"yaxis\":\"y\",\"type\":\"bar\"},{\"alignmentgroup\":\"True\",\"hovertemplate\":\"\\uc21c\\uc704=19\\u003cbr\\u003e\\uc784\\uae08\\ubd84\\uc704=\\uc784\\uae081\\ubd84\\uc704\\u003cbr\\u003e\\uc784\\uae08\\uc5d0 \\ub300\\ud55c \\uc601\\ud5a5\\ub825=%{x}\\u003cbr\\u003e\\ubcc0\\uc218=%{text}\\u003cextra\\u003e\\u003c\\u002fextra\\u003e\",\"legendgroup\":\"19\",\"marker\":{\"color\":\"tomato\",\"pattern\":{\"shape\":\"\"}},\"name\":\"19\",\"offsetgroup\":\"19\",\"orientation\":\"h\",\"showlegend\":true,\"text\":[\"\\uc0b0\\uc7ac\\ubcf4\\ud5d8\\uac00\\uc785\\uc5ec\\ubd80\"],\"textposition\":\"auto\",\"x\":[0.017347943037748337],\"xaxis\":\"x\",\"y\":[\"\\uc0b0\\uc7ac\\ubcf4\\ud5d8\\uac00\\uc785\\uc5ec\\ubd80\"],\"yaxis\":\"y\",\"type\":\"bar\"},{\"alignmentgroup\":\"True\",\"hovertemplate\":\"\\uc21c\\uc704=6\\u003cbr\\u003e\\uc784\\uae08\\ubd84\\uc704=\\uc784\\uae081\\ubd84\\uc704\\u003cbr\\u003e\\uc784\\uae08\\uc5d0 \\ub300\\ud55c \\uc601\\ud5a5\\ub825=%{x}\\u003cbr\\u003e\\ubcc0\\uc218=%{text}\\u003cextra\\u003e\\u003c\\u002fextra\\u003e\",\"legendgroup\":\"6\",\"marker\":{\"color\":\"tomato\",\"pattern\":{\"shape\":\"\"}},\"name\":\"6\",\"offsetgroup\":\"6\",\"orientation\":\"h\",\"showlegend\":true,\"text\":[\"\\uc0b0\\uc5c5\\ub300\\ubd84\\ub958\\ucf54\\ub4dc\"],\"textposition\":\"auto\",\"x\":[0.3632711172103882],\"xaxis\":\"x\",\"y\":[\"\\uc0b0\\uc5c5\\ub300\\ubd84\\ub958\\ucf54\\ub4dc\"],\"yaxis\":\"y\",\"type\":\"bar\"},{\"alignmentgroup\":\"True\",\"hovertemplate\":\"\\uc21c\\uc704=2\\u003cbr\\u003e\\uc784\\uae08\\ubd84\\uc704=\\uc784\\uae081\\ubd84\\uc704\\u003cbr\\u003e\\uc784\\uae08\\uc5d0 \\ub300\\ud55c \\uc601\\ud5a5\\ub825=%{x}\\u003cbr\\u003e\\ubcc0\\uc218=%{text}\\u003cextra\\u003e\\u003c\\u002fextra\\u003e\",\"legendgroup\":\"2\",\"marker\":{\"color\":\"saddlebrown\",\"pattern\":{\"shape\":\"\"}},\"name\":\"2\",\"offsetgroup\":\"2\",\"orientation\":\"h\",\"showlegend\":true,\"text\":[\"\\uc0ac\\uc5c5\\uccb4\\uaddc\\ubaa8\\ucf54\\ub4dc\"],\"textposition\":\"auto\",\"x\":[0.691493034362793],\"xaxis\":\"x\",\"y\":[\"\\uc0ac\\uc5c5\\uccb4\\uaddc\\ubaa8\\ucf54\\ub4dc\"],\"yaxis\":\"y\",\"type\":\"bar\"},{\"alignmentgroup\":\"True\",\"hovertemplate\":\"\\uc21c\\uc704=10\\u003cbr\\u003e\\uc784\\uae08\\ubd84\\uc704=\\uc784\\uae081\\ubd84\\uc704\\u003cbr\\u003e\\uc784\\uae08\\uc5d0 \\ub300\\ud55c \\uc601\\ud5a5\\ub825=%{x}\\u003cbr\\u003e\\ubcc0\\uc218=%{text}\\u003cextra\\u003e\\u003c\\u002fextra\\u003e\",\"legendgroup\":\"10\",\"marker\":{\"color\":\"tomato\",\"pattern\":{\"shape\":\"\"}},\"name\":\"10\",\"offsetgroup\":\"10\",\"orientation\":\"h\",\"showlegend\":true,\"text\":[\"\\ub178\\ub3d9\\uc870\\ud569\\uac00\\uc785\\ucf54\\ub4dc\"],\"textposition\":\"auto\",\"x\":[0.21902643144130707],\"xaxis\":\"x\",\"y\":[\"\\ub178\\ub3d9\\uc870\\ud569\\uac00\\uc785\\ucf54\\ub4dc\"],\"yaxis\":\"y\",\"type\":\"bar\"},{\"alignmentgroup\":\"True\",\"hovertemplate\":\"\\uc21c\\uc704=14\\u003cbr\\u003e\\uc784\\uae08\\ubd84\\uc704=\\uc784\\uae081\\ubd84\\uc704\\u003cbr\\u003e\\uc784\\uae08\\uc5d0 \\ub300\\ud55c \\uc601\\ud5a5\\ub825=%{x}\\u003cbr\\u003e\\ubcc0\\uc218=%{text}\\u003cextra\\u003e\\u003c\\u002fextra\\u003e\",\"legendgroup\":\"14\",\"marker\":{\"color\":\"tomato\",\"pattern\":{\"shape\":\"\"}},\"name\":\"14\",\"offsetgroup\":\"14\",\"orientation\":\"h\",\"showlegend\":true,\"text\":[\"\\uadfc\\ubb34\\ud615\\ud0dc\\ucf54\\ub4dc\"],\"textposition\":\"auto\",\"x\":[0.12968383729457855],\"xaxis\":\"x\",\"y\":[\"\\uadfc\\ubb34\\ud615\\ud0dc\\ucf54\\ub4dc\"],\"yaxis\":\"y\",\"type\":\"bar\"},{\"alignmentgroup\":\"True\",\"hovertemplate\":\"\\uc21c\\uc704=17\\u003cbr\\u003e\\uc784\\uae08\\ubd84\\uc704=\\uc784\\uae081\\ubd84\\uc704\\u003cbr\\u003e\\uc784\\uae08\\uc5d0 \\ub300\\ud55c \\uc601\\ud5a5\\ub825=%{x}\\u003cbr\\u003e\\ubcc0\\uc218=%{text}\\u003cextra\\u003e\\u003c\\u002fextra\\u003e\",\"legendgroup\":\"17\",\"marker\":{\"color\":\"tomato\",\"pattern\":{\"shape\":\"\"}},\"name\":\"17\",\"offsetgroup\":\"17\",\"orientation\":\"h\",\"showlegend\":true,\"text\":[\"\\uadfc\\ubb34\\ud615\\ud0dc_\\uc804\\uc77c\\uc81c\\uc0c1\\uc6a9\\uc5ec\\ubd80\"],\"textposition\":\"auto\",\"x\":[0.03922146186232567],\"xaxis\":\"x\",\"y\":[\"\\uadfc\\ubb34\\ud615\\ud0dc_\\uc804\\uc77c\\uc81c\\uc0c1\\uc6a9\\uc5ec\\ubd80\"],\"yaxis\":\"y\",\"type\":\"bar\"},{\"alignmentgroup\":\"True\",\"hovertemplate\":\"\\uc21c\\uc704=16\\u003cbr\\u003e\\uc784\\uae08\\ubd84\\uc704=\\uc784\\uae081\\ubd84\\uc704\\u003cbr\\u003e\\uc784\\uae08\\uc5d0 \\ub300\\ud55c \\uc601\\ud5a5\\ub825=%{x}\\u003cbr\\u003e\\ubcc0\\uc218=%{text}\\u003cextra\\u003e\\u003c\\u002fextra\\u003e\",\"legendgroup\":\"16\",\"marker\":{\"color\":\"tomato\",\"pattern\":{\"shape\":\"\"}},\"name\":\"16\",\"offsetgroup\":\"16\",\"orientation\":\"h\",\"showlegend\":true,\"text\":[\"\\uad6d\\ubbfc\\uc5f0\\uae08\\uac00\\uc785\\uc5ec\\ubd80\"],\"textposition\":\"auto\",\"x\":[0.049099646508693695],\"xaxis\":\"x\",\"y\":[\"\\uad6d\\ubbfc\\uc5f0\\uae08\\uac00\\uc785\\uc5ec\\ubd80\"],\"yaxis\":\"y\",\"type\":\"bar\"},{\"alignmentgroup\":\"True\",\"hovertemplate\":\"\\uc21c\\uc704=9\\u003cbr\\u003e\\uc784\\uae08\\ubd84\\uc704=\\uc784\\uae081\\ubd84\\uc704\\u003cbr\\u003e\\uc784\\uae08\\uc5d0 \\ub300\\ud55c \\uc601\\ud5a5\\ub825=%{x}\\u003cbr\\u003e\\ubcc0\\uc218=%{text}\\u003cextra\\u003e\\u003c\\u002fextra\\u003e\",\"legendgroup\":\"9\",\"marker\":{\"color\":\"tomato\",\"pattern\":{\"shape\":\"\"}},\"name\":\"9\",\"offsetgroup\":\"9\",\"orientation\":\"h\",\"showlegend\":true,\"text\":[\"\\uad50\\uc721\\uc815\\ub3c4_\\ud559\\ub825\\uad6c\\ubd84\\ucf54\\ub4dc\"],\"textposition\":\"auto\",\"x\":[0.278839111328125],\"xaxis\":\"x\",\"y\":[\"\\uad50\\uc721\\uc815\\ub3c4_\\ud559\\ub825\\uad6c\\ubd84\\ucf54\\ub4dc\"],\"yaxis\":\"y\",\"type\":\"bar\"},{\"alignmentgroup\":\"True\",\"hovertemplate\":\"\\uc21c\\uc704=11\\u003cbr\\u003e\\uc784\\uae08\\ubd84\\uc704=\\uc784\\uae081\\ubd84\\uc704\\u003cbr\\u003e\\uc784\\uae08\\uc5d0 \\ub300\\ud55c \\uc601\\ud5a5\\ub825=%{x}\\u003cbr\\u003e\\ubcc0\\uc218=%{text}\\u003cextra\\u003e\\u003c\\u002fextra\\u003e\",\"legendgroup\":\"11\",\"marker\":{\"color\":\"tomato\",\"pattern\":{\"shape\":\"\"}},\"name\":\"11\",\"offsetgroup\":\"11\",\"orientation\":\"h\",\"showlegend\":true,\"text\":[\"\\uace0\\uc6a9\\ud615\\ud0dc\\ucf54\\ub4dc\"],\"textposition\":\"auto\",\"x\":[0.20335909724235535],\"xaxis\":\"x\",\"y\":[\"\\uace0\\uc6a9\\ud615\\ud0dc\\ucf54\\ub4dc\"],\"yaxis\":\"y\",\"type\":\"bar\"},{\"alignmentgroup\":\"True\",\"hovertemplate\":\"\\uc21c\\uc704=15\\u003cbr\\u003e\\uc784\\uae08\\ubd84\\uc704=\\uc784\\uae081\\ubd84\\uc704\\u003cbr\\u003e\\uc784\\uae08\\uc5d0 \\ub300\\ud55c \\uc601\\ud5a5\\ub825=%{x}\\u003cbr\\u003e\\ubcc0\\uc218=%{text}\\u003cextra\\u003e\\u003c\\u002fextra\\u003e\",\"legendgroup\":\"15\",\"marker\":{\"color\":\"tomato\",\"pattern\":{\"shape\":\"\"}},\"name\":\"15\",\"offsetgroup\":\"15\",\"orientation\":\"h\",\"showlegend\":true,\"text\":[\"\\uace0\\uc6a9\\ubcf4\\ud5d8\\uac00\\uc785\\uc5ec\\ubd80\"],\"textposition\":\"auto\",\"x\":[0.05104440078139305],\"xaxis\":\"x\",\"y\":[\"\\uace0\\uc6a9\\ubcf4\\ud5d8\\uac00\\uc785\\uc5ec\\ubd80\"],\"yaxis\":\"y\",\"type\":\"bar\"},{\"alignmentgroup\":\"True\",\"hovertemplate\":\"\\uc21c\\uc704=3\\u003cbr\\u003e\\uc784\\uae08\\ubd84\\uc704=\\uc784\\uae081\\ubd84\\uc704\\u003cbr\\u003e\\uc784\\uae08\\uc5d0 \\ub300\\ud55c \\uc601\\ud5a5\\ub825=%{x}\\u003cbr\\u003e\\ubcc0\\uc218=%{text}\\u003cextra\\u003e\\u003c\\u002fextra\\u003e\",\"legendgroup\":\"3\",\"marker\":{\"color\":\"saddlebrown\",\"pattern\":{\"shape\":\"\"}},\"name\":\"3\",\"offsetgroup\":\"3\",\"orientation\":\"h\",\"showlegend\":true,\"text\":[\"\\uacbd\\ub825\\ub144\\uc218\\ucf54\\ub4dc\"],\"textposition\":\"auto\",\"x\":[0.46949928998947144],\"xaxis\":\"x\",\"y\":[\"\\uacbd\\ub825\\ub144\\uc218\\ucf54\\ub4dc\"],\"yaxis\":\"y\",\"type\":\"bar\"},{\"alignmentgroup\":\"True\",\"hovertemplate\":\"\\uc21c\\uc704=18\\u003cbr\\u003e\\uc784\\uae08\\ubd84\\uc704=\\uc784\\uae081\\ubd84\\uc704\\u003cbr\\u003e\\uc784\\uae08\\uc5d0 \\ub300\\ud55c \\uc601\\ud5a5\\ub825=%{x}\\u003cbr\\u003e\\ubcc0\\uc218=%{text}\\u003cextra\\u003e\\u003c\\u002fextra\\u003e\",\"legendgroup\":\"18\",\"marker\":{\"color\":\"tomato\",\"pattern\":{\"shape\":\"\"}},\"name\":\"18\",\"offsetgroup\":\"18\",\"orientation\":\"h\",\"showlegend\":true,\"text\":[\"\\uac74\\uac15\\ubcf4\\ud5d8\\uac00\\uc785\\uc5ec\\ubd80\"],\"textposition\":\"auto\",\"x\":[0.03378637880086899],\"xaxis\":\"x\",\"y\":[\"\\uac74\\uac15\\ubcf4\\ud5d8\\uac00\\uc785\\uc5ec\\ubd80\"],\"yaxis\":\"y\",\"type\":\"bar\"}],                        {\"template\":{\"data\":{\"histogram2dcontour\":[{\"type\":\"histogram2dcontour\",\"colorbar\":{\"outlinewidth\":0,\"ticks\":\"\"},\"colorscale\":[[0.0,\"#0d0887\"],[0.1111111111111111,\"#46039f\"],[0.2222222222222222,\"#7201a8\"],[0.3333333333333333,\"#9c179e\"],[0.4444444444444444,\"#bd3786\"],[0.5555555555555556,\"#d8576b\"],[0.6666666666666666,\"#ed7953\"],[0.7777777777777778,\"#fb9f3a\"],[0.8888888888888888,\"#fdca26\"],[1.0,\"#f0f921\"]]}],\"choropleth\":[{\"type\":\"choropleth\",\"colorbar\":{\"outlinewidth\":0,\"ticks\":\"\"}}],\"histogram2d\":[{\"type\":\"histogram2d\",\"colorbar\":{\"outlinewidth\":0,\"ticks\":\"\"},\"colorscale\":[[0.0,\"#0d0887\"],[0.1111111111111111,\"#46039f\"],[0.2222222222222222,\"#7201a8\"],[0.3333333333333333,\"#9c179e\"],[0.4444444444444444,\"#bd3786\"],[0.5555555555555556,\"#d8576b\"],[0.6666666666666666,\"#ed7953\"],[0.7777777777777778,\"#fb9f3a\"],[0.8888888888888888,\"#fdca26\"],[1.0,\"#f0f921\"]]}],\"heatmap\":[{\"type\":\"heatmap\",\"colorbar\":{\"outlinewidth\":0,\"ticks\":\"\"},\"colorscale\":[[0.0,\"#0d0887\"],[0.1111111111111111,\"#46039f\"],[0.2222222222222222,\"#7201a8\"],[0.3333333333333333,\"#9c179e\"],[0.4444444444444444,\"#bd3786\"],[0.5555555555555556,\"#d8576b\"],[0.6666666666666666,\"#ed7953\"],[0.7777777777777778,\"#fb9f3a\"],[0.8888888888888888,\"#fdca26\"],[1.0,\"#f0f921\"]]}],\"heatmapgl\":[{\"type\":\"heatmapgl\",\"colorbar\":{\"outlinewidth\":0,\"ticks\":\"\"},\"colorscale\":[[0.0,\"#0d0887\"],[0.1111111111111111,\"#46039f\"],[0.2222222222222222,\"#7201a8\"],[0.3333333333333333,\"#9c179e\"],[0.4444444444444444,\"#bd3786\"],[0.5555555555555556,\"#d8576b\"],[0.6666666666666666,\"#ed7953\"],[0.7777777777777778,\"#fb9f3a\"],[0.8888888888888888,\"#fdca26\"],[1.0,\"#f0f921\"]]}],\"contourcarpet\":[{\"type\":\"contourcarpet\",\"colorbar\":{\"outlinewidth\":0,\"ticks\":\"\"}}],\"contour\":[{\"type\":\"contour\",\"colorbar\":{\"outlinewidth\":0,\"ticks\":\"\"},\"colorscale\":[[0.0,\"#0d0887\"],[0.1111111111111111,\"#46039f\"],[0.2222222222222222,\"#7201a8\"],[0.3333333333333333,\"#9c179e\"],[0.4444444444444444,\"#bd3786\"],[0.5555555555555556,\"#d8576b\"],[0.6666666666666666,\"#ed7953\"],[0.7777777777777778,\"#fb9f3a\"],[0.8888888888888888,\"#fdca26\"],[1.0,\"#f0f921\"]]}],\"surface\":[{\"type\":\"surface\",\"colorbar\":{\"outlinewidth\":0,\"ticks\":\"\"},\"colorscale\":[[0.0,\"#0d0887\"],[0.1111111111111111,\"#46039f\"],[0.2222222222222222,\"#7201a8\"],[0.3333333333333333,\"#9c179e\"],[0.4444444444444444,\"#bd3786\"],[0.5555555555555556,\"#d8576b\"],[0.6666666666666666,\"#ed7953\"],[0.7777777777777778,\"#fb9f3a\"],[0.8888888888888888,\"#fdca26\"],[1.0,\"#f0f921\"]]}],\"mesh3d\":[{\"type\":\"mesh3d\",\"colorbar\":{\"outlinewidth\":0,\"ticks\":\"\"}}],\"scatter\":[{\"fillpattern\":{\"fillmode\":\"overlay\",\"size\":10,\"solidity\":0.2},\"type\":\"scatter\"}],\"parcoords\":[{\"type\":\"parcoords\",\"line\":{\"colorbar\":{\"outlinewidth\":0,\"ticks\":\"\"}}}],\"scatterpolargl\":[{\"type\":\"scatterpolargl\",\"marker\":{\"colorbar\":{\"outlinewidth\":0,\"ticks\":\"\"}}}],\"bar\":[{\"error_x\":{\"color\":\"#2a3f5f\"},\"error_y\":{\"color\":\"#2a3f5f\"},\"marker\":{\"line\":{\"color\":\"#E5ECF6\",\"width\":0.5},\"pattern\":{\"fillmode\":\"overlay\",\"size\":10,\"solidity\":0.2}},\"type\":\"bar\"}],\"scattergeo\":[{\"type\":\"scattergeo\",\"marker\":{\"colorbar\":{\"outlinewidth\":0,\"ticks\":\"\"}}}],\"scatterpolar\":[{\"type\":\"scatterpolar\",\"marker\":{\"colorbar\":{\"outlinewidth\":0,\"ticks\":\"\"}}}],\"histogram\":[{\"marker\":{\"pattern\":{\"fillmode\":\"overlay\",\"size\":10,\"solidity\":0.2}},\"type\":\"histogram\"}],\"scattergl\":[{\"type\":\"scattergl\",\"marker\":{\"colorbar\":{\"outlinewidth\":0,\"ticks\":\"\"}}}],\"scatter3d\":[{\"type\":\"scatter3d\",\"line\":{\"colorbar\":{\"outlinewidth\":0,\"ticks\":\"\"}},\"marker\":{\"colorbar\":{\"outlinewidth\":0,\"ticks\":\"\"}}}],\"scattermapbox\":[{\"type\":\"scattermapbox\",\"marker\":{\"colorbar\":{\"outlinewidth\":0,\"ticks\":\"\"}}}],\"scatterternary\":[{\"type\":\"scatterternary\",\"marker\":{\"colorbar\":{\"outlinewidth\":0,\"ticks\":\"\"}}}],\"scattercarpet\":[{\"type\":\"scattercarpet\",\"marker\":{\"colorbar\":{\"outlinewidth\":0,\"ticks\":\"\"}}}],\"carpet\":[{\"aaxis\":{\"endlinecolor\":\"#2a3f5f\",\"gridcolor\":\"white\",\"linecolor\":\"white\",\"minorgridcolor\":\"white\",\"startlinecolor\":\"#2a3f5f\"},\"baxis\":{\"endlinecolor\":\"#2a3f5f\",\"gridcolor\":\"white\",\"linecolor\":\"white\",\"minorgridcolor\":\"white\",\"startlinecolor\":\"#2a3f5f\"},\"type\":\"carpet\"}],\"table\":[{\"cells\":{\"fill\":{\"color\":\"#EBF0F8\"},\"line\":{\"color\":\"white\"}},\"header\":{\"fill\":{\"color\":\"#C8D4E3\"},\"line\":{\"color\":\"white\"}},\"type\":\"table\"}],\"barpolar\":[{\"marker\":{\"line\":{\"color\":\"#E5ECF6\",\"width\":0.5},\"pattern\":{\"fillmode\":\"overlay\",\"size\":10,\"solidity\":0.2}},\"type\":\"barpolar\"}],\"pie\":[{\"automargin\":true,\"type\":\"pie\"}]},\"layout\":{\"autotypenumbers\":\"strict\",\"colorway\":[\"#636efa\",\"#EF553B\",\"#00cc96\",\"#ab63fa\",\"#FFA15A\",\"#19d3f3\",\"#FF6692\",\"#B6E880\",\"#FF97FF\",\"#FECB52\"],\"font\":{\"color\":\"#2a3f5f\"},\"hovermode\":\"closest\",\"hoverlabel\":{\"align\":\"left\"},\"paper_bgcolor\":\"white\",\"plot_bgcolor\":\"#E5ECF6\",\"polar\":{\"bgcolor\":\"#E5ECF6\",\"angularaxis\":{\"gridcolor\":\"white\",\"linecolor\":\"white\",\"ticks\":\"\"},\"radialaxis\":{\"gridcolor\":\"white\",\"linecolor\":\"white\",\"ticks\":\"\"}},\"ternary\":{\"bgcolor\":\"#E5ECF6\",\"aaxis\":{\"gridcolor\":\"white\",\"linecolor\":\"white\",\"ticks\":\"\"},\"baxis\":{\"gridcolor\":\"white\",\"linecolor\":\"white\",\"ticks\":\"\"},\"caxis\":{\"gridcolor\":\"white\",\"linecolor\":\"white\",\"ticks\":\"\"}},\"coloraxis\":{\"colorbar\":{\"outlinewidth\":0,\"ticks\":\"\"}},\"colorscale\":{\"sequential\":[[0.0,\"#0d0887\"],[0.1111111111111111,\"#46039f\"],[0.2222222222222222,\"#7201a8\"],[0.3333333333333333,\"#9c179e\"],[0.4444444444444444,\"#bd3786\"],[0.5555555555555556,\"#d8576b\"],[0.6666666666666666,\"#ed7953\"],[0.7777777777777778,\"#fb9f3a\"],[0.8888888888888888,\"#fdca26\"],[1.0,\"#f0f921\"]],\"sequentialminus\":[[0.0,\"#0d0887\"],[0.1111111111111111,\"#46039f\"],[0.2222222222222222,\"#7201a8\"],[0.3333333333333333,\"#9c179e\"],[0.4444444444444444,\"#bd3786\"],[0.5555555555555556,\"#d8576b\"],[0.6666666666666666,\"#ed7953\"],[0.7777777777777778,\"#fb9f3a\"],[0.8888888888888888,\"#fdca26\"],[1.0,\"#f0f921\"]],\"diverging\":[[0,\"#8e0152\"],[0.1,\"#c51b7d\"],[0.2,\"#de77ae\"],[0.3,\"#f1b6da\"],[0.4,\"#fde0ef\"],[0.5,\"#f7f7f7\"],[0.6,\"#e6f5d0\"],[0.7,\"#b8e186\"],[0.8,\"#7fbc41\"],[0.9,\"#4d9221\"],[1,\"#276419\"]]},\"xaxis\":{\"gridcolor\":\"white\",\"linecolor\":\"white\",\"ticks\":\"\",\"title\":{\"standoff\":15},\"zerolinecolor\":\"white\",\"automargin\":true,\"zerolinewidth\":2},\"yaxis\":{\"gridcolor\":\"white\",\"linecolor\":\"white\",\"ticks\":\"\",\"title\":{\"standoff\":15},\"zerolinecolor\":\"white\",\"automargin\":true,\"zerolinewidth\":2},\"scene\":{\"xaxis\":{\"backgroundcolor\":\"#E5ECF6\",\"gridcolor\":\"white\",\"linecolor\":\"white\",\"showbackground\":true,\"ticks\":\"\",\"zerolinecolor\":\"white\",\"gridwidth\":2},\"yaxis\":{\"backgroundcolor\":\"#E5ECF6\",\"gridcolor\":\"white\",\"linecolor\":\"white\",\"showbackground\":true,\"ticks\":\"\",\"zerolinecolor\":\"white\",\"gridwidth\":2},\"zaxis\":{\"backgroundcolor\":\"#E5ECF6\",\"gridcolor\":\"white\",\"linecolor\":\"white\",\"showbackground\":true,\"ticks\":\"\",\"zerolinecolor\":\"white\",\"gridwidth\":2}},\"shapedefaults\":{\"line\":{\"color\":\"#2a3f5f\"}},\"annotationdefaults\":{\"arrowcolor\":\"#2a3f5f\",\"arrowhead\":0,\"arrowwidth\":1},\"geo\":{\"bgcolor\":\"white\",\"landcolor\":\"#E5ECF6\",\"subunitcolor\":\"white\",\"showland\":true,\"showlakes\":true,\"lakecolor\":\"white\"},\"title\":{\"x\":0.05},\"mapbox\":{\"style\":\"light\"}}},\"xaxis\":{\"anchor\":\"y\",\"domain\":[0.0,1.0],\"title\":{\"text\":\"\\uc784\\uae08\\uc5d0 \\ub300\\ud55c \\uc601\\ud5a5\\ub825\"}},\"yaxis\":{\"anchor\":\"x\",\"domain\":[0.0,1.0],\"title\":{\"text\":\"\\ubcc0\\uc218\"},\"categoryorder\":\"array\",\"categoryarray\":[\"\\ud1f4\\uc9c1\\uc5f0\\uae08\\uac00\\uc785\\uc5ec\\ubd80\",\"\\ucd1d\\uadfc\\ub85c\\uc2dc\\uac04_10\\ubd84\\uc704\",\"\\uc9c1\\uc5c5\\ub300\\ubd84\\ub958\\ucf54\\ub4dc\",\"\\uc784\\uae08\\uc0b0\\uc815\\uae30\\uc900\\ucf54\\ub4dc\",\"\\uc5f0\\ub839_10\\ubd84\\uc704\",\"\\uc131\\ubcc4\\ucf54\\ub4dc\",\"\\uc0c1\\uc5ec\\uae08\\uc9c0\\uae09\\uc5ec\\ubd80\",\"\\uc0b0\\uc7ac\\ubcf4\\ud5d8\\uac00\\uc785\\uc5ec\\ubd80\",\"\\uc0b0\\uc5c5\\ub300\\ubd84\\ub958\\ucf54\\ub4dc\",\"\\uc0ac\\uc5c5\\uccb4\\uaddc\\ubaa8\\ucf54\\ub4dc\",\"\\ub178\\ub3d9\\uc870\\ud569\\uac00\\uc785\\ucf54\\ub4dc\",\"\\uadfc\\ubb34\\ud615\\ud0dc\\ucf54\\ub4dc\",\"\\uadfc\\ubb34\\ud615\\ud0dc_\\uc804\\uc77c\\uc81c\\uc0c1\\uc6a9\\uc5ec\\ubd80\",\"\\uad6d\\ubbfc\\uc5f0\\uae08\\uac00\\uc785\\uc5ec\\ubd80\",\"\\uad50\\uc721\\uc815\\ub3c4_\\ud559\\ub825\\uad6c\\ubd84\\ucf54\\ub4dc\",\"\\uace0\\uc6a9\\ud615\\ud0dc\\ucf54\\ub4dc\",\"\\uace0\\uc6a9\\ubcf4\\ud5d8\\uac00\\uc785\\uc5ec\\ubd80\",\"\\uacbd\\ub825\\ub144\\uc218\\ucf54\\ub4dc\",\"\\uac74\\uac15\\ubcf4\\ud5d8\\uac00\\uc785\\uc5ec\\ubd80\"]},\"legend\":{\"title\":{\"text\":\"\\uc21c\\uc704\"},\"tracegroupgap\":0},\"title\":{\"text\":\"\\uc784\\uae08 \\ubd84\\uc704\\ubcc4 \\ubcc0\\uc218 \\uc911\\uc694\\ub3c4 \\ubcc0\\ud654\",\"font\":{\"size\":20}},\"barmode\":\"relative\",\"updatemenus\":[{\"buttons\":[{\"args\":[null,{\"frame\":{\"duration\":1500}}],\"label\":\"&#9654;\",\"method\":\"animate\"},{\"args\":[null,{\"frame\":{\"duration\":1500}}],\"label\":\"&#9724;\",\"method\":\"animate\"}],\"direction\":\"left\",\"pad\":{\"r\":10,\"t\":70},\"showactive\":false,\"type\":\"buttons\",\"x\":0.1,\"xanchor\":\"right\",\"y\":0,\"yanchor\":\"top\"}],\"sliders\":[{\"active\":0,\"currentvalue\":{\"prefix\":\"\\uc784\\uae08 \\ubd84\\uc704: \"},\"len\":0.9,\"pad\":{\"b\":10,\"t\":60},\"steps\":[{\"args\":[[\"\\uc784\\uae081\\ubd84\\uc704\"],{\"frame\":{\"duration\":0,\"redraw\":true},\"mode\":\"immediate\",\"fromcurrent\":true,\"transition\":{\"duration\":0,\"easing\":\"linear\"}}],\"label\":\"\\uc784\\uae081\\ubd84\\uc704\",\"method\":\"animate\"},{\"args\":[[\"\\uc784\\uae082\\ubd84\\uc704\"],{\"frame\":{\"duration\":0,\"redraw\":true},\"mode\":\"immediate\",\"fromcurrent\":true,\"transition\":{\"duration\":0,\"easing\":\"linear\"}}],\"label\":\"\\uc784\\uae082\\ubd84\\uc704\",\"method\":\"animate\"},{\"args\":[[\"\\uc784\\uae083\\ubd84\\uc704\"],{\"frame\":{\"duration\":0,\"redraw\":true},\"mode\":\"immediate\",\"fromcurrent\":true,\"transition\":{\"duration\":0,\"easing\":\"linear\"}}],\"label\":\"\\uc784\\uae083\\ubd84\\uc704\",\"method\":\"animate\"},{\"args\":[[\"\\uc784\\uae084\\ubd84\\uc704\"],{\"frame\":{\"duration\":0,\"redraw\":true},\"mode\":\"immediate\",\"fromcurrent\":true,\"transition\":{\"duration\":0,\"easing\":\"linear\"}}],\"label\":\"\\uc784\\uae084\\ubd84\\uc704\",\"method\":\"animate\"},{\"args\":[[\"\\uc784\\uae085\\ubd84\\uc704\"],{\"frame\":{\"duration\":0,\"redraw\":true},\"mode\":\"immediate\",\"fromcurrent\":true,\"transition\":{\"duration\":0,\"easing\":\"linear\"}}],\"label\":\"\\uc784\\uae085\\ubd84\\uc704\",\"method\":\"animate\"}],\"x\":0.1,\"xanchor\":\"left\",\"y\":0,\"yanchor\":\"top\"}],\"uniformtext\":{\"minsize\":8,\"mode\":\"hide\"},\"height\":700,\"coloraxis\":{\"showscale\":false},\"showlegend\":false},                        {\"responsive\": true}                    ).then(function(){\n",
       "                            Plotly.addFrames('3f426a9c-d0bf-42cb-9052-ba207eddfc6a', [{\"data\":[{\"alignmentgroup\":\"True\",\"hovertemplate\":\"\\uc21c\\uc704=13\\u003cbr\\u003e\\uc784\\uae08\\ubd84\\uc704=\\uc784\\uae081\\ubd84\\uc704\\u003cbr\\u003e\\uc784\\uae08\\uc5d0 \\ub300\\ud55c \\uc601\\ud5a5\\ub825=%{x}\\u003cbr\\u003e\\ubcc0\\uc218=%{text}\\u003cextra\\u003e\\u003c\\u002fextra\\u003e\",\"legendgroup\":\"13\",\"marker\":{\"color\":\"tomato\",\"pattern\":{\"shape\":\"\"}},\"name\":\"13\",\"offsetgroup\":\"13\",\"orientation\":\"h\",\"showlegend\":true,\"text\":[\"\\ud1f4\\uc9c1\\uc5f0\\uae08\\uac00\\uc785\\uc5ec\\ubd80\"],\"textposition\":\"auto\",\"x\":[0.17953747510910034],\"xaxis\":\"x\",\"y\":[\"\\ud1f4\\uc9c1\\uc5f0\\uae08\\uac00\\uc785\\uc5ec\\ubd80\"],\"yaxis\":\"y\",\"type\":\"bar\"},{\"alignmentgroup\":\"True\",\"hovertemplate\":\"\\uc21c\\uc704=1\\u003cbr\\u003e\\uc784\\uae08\\ubd84\\uc704=\\uc784\\uae081\\ubd84\\uc704\\u003cbr\\u003e\\uc784\\uae08\\uc5d0 \\ub300\\ud55c \\uc601\\ud5a5\\ub825=%{x}\\u003cbr\\u003e\\ubcc0\\uc218=%{text}\\u003cextra\\u003e\\u003c\\u002fextra\\u003e\",\"legendgroup\":\"1\",\"marker\":{\"color\":\"forestgreen\",\"pattern\":{\"shape\":\"\"}},\"name\":\"1\",\"offsetgroup\":\"1\",\"orientation\":\"h\",\"showlegend\":true,\"text\":[\"\\ucd1d\\uadfc\\ub85c\\uc2dc\\uac04_10\\ubd84\\uc704\"],\"textposition\":\"auto\",\"x\":[0.9995107650756836],\"xaxis\":\"x\",\"y\":[\"\\ucd1d\\uadfc\\ub85c\\uc2dc\\uac04_10\\ubd84\\uc704\"],\"yaxis\":\"y\",\"type\":\"bar\"},{\"alignmentgroup\":\"True\",\"hovertemplate\":\"\\uc21c\\uc704=8\\u003cbr\\u003e\\uc784\\uae08\\ubd84\\uc704=\\uc784\\uae081\\ubd84\\uc704\\u003cbr\\u003e\\uc784\\uae08\\uc5d0 \\ub300\\ud55c \\uc601\\ud5a5\\ub825=%{x}\\u003cbr\\u003e\\ubcc0\\uc218=%{text}\\u003cextra\\u003e\\u003c\\u002fextra\\u003e\",\"legendgroup\":\"8\",\"marker\":{\"color\":\"tomato\",\"pattern\":{\"shape\":\"\"}},\"name\":\"8\",\"offsetgroup\":\"8\",\"orientation\":\"h\",\"showlegend\":true,\"text\":[\"\\uc9c1\\uc5c5\\ub300\\ubd84\\ub958\\ucf54\\ub4dc\"],\"textposition\":\"auto\",\"x\":[0.3435644507408142],\"xaxis\":\"x\",\"y\":[\"\\uc9c1\\uc5c5\\ub300\\ubd84\\ub958\\ucf54\\ub4dc\"],\"yaxis\":\"y\",\"type\":\"bar\"},{\"alignmentgroup\":\"True\",\"hovertemplate\":\"\\uc21c\\uc704=7\\u003cbr\\u003e\\uc784\\uae08\\ubd84\\uc704=\\uc784\\uae081\\ubd84\\uc704\\u003cbr\\u003e\\uc784\\uae08\\uc5d0 \\ub300\\ud55c \\uc601\\ud5a5\\ub825=%{x}\\u003cbr\\u003e\\ubcc0\\uc218=%{text}\\u003cextra\\u003e\\u003c\\u002fextra\\u003e\",\"legendgroup\":\"7\",\"marker\":{\"color\":\"tomato\",\"pattern\":{\"shape\":\"\"}},\"name\":\"7\",\"offsetgroup\":\"7\",\"orientation\":\"h\",\"showlegend\":true,\"text\":[\"\\uc784\\uae08\\uc0b0\\uc815\\uae30\\uc900\\ucf54\\ub4dc\"],\"textposition\":\"auto\",\"x\":[0.36308035254478455],\"xaxis\":\"x\",\"y\":[\"\\uc784\\uae08\\uc0b0\\uc815\\uae30\\uc900\\ucf54\\ub4dc\"],\"yaxis\":\"y\",\"type\":\"bar\"},{\"alignmentgroup\":\"True\",\"hovertemplate\":\"\\uc21c\\uc704=12\\u003cbr\\u003e\\uc784\\uae08\\ubd84\\uc704=\\uc784\\uae081\\ubd84\\uc704\\u003cbr\\u003e\\uc784\\uae08\\uc5d0 \\ub300\\ud55c \\uc601\\ud5a5\\ub825=%{x}\\u003cbr\\u003e\\ubcc0\\uc218=%{text}\\u003cextra\\u003e\\u003c\\u002fextra\\u003e\",\"legendgroup\":\"12\",\"marker\":{\"color\":\"tomato\",\"pattern\":{\"shape\":\"\"}},\"name\":\"12\",\"offsetgroup\":\"12\",\"orientation\":\"h\",\"showlegend\":true,\"text\":[\"\\uc5f0\\ub839_10\\ubd84\\uc704\"],\"textposition\":\"auto\",\"x\":[0.18187272548675537],\"xaxis\":\"x\",\"y\":[\"\\uc5f0\\ub839_10\\ubd84\\uc704\"],\"yaxis\":\"y\",\"type\":\"bar\"},{\"alignmentgroup\":\"True\",\"hovertemplate\":\"\\uc21c\\uc704=5\\u003cbr\\u003e\\uc784\\uae08\\ubd84\\uc704=\\uc784\\uae081\\ubd84\\uc704\\u003cbr\\u003e\\uc784\\uae08\\uc5d0 \\ub300\\ud55c \\uc601\\ud5a5\\ub825=%{x}\\u003cbr\\u003e\\ubcc0\\uc218=%{text}\\u003cextra\\u003e\\u003c\\u002fextra\\u003e\",\"legendgroup\":\"5\",\"marker\":{\"color\":\"tomato\",\"pattern\":{\"shape\":\"\"}},\"name\":\"5\",\"offsetgroup\":\"5\",\"orientation\":\"h\",\"showlegend\":true,\"text\":[\"\\uc131\\ubcc4\\ucf54\\ub4dc\"],\"textposition\":\"auto\",\"x\":[0.3708541691303253],\"xaxis\":\"x\",\"y\":[\"\\uc131\\ubcc4\\ucf54\\ub4dc\"],\"yaxis\":\"y\",\"type\":\"bar\"},{\"alignmentgroup\":\"True\",\"hovertemplate\":\"\\uc21c\\uc704=4\\u003cbr\\u003e\\uc784\\uae08\\ubd84\\uc704=\\uc784\\uae081\\ubd84\\uc704\\u003cbr\\u003e\\uc784\\uae08\\uc5d0 \\ub300\\ud55c \\uc601\\ud5a5\\ub825=%{x}\\u003cbr\\u003e\\ubcc0\\uc218=%{text}\\u003cextra\\u003e\\u003c\\u002fextra\\u003e\",\"legendgroup\":\"4\",\"marker\":{\"color\":\"tomato\",\"pattern\":{\"shape\":\"\"}},\"name\":\"4\",\"offsetgroup\":\"4\",\"orientation\":\"h\",\"showlegend\":true,\"text\":[\"\\uc0c1\\uc5ec\\uae08\\uc9c0\\uae09\\uc5ec\\ubd80\"],\"textposition\":\"auto\",\"x\":[0.45381203293800354],\"xaxis\":\"x\",\"y\":[\"\\uc0c1\\uc5ec\\uae08\\uc9c0\\uae09\\uc5ec\\ubd80\"],\"yaxis\":\"y\",\"type\":\"bar\"},{\"alignmentgroup\":\"True\",\"hovertemplate\":\"\\uc21c\\uc704=19\\u003cbr\\u003e\\uc784\\uae08\\ubd84\\uc704=\\uc784\\uae081\\ubd84\\uc704\\u003cbr\\u003e\\uc784\\uae08\\uc5d0 \\ub300\\ud55c \\uc601\\ud5a5\\ub825=%{x}\\u003cbr\\u003e\\ubcc0\\uc218=%{text}\\u003cextra\\u003e\\u003c\\u002fextra\\u003e\",\"legendgroup\":\"19\",\"marker\":{\"color\":\"tomato\",\"pattern\":{\"shape\":\"\"}},\"name\":\"19\",\"offsetgroup\":\"19\",\"orientation\":\"h\",\"showlegend\":true,\"text\":[\"\\uc0b0\\uc7ac\\ubcf4\\ud5d8\\uac00\\uc785\\uc5ec\\ubd80\"],\"textposition\":\"auto\",\"x\":[0.017347943037748337],\"xaxis\":\"x\",\"y\":[\"\\uc0b0\\uc7ac\\ubcf4\\ud5d8\\uac00\\uc785\\uc5ec\\ubd80\"],\"yaxis\":\"y\",\"type\":\"bar\"},{\"alignmentgroup\":\"True\",\"hovertemplate\":\"\\uc21c\\uc704=6\\u003cbr\\u003e\\uc784\\uae08\\ubd84\\uc704=\\uc784\\uae081\\ubd84\\uc704\\u003cbr\\u003e\\uc784\\uae08\\uc5d0 \\ub300\\ud55c \\uc601\\ud5a5\\ub825=%{x}\\u003cbr\\u003e\\ubcc0\\uc218=%{text}\\u003cextra\\u003e\\u003c\\u002fextra\\u003e\",\"legendgroup\":\"6\",\"marker\":{\"color\":\"tomato\",\"pattern\":{\"shape\":\"\"}},\"name\":\"6\",\"offsetgroup\":\"6\",\"orientation\":\"h\",\"showlegend\":true,\"text\":[\"\\uc0b0\\uc5c5\\ub300\\ubd84\\ub958\\ucf54\\ub4dc\"],\"textposition\":\"auto\",\"x\":[0.3632711172103882],\"xaxis\":\"x\",\"y\":[\"\\uc0b0\\uc5c5\\ub300\\ubd84\\ub958\\ucf54\\ub4dc\"],\"yaxis\":\"y\",\"type\":\"bar\"},{\"alignmentgroup\":\"True\",\"hovertemplate\":\"\\uc21c\\uc704=2\\u003cbr\\u003e\\uc784\\uae08\\ubd84\\uc704=\\uc784\\uae081\\ubd84\\uc704\\u003cbr\\u003e\\uc784\\uae08\\uc5d0 \\ub300\\ud55c \\uc601\\ud5a5\\ub825=%{x}\\u003cbr\\u003e\\ubcc0\\uc218=%{text}\\u003cextra\\u003e\\u003c\\u002fextra\\u003e\",\"legendgroup\":\"2\",\"marker\":{\"color\":\"saddlebrown\",\"pattern\":{\"shape\":\"\"}},\"name\":\"2\",\"offsetgroup\":\"2\",\"orientation\":\"h\",\"showlegend\":true,\"text\":[\"\\uc0ac\\uc5c5\\uccb4\\uaddc\\ubaa8\\ucf54\\ub4dc\"],\"textposition\":\"auto\",\"x\":[0.691493034362793],\"xaxis\":\"x\",\"y\":[\"\\uc0ac\\uc5c5\\uccb4\\uaddc\\ubaa8\\ucf54\\ub4dc\"],\"yaxis\":\"y\",\"type\":\"bar\"},{\"alignmentgroup\":\"True\",\"hovertemplate\":\"\\uc21c\\uc704=10\\u003cbr\\u003e\\uc784\\uae08\\ubd84\\uc704=\\uc784\\uae081\\ubd84\\uc704\\u003cbr\\u003e\\uc784\\uae08\\uc5d0 \\ub300\\ud55c \\uc601\\ud5a5\\ub825=%{x}\\u003cbr\\u003e\\ubcc0\\uc218=%{text}\\u003cextra\\u003e\\u003c\\u002fextra\\u003e\",\"legendgroup\":\"10\",\"marker\":{\"color\":\"tomato\",\"pattern\":{\"shape\":\"\"}},\"name\":\"10\",\"offsetgroup\":\"10\",\"orientation\":\"h\",\"showlegend\":true,\"text\":[\"\\ub178\\ub3d9\\uc870\\ud569\\uac00\\uc785\\ucf54\\ub4dc\"],\"textposition\":\"auto\",\"x\":[0.21902643144130707],\"xaxis\":\"x\",\"y\":[\"\\ub178\\ub3d9\\uc870\\ud569\\uac00\\uc785\\ucf54\\ub4dc\"],\"yaxis\":\"y\",\"type\":\"bar\"},{\"alignmentgroup\":\"True\",\"hovertemplate\":\"\\uc21c\\uc704=14\\u003cbr\\u003e\\uc784\\uae08\\ubd84\\uc704=\\uc784\\uae081\\ubd84\\uc704\\u003cbr\\u003e\\uc784\\uae08\\uc5d0 \\ub300\\ud55c \\uc601\\ud5a5\\ub825=%{x}\\u003cbr\\u003e\\ubcc0\\uc218=%{text}\\u003cextra\\u003e\\u003c\\u002fextra\\u003e\",\"legendgroup\":\"14\",\"marker\":{\"color\":\"tomato\",\"pattern\":{\"shape\":\"\"}},\"name\":\"14\",\"offsetgroup\":\"14\",\"orientation\":\"h\",\"showlegend\":true,\"text\":[\"\\uadfc\\ubb34\\ud615\\ud0dc\\ucf54\\ub4dc\"],\"textposition\":\"auto\",\"x\":[0.12968383729457855],\"xaxis\":\"x\",\"y\":[\"\\uadfc\\ubb34\\ud615\\ud0dc\\ucf54\\ub4dc\"],\"yaxis\":\"y\",\"type\":\"bar\"},{\"alignmentgroup\":\"True\",\"hovertemplate\":\"\\uc21c\\uc704=17\\u003cbr\\u003e\\uc784\\uae08\\ubd84\\uc704=\\uc784\\uae081\\ubd84\\uc704\\u003cbr\\u003e\\uc784\\uae08\\uc5d0 \\ub300\\ud55c \\uc601\\ud5a5\\ub825=%{x}\\u003cbr\\u003e\\ubcc0\\uc218=%{text}\\u003cextra\\u003e\\u003c\\u002fextra\\u003e\",\"legendgroup\":\"17\",\"marker\":{\"color\":\"tomato\",\"pattern\":{\"shape\":\"\"}},\"name\":\"17\",\"offsetgroup\":\"17\",\"orientation\":\"h\",\"showlegend\":true,\"text\":[\"\\uadfc\\ubb34\\ud615\\ud0dc_\\uc804\\uc77c\\uc81c\\uc0c1\\uc6a9\\uc5ec\\ubd80\"],\"textposition\":\"auto\",\"x\":[0.03922146186232567],\"xaxis\":\"x\",\"y\":[\"\\uadfc\\ubb34\\ud615\\ud0dc_\\uc804\\uc77c\\uc81c\\uc0c1\\uc6a9\\uc5ec\\ubd80\"],\"yaxis\":\"y\",\"type\":\"bar\"},{\"alignmentgroup\":\"True\",\"hovertemplate\":\"\\uc21c\\uc704=16\\u003cbr\\u003e\\uc784\\uae08\\ubd84\\uc704=\\uc784\\uae081\\ubd84\\uc704\\u003cbr\\u003e\\uc784\\uae08\\uc5d0 \\ub300\\ud55c \\uc601\\ud5a5\\ub825=%{x}\\u003cbr\\u003e\\ubcc0\\uc218=%{text}\\u003cextra\\u003e\\u003c\\u002fextra\\u003e\",\"legendgroup\":\"16\",\"marker\":{\"color\":\"tomato\",\"pattern\":{\"shape\":\"\"}},\"name\":\"16\",\"offsetgroup\":\"16\",\"orientation\":\"h\",\"showlegend\":true,\"text\":[\"\\uad6d\\ubbfc\\uc5f0\\uae08\\uac00\\uc785\\uc5ec\\ubd80\"],\"textposition\":\"auto\",\"x\":[0.049099646508693695],\"xaxis\":\"x\",\"y\":[\"\\uad6d\\ubbfc\\uc5f0\\uae08\\uac00\\uc785\\uc5ec\\ubd80\"],\"yaxis\":\"y\",\"type\":\"bar\"},{\"alignmentgroup\":\"True\",\"hovertemplate\":\"\\uc21c\\uc704=9\\u003cbr\\u003e\\uc784\\uae08\\ubd84\\uc704=\\uc784\\uae081\\ubd84\\uc704\\u003cbr\\u003e\\uc784\\uae08\\uc5d0 \\ub300\\ud55c \\uc601\\ud5a5\\ub825=%{x}\\u003cbr\\u003e\\ubcc0\\uc218=%{text}\\u003cextra\\u003e\\u003c\\u002fextra\\u003e\",\"legendgroup\":\"9\",\"marker\":{\"color\":\"tomato\",\"pattern\":{\"shape\":\"\"}},\"name\":\"9\",\"offsetgroup\":\"9\",\"orientation\":\"h\",\"showlegend\":true,\"text\":[\"\\uad50\\uc721\\uc815\\ub3c4_\\ud559\\ub825\\uad6c\\ubd84\\ucf54\\ub4dc\"],\"textposition\":\"auto\",\"x\":[0.278839111328125],\"xaxis\":\"x\",\"y\":[\"\\uad50\\uc721\\uc815\\ub3c4_\\ud559\\ub825\\uad6c\\ubd84\\ucf54\\ub4dc\"],\"yaxis\":\"y\",\"type\":\"bar\"},{\"alignmentgroup\":\"True\",\"hovertemplate\":\"\\uc21c\\uc704=11\\u003cbr\\u003e\\uc784\\uae08\\ubd84\\uc704=\\uc784\\uae081\\ubd84\\uc704\\u003cbr\\u003e\\uc784\\uae08\\uc5d0 \\ub300\\ud55c \\uc601\\ud5a5\\ub825=%{x}\\u003cbr\\u003e\\ubcc0\\uc218=%{text}\\u003cextra\\u003e\\u003c\\u002fextra\\u003e\",\"legendgroup\":\"11\",\"marker\":{\"color\":\"tomato\",\"pattern\":{\"shape\":\"\"}},\"name\":\"11\",\"offsetgroup\":\"11\",\"orientation\":\"h\",\"showlegend\":true,\"text\":[\"\\uace0\\uc6a9\\ud615\\ud0dc\\ucf54\\ub4dc\"],\"textposition\":\"auto\",\"x\":[0.20335909724235535],\"xaxis\":\"x\",\"y\":[\"\\uace0\\uc6a9\\ud615\\ud0dc\\ucf54\\ub4dc\"],\"yaxis\":\"y\",\"type\":\"bar\"},{\"alignmentgroup\":\"True\",\"hovertemplate\":\"\\uc21c\\uc704=15\\u003cbr\\u003e\\uc784\\uae08\\ubd84\\uc704=\\uc784\\uae081\\ubd84\\uc704\\u003cbr\\u003e\\uc784\\uae08\\uc5d0 \\ub300\\ud55c \\uc601\\ud5a5\\ub825=%{x}\\u003cbr\\u003e\\ubcc0\\uc218=%{text}\\u003cextra\\u003e\\u003c\\u002fextra\\u003e\",\"legendgroup\":\"15\",\"marker\":{\"color\":\"tomato\",\"pattern\":{\"shape\":\"\"}},\"name\":\"15\",\"offsetgroup\":\"15\",\"orientation\":\"h\",\"showlegend\":true,\"text\":[\"\\uace0\\uc6a9\\ubcf4\\ud5d8\\uac00\\uc785\\uc5ec\\ubd80\"],\"textposition\":\"auto\",\"x\":[0.05104440078139305],\"xaxis\":\"x\",\"y\":[\"\\uace0\\uc6a9\\ubcf4\\ud5d8\\uac00\\uc785\\uc5ec\\ubd80\"],\"yaxis\":\"y\",\"type\":\"bar\"},{\"alignmentgroup\":\"True\",\"hovertemplate\":\"\\uc21c\\uc704=3\\u003cbr\\u003e\\uc784\\uae08\\ubd84\\uc704=\\uc784\\uae081\\ubd84\\uc704\\u003cbr\\u003e\\uc784\\uae08\\uc5d0 \\ub300\\ud55c \\uc601\\ud5a5\\ub825=%{x}\\u003cbr\\u003e\\ubcc0\\uc218=%{text}\\u003cextra\\u003e\\u003c\\u002fextra\\u003e\",\"legendgroup\":\"3\",\"marker\":{\"color\":\"saddlebrown\",\"pattern\":{\"shape\":\"\"}},\"name\":\"3\",\"offsetgroup\":\"3\",\"orientation\":\"h\",\"showlegend\":true,\"text\":[\"\\uacbd\\ub825\\ub144\\uc218\\ucf54\\ub4dc\"],\"textposition\":\"auto\",\"x\":[0.46949928998947144],\"xaxis\":\"x\",\"y\":[\"\\uacbd\\ub825\\ub144\\uc218\\ucf54\\ub4dc\"],\"yaxis\":\"y\",\"type\":\"bar\"},{\"alignmentgroup\":\"True\",\"hovertemplate\":\"\\uc21c\\uc704=18\\u003cbr\\u003e\\uc784\\uae08\\ubd84\\uc704=\\uc784\\uae081\\ubd84\\uc704\\u003cbr\\u003e\\uc784\\uae08\\uc5d0 \\ub300\\ud55c \\uc601\\ud5a5\\ub825=%{x}\\u003cbr\\u003e\\ubcc0\\uc218=%{text}\\u003cextra\\u003e\\u003c\\u002fextra\\u003e\",\"legendgroup\":\"18\",\"marker\":{\"color\":\"tomato\",\"pattern\":{\"shape\":\"\"}},\"name\":\"18\",\"offsetgroup\":\"18\",\"orientation\":\"h\",\"showlegend\":true,\"text\":[\"\\uac74\\uac15\\ubcf4\\ud5d8\\uac00\\uc785\\uc5ec\\ubd80\"],\"textposition\":\"auto\",\"x\":[0.03378637880086899],\"xaxis\":\"x\",\"y\":[\"\\uac74\\uac15\\ubcf4\\ud5d8\\uac00\\uc785\\uc5ec\\ubd80\"],\"yaxis\":\"y\",\"type\":\"bar\"}],\"name\":\"\\uc784\\uae081\\ubd84\\uc704\"},{\"data\":[{\"alignmentgroup\":\"True\",\"hovertemplate\":\"\\uc21c\\uc704=13\\u003cbr\\u003e\\uc784\\uae08\\ubd84\\uc704=\\uc784\\uae082\\ubd84\\uc704\\u003cbr\\u003e\\uc784\\uae08\\uc5d0 \\ub300\\ud55c \\uc601\\ud5a5\\ub825=%{x}\\u003cbr\\u003e\\ubcc0\\uc218=%{text}\\u003cextra\\u003e\\u003c\\u002fextra\\u003e\",\"legendgroup\":\"13\",\"marker\":{\"color\":\"tomato\",\"pattern\":{\"shape\":\"\"}},\"name\":\"13\",\"offsetgroup\":\"13\",\"orientation\":\"h\",\"showlegend\":true,\"text\":[\"\\uadfc\\ubb34\\ud615\\ud0dc\\ucf54\\ub4dc\"],\"textposition\":\"auto\",\"x\":[0.07539968192577362],\"xaxis\":\"x\",\"y\":[\"\\uadfc\\ubb34\\ud615\\ud0dc\\ucf54\\ub4dc\"],\"yaxis\":\"y\",\"type\":\"bar\"},{\"alignmentgroup\":\"True\",\"hovertemplate\":\"\\uc21c\\uc704=1\\u003cbr\\u003e\\uc784\\uae08\\ubd84\\uc704=\\uc784\\uae082\\ubd84\\uc704\\u003cbr\\u003e\\uc784\\uae08\\uc5d0 \\ub300\\ud55c \\uc601\\ud5a5\\ub825=%{x}\\u003cbr\\u003e\\ubcc0\\uc218=%{text}\\u003cextra\\u003e\\u003c\\u002fextra\\u003e\",\"legendgroup\":\"1\",\"marker\":{\"color\":\"forestgreen\",\"pattern\":{\"shape\":\"\"}},\"name\":\"1\",\"offsetgroup\":\"1\",\"orientation\":\"h\",\"showlegend\":true,\"text\":[\"\\uc0ac\\uc5c5\\uccb4\\uaddc\\ubaa8\\ucf54\\ub4dc\"],\"textposition\":\"auto\",\"x\":[0.4331998825073242],\"xaxis\":\"x\",\"y\":[\"\\uc0ac\\uc5c5\\uccb4\\uaddc\\ubaa8\\ucf54\\ub4dc\"],\"yaxis\":\"y\",\"type\":\"bar\"},{\"alignmentgroup\":\"True\",\"hovertemplate\":\"\\uc21c\\uc704=8\\u003cbr\\u003e\\uc784\\uae08\\ubd84\\uc704=\\uc784\\uae082\\ubd84\\uc704\\u003cbr\\u003e\\uc784\\uae08\\uc5d0 \\ub300\\ud55c \\uc601\\ud5a5\\ub825=%{x}\\u003cbr\\u003e\\ubcc0\\uc218=%{text}\\u003cextra\\u003e\\u003c\\u002fextra\\u003e\",\"legendgroup\":\"8\",\"marker\":{\"color\":\"tomato\",\"pattern\":{\"shape\":\"\"}},\"name\":\"8\",\"offsetgroup\":\"8\",\"orientation\":\"h\",\"showlegend\":true,\"text\":[\"\\uc784\\uae08\\uc0b0\\uc815\\uae30\\uc900\\ucf54\\ub4dc\"],\"textposition\":\"auto\",\"x\":[0.17917081713676453],\"xaxis\":\"x\",\"y\":[\"\\uc784\\uae08\\uc0b0\\uc815\\uae30\\uc900\\ucf54\\ub4dc\"],\"yaxis\":\"y\",\"type\":\"bar\"},{\"alignmentgroup\":\"True\",\"hovertemplate\":\"\\uc21c\\uc704=7\\u003cbr\\u003e\\uc784\\uae08\\ubd84\\uc704=\\uc784\\uae082\\ubd84\\uc704\\u003cbr\\u003e\\uc784\\uae08\\uc5d0 \\ub300\\ud55c \\uc601\\ud5a5\\ub825=%{x}\\u003cbr\\u003e\\ubcc0\\uc218=%{text}\\u003cextra\\u003e\\u003c\\u002fextra\\u003e\",\"legendgroup\":\"7\",\"marker\":{\"color\":\"tomato\",\"pattern\":{\"shape\":\"\"}},\"name\":\"7\",\"offsetgroup\":\"7\",\"orientation\":\"h\",\"showlegend\":true,\"text\":[\"\\uc9c1\\uc5c5\\ub300\\ubd84\\ub958\\ucf54\\ub4dc\"],\"textposition\":\"auto\",\"x\":[0.19992715120315552],\"xaxis\":\"x\",\"y\":[\"\\uc9c1\\uc5c5\\ub300\\ubd84\\ub958\\ucf54\\ub4dc\"],\"yaxis\":\"y\",\"type\":\"bar\"},{\"alignmentgroup\":\"True\",\"hovertemplate\":\"\\uc21c\\uc704=12\\u003cbr\\u003e\\uc784\\uae08\\ubd84\\uc704=\\uc784\\uae082\\ubd84\\uc704\\u003cbr\\u003e\\uc784\\uae08\\uc5d0 \\ub300\\ud55c \\uc601\\ud5a5\\ub825=%{x}\\u003cbr\\u003e\\ubcc0\\uc218=%{text}\\u003cextra\\u003e\\u003c\\u002fextra\\u003e\",\"legendgroup\":\"12\",\"marker\":{\"color\":\"tomato\",\"pattern\":{\"shape\":\"\"}},\"name\":\"12\",\"offsetgroup\":\"12\",\"orientation\":\"h\",\"showlegend\":true,\"text\":[\"\\uace0\\uc6a9\\ud615\\ud0dc\\ucf54\\ub4dc\"],\"textposition\":\"auto\",\"x\":[0.10871496796607971],\"xaxis\":\"x\",\"y\":[\"\\uace0\\uc6a9\\ud615\\ud0dc\\ucf54\\ub4dc\"],\"yaxis\":\"y\",\"type\":\"bar\"},{\"alignmentgroup\":\"True\",\"hovertemplate\":\"\\uc21c\\uc704=5\\u003cbr\\u003e\\uc784\\uae08\\ubd84\\uc704=\\uc784\\uae082\\ubd84\\uc704\\u003cbr\\u003e\\uc784\\uae08\\uc5d0 \\ub300\\ud55c \\uc601\\ud5a5\\ub825=%{x}\\u003cbr\\u003e\\ubcc0\\uc218=%{text}\\u003cextra\\u003e\\u003c\\u002fextra\\u003e\",\"legendgroup\":\"5\",\"marker\":{\"color\":\"tomato\",\"pattern\":{\"shape\":\"\"}},\"name\":\"5\",\"offsetgroup\":\"5\",\"orientation\":\"h\",\"showlegend\":true,\"text\":[\"\\uc0b0\\uc5c5\\ub300\\ubd84\\ub958\\ucf54\\ub4dc\"],\"textposition\":\"auto\",\"x\":[0.2380416840314865],\"xaxis\":\"x\",\"y\":[\"\\uc0b0\\uc5c5\\ub300\\ubd84\\ub958\\ucf54\\ub4dc\"],\"yaxis\":\"y\",\"type\":\"bar\"},{\"alignmentgroup\":\"True\",\"hovertemplate\":\"\\uc21c\\uc704=4\\u003cbr\\u003e\\uc784\\uae08\\ubd84\\uc704=\\uc784\\uae082\\ubd84\\uc704\\u003cbr\\u003e\\uc784\\uae08\\uc5d0 \\ub300\\ud55c \\uc601\\ud5a5\\ub825=%{x}\\u003cbr\\u003e\\ubcc0\\uc218=%{text}\\u003cextra\\u003e\\u003c\\u002fextra\\u003e\",\"legendgroup\":\"4\",\"marker\":{\"color\":\"tomato\",\"pattern\":{\"shape\":\"\"}},\"name\":\"4\",\"offsetgroup\":\"4\",\"orientation\":\"h\",\"showlegend\":true,\"text\":[\"\\uc131\\ubcc4\\ucf54\\ub4dc\"],\"textposition\":\"auto\",\"x\":[0.2395567148923874],\"xaxis\":\"x\",\"y\":[\"\\uc131\\ubcc4\\ucf54\\ub4dc\"],\"yaxis\":\"y\",\"type\":\"bar\"},{\"alignmentgroup\":\"True\",\"hovertemplate\":\"\\uc21c\\uc704=19\\u003cbr\\u003e\\uc784\\uae08\\ubd84\\uc704=\\uc784\\uae082\\ubd84\\uc704\\u003cbr\\u003e\\uc784\\uae08\\uc5d0 \\ub300\\ud55c \\uc601\\ud5a5\\ub825=%{x}\\u003cbr\\u003e\\ubcc0\\uc218=%{text}\\u003cextra\\u003e\\u003c\\u002fextra\\u003e\",\"legendgroup\":\"19\",\"marker\":{\"color\":\"tomato\",\"pattern\":{\"shape\":\"\"}},\"name\":\"19\",\"offsetgroup\":\"19\",\"orientation\":\"h\",\"showlegend\":true,\"text\":[\"\\uc0b0\\uc7ac\\ubcf4\\ud5d8\\uac00\\uc785\\uc5ec\\ubd80\"],\"textposition\":\"auto\",\"x\":[0.015243257395923138],\"xaxis\":\"x\",\"y\":[\"\\uc0b0\\uc7ac\\ubcf4\\ud5d8\\uac00\\uc785\\uc5ec\\ubd80\"],\"yaxis\":\"y\",\"type\":\"bar\"},{\"alignmentgroup\":\"True\",\"hovertemplate\":\"\\uc21c\\uc704=6\\u003cbr\\u003e\\uc784\\uae08\\ubd84\\uc704=\\uc784\\uae082\\ubd84\\uc704\\u003cbr\\u003e\\uc784\\uae08\\uc5d0 \\ub300\\ud55c \\uc601\\ud5a5\\ub825=%{x}\\u003cbr\\u003e\\ubcc0\\uc218=%{text}\\u003cextra\\u003e\\u003c\\u002fextra\\u003e\",\"legendgroup\":\"6\",\"marker\":{\"color\":\"tomato\",\"pattern\":{\"shape\":\"\"}},\"name\":\"6\",\"offsetgroup\":\"6\",\"orientation\":\"h\",\"showlegend\":true,\"text\":[\"\\uc5f0\\ub839_10\\ubd84\\uc704\"],\"textposition\":\"auto\",\"x\":[0.21028533577919006],\"xaxis\":\"x\",\"y\":[\"\\uc5f0\\ub839_10\\ubd84\\uc704\"],\"yaxis\":\"y\",\"type\":\"bar\"},{\"alignmentgroup\":\"True\",\"hovertemplate\":\"\\uc21c\\uc704=2\\u003cbr\\u003e\\uc784\\uae08\\ubd84\\uc704=\\uc784\\uae082\\ubd84\\uc704\\u003cbr\\u003e\\uc784\\uae08\\uc5d0 \\ub300\\ud55c \\uc601\\ud5a5\\ub825=%{x}\\u003cbr\\u003e\\ubcc0\\uc218=%{text}\\u003cextra\\u003e\\u003c\\u002fextra\\u003e\",\"legendgroup\":\"2\",\"marker\":{\"color\":\"saddlebrown\",\"pattern\":{\"shape\":\"\"}},\"name\":\"2\",\"offsetgroup\":\"2\",\"orientation\":\"h\",\"showlegend\":true,\"text\":[\"\\uacbd\\ub825\\ub144\\uc218\\ucf54\\ub4dc\"],\"textposition\":\"auto\",\"x\":[0.3748655319213867],\"xaxis\":\"x\",\"y\":[\"\\uacbd\\ub825\\ub144\\uc218\\ucf54\\ub4dc\"],\"yaxis\":\"y\",\"type\":\"bar\"},{\"alignmentgroup\":\"True\",\"hovertemplate\":\"\\uc21c\\uc704=10\\u003cbr\\u003e\\uc784\\uae08\\ubd84\\uc704=\\uc784\\uae082\\ubd84\\uc704\\u003cbr\\u003e\\uc784\\uae08\\uc5d0 \\ub300\\ud55c \\uc601\\ud5a5\\ub825=%{x}\\u003cbr\\u003e\\ubcc0\\uc218=%{text}\\u003cextra\\u003e\\u003c\\u002fextra\\u003e\",\"legendgroup\":\"10\",\"marker\":{\"color\":\"tomato\",\"pattern\":{\"shape\":\"\"}},\"name\":\"10\",\"offsetgroup\":\"10\",\"orientation\":\"h\",\"showlegend\":true,\"text\":[\"\\uc0c1\\uc5ec\\uae08\\uc9c0\\uae09\\uc5ec\\ubd80\"],\"textposition\":\"auto\",\"x\":[0.17254136502742767],\"xaxis\":\"x\",\"y\":[\"\\uc0c1\\uc5ec\\uae08\\uc9c0\\uae09\\uc5ec\\ubd80\"],\"yaxis\":\"y\",\"type\":\"bar\"},{\"alignmentgroup\":\"True\",\"hovertemplate\":\"\\uc21c\\uc704=14\\u003cbr\\u003e\\uc784\\uae08\\ubd84\\uc704=\\uc784\\uae082\\ubd84\\uc704\\u003cbr\\u003e\\uc784\\uae08\\uc5d0 \\ub300\\ud55c \\uc601\\ud5a5\\ub825=%{x}\\u003cbr\\u003e\\ubcc0\\uc218=%{text}\\u003cextra\\u003e\\u003c\\u002fextra\\u003e\",\"legendgroup\":\"14\",\"marker\":{\"color\":\"tomato\",\"pattern\":{\"shape\":\"\"}},\"name\":\"14\",\"offsetgroup\":\"14\",\"orientation\":\"h\",\"showlegend\":true,\"text\":[\"\\ud1f4\\uc9c1\\uc5f0\\uae08\\uac00\\uc785\\uc5ec\\ubd80\"],\"textposition\":\"auto\",\"x\":[0.06685948371887207],\"xaxis\":\"x\",\"y\":[\"\\ud1f4\\uc9c1\\uc5f0\\uae08\\uac00\\uc785\\uc5ec\\ubd80\"],\"yaxis\":\"y\",\"type\":\"bar\"},{\"alignmentgroup\":\"True\",\"hovertemplate\":\"\\uc21c\\uc704=17\\u003cbr\\u003e\\uc784\\uae08\\ubd84\\uc704=\\uc784\\uae082\\ubd84\\uc704\\u003cbr\\u003e\\uc784\\uae08\\uc5d0 \\ub300\\ud55c \\uc601\\ud5a5\\ub825=%{x}\\u003cbr\\u003e\\ubcc0\\uc218=%{text}\\u003cextra\\u003e\\u003c\\u002fextra\\u003e\",\"legendgroup\":\"17\",\"marker\":{\"color\":\"tomato\",\"pattern\":{\"shape\":\"\"}},\"name\":\"17\",\"offsetgroup\":\"17\",\"orientation\":\"h\",\"showlegend\":true,\"text\":[\"\\uad6d\\ubbfc\\uc5f0\\uae08\\uac00\\uc785\\uc5ec\\ubd80\"],\"textposition\":\"auto\",\"x\":[0.03046409599483013],\"xaxis\":\"x\",\"y\":[\"\\uad6d\\ubbfc\\uc5f0\\uae08\\uac00\\uc785\\uc5ec\\ubd80\"],\"yaxis\":\"y\",\"type\":\"bar\"},{\"alignmentgroup\":\"True\",\"hovertemplate\":\"\\uc21c\\uc704=16\\u003cbr\\u003e\\uc784\\uae08\\ubd84\\uc704=\\uc784\\uae082\\ubd84\\uc704\\u003cbr\\u003e\\uc784\\uae08\\uc5d0 \\ub300\\ud55c \\uc601\\ud5a5\\ub825=%{x}\\u003cbr\\u003e\\ubcc0\\uc218=%{text}\\u003cextra\\u003e\\u003c\\u002fextra\\u003e\",\"legendgroup\":\"16\",\"marker\":{\"color\":\"tomato\",\"pattern\":{\"shape\":\"\"}},\"name\":\"16\",\"offsetgroup\":\"16\",\"orientation\":\"h\",\"showlegend\":true,\"text\":[\"\\uace0\\uc6a9\\ubcf4\\ud5d8\\uac00\\uc785\\uc5ec\\ubd80\"],\"textposition\":\"auto\",\"x\":[0.03424974903464317],\"xaxis\":\"x\",\"y\":[\"\\uace0\\uc6a9\\ubcf4\\ud5d8\\uac00\\uc785\\uc5ec\\ubd80\"],\"yaxis\":\"y\",\"type\":\"bar\"},{\"alignmentgroup\":\"True\",\"hovertemplate\":\"\\uc21c\\uc704=9\\u003cbr\\u003e\\uc784\\uae08\\ubd84\\uc704=\\uc784\\uae082\\ubd84\\uc704\\u003cbr\\u003e\\uc784\\uae08\\uc5d0 \\ub300\\ud55c \\uc601\\ud5a5\\ub825=%{x}\\u003cbr\\u003e\\ubcc0\\uc218=%{text}\\u003cextra\\u003e\\u003c\\u002fextra\\u003e\",\"legendgroup\":\"9\",\"marker\":{\"color\":\"tomato\",\"pattern\":{\"shape\":\"\"}},\"name\":\"9\",\"offsetgroup\":\"9\",\"orientation\":\"h\",\"showlegend\":true,\"text\":[\"\\ub178\\ub3d9\\uc870\\ud569\\uac00\\uc785\\ucf54\\ub4dc\"],\"textposition\":\"auto\",\"x\":[0.17811983823776245],\"xaxis\":\"x\",\"y\":[\"\\ub178\\ub3d9\\uc870\\ud569\\uac00\\uc785\\ucf54\\ub4dc\"],\"yaxis\":\"y\",\"type\":\"bar\"},{\"alignmentgroup\":\"True\",\"hovertemplate\":\"\\uc21c\\uc704=11\\u003cbr\\u003e\\uc784\\uae08\\ubd84\\uc704=\\uc784\\uae082\\ubd84\\uc704\\u003cbr\\u003e\\uc784\\uae08\\uc5d0 \\ub300\\ud55c \\uc601\\ud5a5\\ub825=%{x}\\u003cbr\\u003e\\ubcc0\\uc218=%{text}\\u003cextra\\u003e\\u003c\\u002fextra\\u003e\",\"legendgroup\":\"11\",\"marker\":{\"color\":\"tomato\",\"pattern\":{\"shape\":\"\"}},\"name\":\"11\",\"offsetgroup\":\"11\",\"orientation\":\"h\",\"showlegend\":true,\"text\":[\"\\uad50\\uc721\\uc815\\ub3c4_\\ud559\\ub825\\uad6c\\ubd84\\ucf54\\ub4dc\"],\"textposition\":\"auto\",\"x\":[0.16664539277553558],\"xaxis\":\"x\",\"y\":[\"\\uad50\\uc721\\uc815\\ub3c4_\\ud559\\ub825\\uad6c\\ubd84\\ucf54\\ub4dc\"],\"yaxis\":\"y\",\"type\":\"bar\"},{\"alignmentgroup\":\"True\",\"hovertemplate\":\"\\uc21c\\uc704=15\\u003cbr\\u003e\\uc784\\uae08\\ubd84\\uc704=\\uc784\\uae082\\ubd84\\uc704\\u003cbr\\u003e\\uc784\\uae08\\uc5d0 \\ub300\\ud55c \\uc601\\ud5a5\\ub825=%{x}\\u003cbr\\u003e\\ubcc0\\uc218=%{text}\\u003cextra\\u003e\\u003c\\u002fextra\\u003e\",\"legendgroup\":\"15\",\"marker\":{\"color\":\"tomato\",\"pattern\":{\"shape\":\"\"}},\"name\":\"15\",\"offsetgroup\":\"15\",\"orientation\":\"h\",\"showlegend\":true,\"text\":[\"\\uadfc\\ubb34\\ud615\\ud0dc_\\uc804\\uc77c\\uc81c\\uc0c1\\uc6a9\\uc5ec\\ubd80\"],\"textposition\":\"auto\",\"x\":[0.04292331635951996],\"xaxis\":\"x\",\"y\":[\"\\uadfc\\ubb34\\ud615\\ud0dc_\\uc804\\uc77c\\uc81c\\uc0c1\\uc6a9\\uc5ec\\ubd80\"],\"yaxis\":\"y\",\"type\":\"bar\"},{\"alignmentgroup\":\"True\",\"hovertemplate\":\"\\uc21c\\uc704=3\\u003cbr\\u003e\\uc784\\uae08\\ubd84\\uc704=\\uc784\\uae082\\ubd84\\uc704\\u003cbr\\u003e\\uc784\\uae08\\uc5d0 \\ub300\\ud55c \\uc601\\ud5a5\\ub825=%{x}\\u003cbr\\u003e\\ubcc0\\uc218=%{text}\\u003cextra\\u003e\\u003c\\u002fextra\\u003e\",\"legendgroup\":\"3\",\"marker\":{\"color\":\"saddlebrown\",\"pattern\":{\"shape\":\"\"}},\"name\":\"3\",\"offsetgroup\":\"3\",\"orientation\":\"h\",\"showlegend\":true,\"text\":[\"\\ucd1d\\uadfc\\ub85c\\uc2dc\\uac04_10\\ubd84\\uc704\"],\"textposition\":\"auto\",\"x\":[0.28931963443756104],\"xaxis\":\"x\",\"y\":[\"\\ucd1d\\uadfc\\ub85c\\uc2dc\\uac04_10\\ubd84\\uc704\"],\"yaxis\":\"y\",\"type\":\"bar\"},{\"alignmentgroup\":\"True\",\"hovertemplate\":\"\\uc21c\\uc704=18\\u003cbr\\u003e\\uc784\\uae08\\ubd84\\uc704=\\uc784\\uae082\\ubd84\\uc704\\u003cbr\\u003e\\uc784\\uae08\\uc5d0 \\ub300\\ud55c \\uc601\\ud5a5\\ub825=%{x}\\u003cbr\\u003e\\ubcc0\\uc218=%{text}\\u003cextra\\u003e\\u003c\\u002fextra\\u003e\",\"legendgroup\":\"18\",\"marker\":{\"color\":\"tomato\",\"pattern\":{\"shape\":\"\"}},\"name\":\"18\",\"offsetgroup\":\"18\",\"orientation\":\"h\",\"showlegend\":true,\"text\":[\"\\uac74\\uac15\\ubcf4\\ud5d8\\uac00\\uc785\\uc5ec\\ubd80\"],\"textposition\":\"auto\",\"x\":[0.02567240595817566],\"xaxis\":\"x\",\"y\":[\"\\uac74\\uac15\\ubcf4\\ud5d8\\uac00\\uc785\\uc5ec\\ubd80\"],\"yaxis\":\"y\",\"type\":\"bar\"}],\"name\":\"\\uc784\\uae082\\ubd84\\uc704\"},{\"data\":[{\"alignmentgroup\":\"True\",\"hovertemplate\":\"\\uc21c\\uc704=13\\u003cbr\\u003e\\uc784\\uae08\\ubd84\\uc704=\\uc784\\uae083\\ubd84\\uc704\\u003cbr\\u003e\\uc784\\uae08\\uc5d0 \\ub300\\ud55c \\uc601\\ud5a5\\ub825=%{x}\\u003cbr\\u003e\\ubcc0\\uc218=%{text}\\u003cextra\\u003e\\u003c\\u002fextra\\u003e\",\"legendgroup\":\"13\",\"marker\":{\"color\":\"tomato\",\"pattern\":{\"shape\":\"\"}},\"name\":\"13\",\"offsetgroup\":\"13\",\"orientation\":\"h\",\"showlegend\":true,\"text\":[\"\\uace0\\uc6a9\\ud615\\ud0dc\\ucf54\\ub4dc\"],\"textposition\":\"auto\",\"x\":[0.05477233976125717],\"xaxis\":\"x\",\"y\":[\"\\uace0\\uc6a9\\ud615\\ud0dc\\ucf54\\ub4dc\"],\"yaxis\":\"y\",\"type\":\"bar\"},{\"alignmentgroup\":\"True\",\"hovertemplate\":\"\\uc21c\\uc704=1\\u003cbr\\u003e\\uc784\\uae08\\ubd84\\uc704=\\uc784\\uae083\\ubd84\\uc704\\u003cbr\\u003e\\uc784\\uae08\\uc5d0 \\ub300\\ud55c \\uc601\\ud5a5\\ub825=%{x}\\u003cbr\\u003e\\ubcc0\\uc218=%{text}\\u003cextra\\u003e\\u003c\\u002fextra\\u003e\",\"legendgroup\":\"1\",\"marker\":{\"color\":\"forestgreen\",\"pattern\":{\"shape\":\"\"}},\"name\":\"1\",\"offsetgroup\":\"1\",\"orientation\":\"h\",\"showlegend\":true,\"text\":[\"\\ucd1d\\uadfc\\ub85c\\uc2dc\\uac04_10\\ubd84\\uc704\"],\"textposition\":\"auto\",\"x\":[0.30305883288383484],\"xaxis\":\"x\",\"y\":[\"\\ucd1d\\uadfc\\ub85c\\uc2dc\\uac04_10\\ubd84\\uc704\"],\"yaxis\":\"y\",\"type\":\"bar\"},{\"alignmentgroup\":\"True\",\"hovertemplate\":\"\\uc21c\\uc704=8\\u003cbr\\u003e\\uc784\\uae08\\ubd84\\uc704=\\uc784\\uae083\\ubd84\\uc704\\u003cbr\\u003e\\uc784\\uae08\\uc5d0 \\ub300\\ud55c \\uc601\\ud5a5\\ub825=%{x}\\u003cbr\\u003e\\ubcc0\\uc218=%{text}\\u003cextra\\u003e\\u003c\\u002fextra\\u003e\",\"legendgroup\":\"8\",\"marker\":{\"color\":\"tomato\",\"pattern\":{\"shape\":\"\"}},\"name\":\"8\",\"offsetgroup\":\"8\",\"orientation\":\"h\",\"showlegend\":true,\"text\":[\"\\uc784\\uae08\\uc0b0\\uc815\\uae30\\uc900\\ucf54\\ub4dc\"],\"textposition\":\"auto\",\"x\":[0.10180551558732986],\"xaxis\":\"x\",\"y\":[\"\\uc784\\uae08\\uc0b0\\uc815\\uae30\\uc900\\ucf54\\ub4dc\"],\"yaxis\":\"y\",\"type\":\"bar\"},{\"alignmentgroup\":\"True\",\"hovertemplate\":\"\\uc21c\\uc704=7\\u003cbr\\u003e\\uc784\\uae08\\ubd84\\uc704=\\uc784\\uae083\\ubd84\\uc704\\u003cbr\\u003e\\uc784\\uae08\\uc5d0 \\ub300\\ud55c \\uc601\\ud5a5\\ub825=%{x}\\u003cbr\\u003e\\ubcc0\\uc218=%{text}\\u003cextra\\u003e\\u003c\\u002fextra\\u003e\",\"legendgroup\":\"7\",\"marker\":{\"color\":\"tomato\",\"pattern\":{\"shape\":\"\"}},\"name\":\"7\",\"offsetgroup\":\"7\",\"orientation\":\"h\",\"showlegend\":true,\"text\":[\"\\uadfc\\ubb34\\ud615\\ud0dc\\ucf54\\ub4dc\"],\"textposition\":\"auto\",\"x\":[0.1223270371556282],\"xaxis\":\"x\",\"y\":[\"\\uadfc\\ubb34\\ud615\\ud0dc\\ucf54\\ub4dc\"],\"yaxis\":\"y\",\"type\":\"bar\"},{\"alignmentgroup\":\"True\",\"hovertemplate\":\"\\uc21c\\uc704=12\\u003cbr\\u003e\\uc784\\uae08\\ubd84\\uc704=\\uc784\\uae083\\ubd84\\uc704\\u003cbr\\u003e\\uc784\\uae08\\uc5d0 \\ub300\\ud55c \\uc601\\ud5a5\\ub825=%{x}\\u003cbr\\u003e\\ubcc0\\uc218=%{text}\\u003cextra\\u003e\\u003c\\u002fextra\\u003e\",\"legendgroup\":\"12\",\"marker\":{\"color\":\"tomato\",\"pattern\":{\"shape\":\"\"}},\"name\":\"12\",\"offsetgroup\":\"12\",\"orientation\":\"h\",\"showlegend\":true,\"text\":[\"\\uc0c1\\uc5ec\\uae08\\uc9c0\\uae09\\uc5ec\\ubd80\"],\"textposition\":\"auto\",\"x\":[0.06018191948533058],\"xaxis\":\"x\",\"y\":[\"\\uc0c1\\uc5ec\\uae08\\uc9c0\\uae09\\uc5ec\\ubd80\"],\"yaxis\":\"y\",\"type\":\"bar\"},{\"alignmentgroup\":\"True\",\"hovertemplate\":\"\\uc21c\\uc704=5\\u003cbr\\u003e\\uc784\\uae08\\ubd84\\uc704=\\uc784\\uae083\\ubd84\\uc704\\u003cbr\\u003e\\uc784\\uae08\\uc5d0 \\ub300\\ud55c \\uc601\\ud5a5\\ub825=%{x}\\u003cbr\\u003e\\ubcc0\\uc218=%{text}\\u003cextra\\u003e\\u003c\\u002fextra\\u003e\",\"legendgroup\":\"5\",\"marker\":{\"color\":\"tomato\",\"pattern\":{\"shape\":\"\"}},\"name\":\"5\",\"offsetgroup\":\"5\",\"orientation\":\"h\",\"showlegend\":true,\"text\":[\"\\uc0b0\\uc5c5\\ub300\\ubd84\\ub958\\ucf54\\ub4dc\"],\"textposition\":\"auto\",\"x\":[0.1777084916830063],\"xaxis\":\"x\",\"y\":[\"\\uc0b0\\uc5c5\\ub300\\ubd84\\ub958\\ucf54\\ub4dc\"],\"yaxis\":\"y\",\"type\":\"bar\"},{\"alignmentgroup\":\"True\",\"hovertemplate\":\"\\uc21c\\uc704=4\\u003cbr\\u003e\\uc784\\uae08\\ubd84\\uc704=\\uc784\\uae083\\ubd84\\uc704\\u003cbr\\u003e\\uc784\\uae08\\uc5d0 \\ub300\\ud55c \\uc601\\ud5a5\\ub825=%{x}\\u003cbr\\u003e\\ubcc0\\uc218=%{text}\\u003cextra\\u003e\\u003c\\u002fextra\\u003e\",\"legendgroup\":\"4\",\"marker\":{\"color\":\"tomato\",\"pattern\":{\"shape\":\"\"}},\"name\":\"4\",\"offsetgroup\":\"4\",\"orientation\":\"h\",\"showlegend\":true,\"text\":[\"\\uc9c1\\uc5c5\\ub300\\ubd84\\ub958\\ucf54\\ub4dc\"],\"textposition\":\"auto\",\"x\":[0.1816723346710205],\"xaxis\":\"x\",\"y\":[\"\\uc9c1\\uc5c5\\ub300\\ubd84\\ub958\\ucf54\\ub4dc\"],\"yaxis\":\"y\",\"type\":\"bar\"},{\"alignmentgroup\":\"True\",\"hovertemplate\":\"\\uc21c\\uc704=19\\u003cbr\\u003e\\uc784\\uae08\\ubd84\\uc704=\\uc784\\uae083\\ubd84\\uc704\\u003cbr\\u003e\\uc784\\uae08\\uc5d0 \\ub300\\ud55c \\uc601\\ud5a5\\ub825=%{x}\\u003cbr\\u003e\\ubcc0\\uc218=%{text}\\u003cextra\\u003e\\u003c\\u002fextra\\u003e\",\"legendgroup\":\"19\",\"marker\":{\"color\":\"tomato\",\"pattern\":{\"shape\":\"\"}},\"name\":\"19\",\"offsetgroup\":\"19\",\"orientation\":\"h\",\"showlegend\":true,\"text\":[\"\\uad6d\\ubbfc\\uc5f0\\uae08\\uac00\\uc785\\uc5ec\\ubd80\"],\"textposition\":\"auto\",\"x\":[0.013679143972694874],\"xaxis\":\"x\",\"y\":[\"\\uad6d\\ubbfc\\uc5f0\\uae08\\uac00\\uc785\\uc5ec\\ubd80\"],\"yaxis\":\"y\",\"type\":\"bar\"},{\"alignmentgroup\":\"True\",\"hovertemplate\":\"\\uc21c\\uc704=6\\u003cbr\\u003e\\uc784\\uae08\\ubd84\\uc704=\\uc784\\uae083\\ubd84\\uc704\\u003cbr\\u003e\\uc784\\uae08\\uc5d0 \\ub300\\ud55c \\uc601\\ud5a5\\ub825=%{x}\\u003cbr\\u003e\\ubcc0\\uc218=%{text}\\u003cextra\\u003e\\u003c\\u002fextra\\u003e\",\"legendgroup\":\"6\",\"marker\":{\"color\":\"tomato\",\"pattern\":{\"shape\":\"\"}},\"name\":\"6\",\"offsetgroup\":\"6\",\"orientation\":\"h\",\"showlegend\":true,\"text\":[\"\\uacbd\\ub825\\ub144\\uc218\\ucf54\\ub4dc\"],\"textposition\":\"auto\",\"x\":[0.1712401807308197],\"xaxis\":\"x\",\"y\":[\"\\uacbd\\ub825\\ub144\\uc218\\ucf54\\ub4dc\"],\"yaxis\":\"y\",\"type\":\"bar\"},{\"alignmentgroup\":\"True\",\"hovertemplate\":\"\\uc21c\\uc704=2\\u003cbr\\u003e\\uc784\\uae08\\ubd84\\uc704=\\uc784\\uae083\\ubd84\\uc704\\u003cbr\\u003e\\uc784\\uae08\\uc5d0 \\ub300\\ud55c \\uc601\\ud5a5\\ub825=%{x}\\u003cbr\\u003e\\ubcc0\\uc218=%{text}\\u003cextra\\u003e\\u003c\\u002fextra\\u003e\",\"legendgroup\":\"2\",\"marker\":{\"color\":\"saddlebrown\",\"pattern\":{\"shape\":\"\"}},\"name\":\"2\",\"offsetgroup\":\"2\",\"orientation\":\"h\",\"showlegend\":true,\"text\":[\"\\uc0ac\\uc5c5\\uccb4\\uaddc\\ubaa8\\ucf54\\ub4dc\"],\"textposition\":\"auto\",\"x\":[0.2340136468410492],\"xaxis\":\"x\",\"y\":[\"\\uc0ac\\uc5c5\\uccb4\\uaddc\\ubaa8\\ucf54\\ub4dc\"],\"yaxis\":\"y\",\"type\":\"bar\"},{\"alignmentgroup\":\"True\",\"hovertemplate\":\"\\uc21c\\uc704=10\\u003cbr\\u003e\\uc784\\uae08\\ubd84\\uc704=\\uc784\\uae083\\ubd84\\uc704\\u003cbr\\u003e\\uc784\\uae08\\uc5d0 \\ub300\\ud55c \\uc601\\ud5a5\\ub825=%{x}\\u003cbr\\u003e\\ubcc0\\uc218=%{text}\\u003cextra\\u003e\\u003c\\u002fextra\\u003e\",\"legendgroup\":\"10\",\"marker\":{\"color\":\"tomato\",\"pattern\":{\"shape\":\"\"}},\"name\":\"10\",\"offsetgroup\":\"10\",\"orientation\":\"h\",\"showlegend\":true,\"text\":[\"\\uad50\\uc721\\uc815\\ub3c4_\\ud559\\ub825\\uad6c\\ubd84\\ucf54\\ub4dc\"],\"textposition\":\"auto\",\"x\":[0.08910579234361649],\"xaxis\":\"x\",\"y\":[\"\\uad50\\uc721\\uc815\\ub3c4_\\ud559\\ub825\\uad6c\\ubd84\\ucf54\\ub4dc\"],\"yaxis\":\"y\",\"type\":\"bar\"},{\"alignmentgroup\":\"True\",\"hovertemplate\":\"\\uc21c\\uc704=14\\u003cbr\\u003e\\uc784\\uae08\\ubd84\\uc704=\\uc784\\uae083\\ubd84\\uc704\\u003cbr\\u003e\\uc784\\uae08\\uc5d0 \\ub300\\ud55c \\uc601\\ud5a5\\ub825=%{x}\\u003cbr\\u003e\\ubcc0\\uc218=%{text}\\u003cextra\\u003e\\u003c\\u002fextra\\u003e\",\"legendgroup\":\"14\",\"marker\":{\"color\":\"tomato\",\"pattern\":{\"shape\":\"\"}},\"name\":\"14\",\"offsetgroup\":\"14\",\"orientation\":\"h\",\"showlegend\":true,\"text\":[\"\\uace0\\uc6a9\\ubcf4\\ud5d8\\uac00\\uc785\\uc5ec\\ubd80\"],\"textposition\":\"auto\",\"x\":[0.035611554980278015],\"xaxis\":\"x\",\"y\":[\"\\uace0\\uc6a9\\ubcf4\\ud5d8\\uac00\\uc785\\uc5ec\\ubd80\"],\"yaxis\":\"y\",\"type\":\"bar\"},{\"alignmentgroup\":\"True\",\"hovertemplate\":\"\\uc21c\\uc704=17\\u003cbr\\u003e\\uc784\\uae08\\ubd84\\uc704=\\uc784\\uae083\\ubd84\\uc704\\u003cbr\\u003e\\uc784\\uae08\\uc5d0 \\ub300\\ud55c \\uc601\\ud5a5\\ub825=%{x}\\u003cbr\\u003e\\ubcc0\\uc218=%{text}\\u003cextra\\u003e\\u003c\\u002fextra\\u003e\",\"legendgroup\":\"17\",\"marker\":{\"color\":\"tomato\",\"pattern\":{\"shape\":\"\"}},\"name\":\"17\",\"offsetgroup\":\"17\",\"orientation\":\"h\",\"showlegend\":true,\"text\":[\"\\uadfc\\ubb34\\ud615\\ud0dc_\\uc804\\uc77c\\uc81c\\uc0c1\\uc6a9\\uc5ec\\ubd80\"],\"textposition\":\"auto\",\"x\":[0.01821509189903736],\"xaxis\":\"x\",\"y\":[\"\\uadfc\\ubb34\\ud615\\ud0dc_\\uc804\\uc77c\\uc81c\\uc0c1\\uc6a9\\uc5ec\\ubd80\"],\"yaxis\":\"y\",\"type\":\"bar\"},{\"alignmentgroup\":\"True\",\"hovertemplate\":\"\\uc21c\\uc704=16\\u003cbr\\u003e\\uc784\\uae08\\ubd84\\uc704=\\uc784\\uae083\\ubd84\\uc704\\u003cbr\\u003e\\uc784\\uae08\\uc5d0 \\ub300\\ud55c \\uc601\\ud5a5\\ub825=%{x}\\u003cbr\\u003e\\ubcc0\\uc218=%{text}\\u003cextra\\u003e\\u003c\\u002fextra\\u003e\",\"legendgroup\":\"16\",\"marker\":{\"color\":\"tomato\",\"pattern\":{\"shape\":\"\"}},\"name\":\"16\",\"offsetgroup\":\"16\",\"orientation\":\"h\",\"showlegend\":true,\"text\":[\"\\uac74\\uac15\\ubcf4\\ud5d8\\uac00\\uc785\\uc5ec\\ubd80\"],\"textposition\":\"auto\",\"x\":[0.02858714759349823],\"xaxis\":\"x\",\"y\":[\"\\uac74\\uac15\\ubcf4\\ud5d8\\uac00\\uc785\\uc5ec\\ubd80\"],\"yaxis\":\"y\",\"type\":\"bar\"},{\"alignmentgroup\":\"True\",\"hovertemplate\":\"\\uc21c\\uc704=9\\u003cbr\\u003e\\uc784\\uae08\\ubd84\\uc704=\\uc784\\uae083\\ubd84\\uc704\\u003cbr\\u003e\\uc784\\uae08\\uc5d0 \\ub300\\ud55c \\uc601\\ud5a5\\ub825=%{x}\\u003cbr\\u003e\\ubcc0\\uc218=%{text}\\u003cextra\\u003e\\u003c\\u002fextra\\u003e\",\"legendgroup\":\"9\",\"marker\":{\"color\":\"tomato\",\"pattern\":{\"shape\":\"\"}},\"name\":\"9\",\"offsetgroup\":\"9\",\"orientation\":\"h\",\"showlegend\":true,\"text\":[\"\\uc131\\ubcc4\\ucf54\\ub4dc\"],\"textposition\":\"auto\",\"x\":[0.09624432027339935],\"xaxis\":\"x\",\"y\":[\"\\uc131\\ubcc4\\ucf54\\ub4dc\"],\"yaxis\":\"y\",\"type\":\"bar\"},{\"alignmentgroup\":\"True\",\"hovertemplate\":\"\\uc21c\\uc704=11\\u003cbr\\u003e\\uc784\\uae08\\ubd84\\uc704=\\uc784\\uae083\\ubd84\\uc704\\u003cbr\\u003e\\uc784\\uae08\\uc5d0 \\ub300\\ud55c \\uc601\\ud5a5\\ub825=%{x}\\u003cbr\\u003e\\ubcc0\\uc218=%{text}\\u003cextra\\u003e\\u003c\\u002fextra\\u003e\",\"legendgroup\":\"11\",\"marker\":{\"color\":\"tomato\",\"pattern\":{\"shape\":\"\"}},\"name\":\"11\",\"offsetgroup\":\"11\",\"orientation\":\"h\",\"showlegend\":true,\"text\":[\"\\ub178\\ub3d9\\uc870\\ud569\\uac00\\uc785\\ucf54\\ub4dc\"],\"textposition\":\"auto\",\"x\":[0.08792620897293091],\"xaxis\":\"x\",\"y\":[\"\\ub178\\ub3d9\\uc870\\ud569\\uac00\\uc785\\ucf54\\ub4dc\"],\"yaxis\":\"y\",\"type\":\"bar\"},{\"alignmentgroup\":\"True\",\"hovertemplate\":\"\\uc21c\\uc704=15\\u003cbr\\u003e\\uc784\\uae08\\ubd84\\uc704=\\uc784\\uae083\\ubd84\\uc704\\u003cbr\\u003e\\uc784\\uae08\\uc5d0 \\ub300\\ud55c \\uc601\\ud5a5\\ub825=%{x}\\u003cbr\\u003e\\ubcc0\\uc218=%{text}\\u003cextra\\u003e\\u003c\\u002fextra\\u003e\",\"legendgroup\":\"15\",\"marker\":{\"color\":\"tomato\",\"pattern\":{\"shape\":\"\"}},\"name\":\"15\",\"offsetgroup\":\"15\",\"orientation\":\"h\",\"showlegend\":true,\"text\":[\"\\ud1f4\\uc9c1\\uc5f0\\uae08\\uac00\\uc785\\uc5ec\\ubd80\"],\"textposition\":\"auto\",\"x\":[0.029709290713071823],\"xaxis\":\"x\",\"y\":[\"\\ud1f4\\uc9c1\\uc5f0\\uae08\\uac00\\uc785\\uc5ec\\ubd80\"],\"yaxis\":\"y\",\"type\":\"bar\"},{\"alignmentgroup\":\"True\",\"hovertemplate\":\"\\uc21c\\uc704=3\\u003cbr\\u003e\\uc784\\uae08\\ubd84\\uc704=\\uc784\\uae083\\ubd84\\uc704\\u003cbr\\u003e\\uc784\\uae08\\uc5d0 \\ub300\\ud55c \\uc601\\ud5a5\\ub825=%{x}\\u003cbr\\u003e\\ubcc0\\uc218=%{text}\\u003cextra\\u003e\\u003c\\u002fextra\\u003e\",\"legendgroup\":\"3\",\"marker\":{\"color\":\"saddlebrown\",\"pattern\":{\"shape\":\"\"}},\"name\":\"3\",\"offsetgroup\":\"3\",\"orientation\":\"h\",\"showlegend\":true,\"text\":[\"\\uc5f0\\ub839_10\\ubd84\\uc704\"],\"textposition\":\"auto\",\"x\":[0.22732622921466827],\"xaxis\":\"x\",\"y\":[\"\\uc5f0\\ub839_10\\ubd84\\uc704\"],\"yaxis\":\"y\",\"type\":\"bar\"},{\"alignmentgroup\":\"True\",\"hovertemplate\":\"\\uc21c\\uc704=18\\u003cbr\\u003e\\uc784\\uae08\\ubd84\\uc704=\\uc784\\uae083\\ubd84\\uc704\\u003cbr\\u003e\\uc784\\uae08\\uc5d0 \\ub300\\ud55c \\uc601\\ud5a5\\ub825=%{x}\\u003cbr\\u003e\\ubcc0\\uc218=%{text}\\u003cextra\\u003e\\u003c\\u002fextra\\u003e\",\"legendgroup\":\"18\",\"marker\":{\"color\":\"tomato\",\"pattern\":{\"shape\":\"\"}},\"name\":\"18\",\"offsetgroup\":\"18\",\"orientation\":\"h\",\"showlegend\":true,\"text\":[\"\\uc0b0\\uc7ac\\ubcf4\\ud5d8\\uac00\\uc785\\uc5ec\\ubd80\"],\"textposition\":\"auto\",\"x\":[0.0174409169703722],\"xaxis\":\"x\",\"y\":[\"\\uc0b0\\uc7ac\\ubcf4\\ud5d8\\uac00\\uc785\\uc5ec\\ubd80\"],\"yaxis\":\"y\",\"type\":\"bar\"}],\"name\":\"\\uc784\\uae083\\ubd84\\uc704\"},{\"data\":[{\"alignmentgroup\":\"True\",\"hovertemplate\":\"\\uc21c\\uc704=13\\u003cbr\\u003e\\uc784\\uae08\\ubd84\\uc704=\\uc784\\uae084\\ubd84\\uc704\\u003cbr\\u003e\\uc784\\uae08\\uc5d0 \\ub300\\ud55c \\uc601\\ud5a5\\ub825=%{x}\\u003cbr\\u003e\\ubcc0\\uc218=%{text}\\u003cextra\\u003e\\u003c\\u002fextra\\u003e\",\"legendgroup\":\"13\",\"marker\":{\"color\":\"tomato\",\"pattern\":{\"shape\":\"\"}},\"name\":\"13\",\"offsetgroup\":\"13\",\"orientation\":\"h\",\"showlegend\":true,\"text\":[\"\\ub178\\ub3d9\\uc870\\ud569\\uac00\\uc785\\ucf54\\ub4dc\"],\"textposition\":\"auto\",\"x\":[0.09706979990005493],\"xaxis\":\"x\",\"y\":[\"\\ub178\\ub3d9\\uc870\\ud569\\uac00\\uc785\\ucf54\\ub4dc\"],\"yaxis\":\"y\",\"type\":\"bar\"},{\"alignmentgroup\":\"True\",\"hovertemplate\":\"\\uc21c\\uc704=1\\u003cbr\\u003e\\uc784\\uae08\\ubd84\\uc704=\\uc784\\uae084\\ubd84\\uc704\\u003cbr\\u003e\\uc784\\uae08\\uc5d0 \\ub300\\ud55c \\uc601\\ud5a5\\ub825=%{x}\\u003cbr\\u003e\\ubcc0\\uc218=%{text}\\u003cextra\\u003e\\u003c\\u002fextra\\u003e\",\"legendgroup\":\"1\",\"marker\":{\"color\":\"forestgreen\",\"pattern\":{\"shape\":\"\"}},\"name\":\"1\",\"offsetgroup\":\"1\",\"orientation\":\"h\",\"showlegend\":true,\"text\":[\"\\uacbd\\ub825\\ub144\\uc218\\ucf54\\ub4dc\"],\"textposition\":\"auto\",\"x\":[0.4316171407699585],\"xaxis\":\"x\",\"y\":[\"\\uacbd\\ub825\\ub144\\uc218\\ucf54\\ub4dc\"],\"yaxis\":\"y\",\"type\":\"bar\"},{\"alignmentgroup\":\"True\",\"hovertemplate\":\"\\uc21c\\uc704=8\\u003cbr\\u003e\\uc784\\uae08\\ubd84\\uc704=\\uc784\\uae084\\ubd84\\uc704\\u003cbr\\u003e\\uc784\\uae08\\uc5d0 \\ub300\\ud55c \\uc601\\ud5a5\\ub825=%{x}\\u003cbr\\u003e\\ubcc0\\uc218=%{text}\\u003cextra\\u003e\\u003c\\u002fextra\\u003e\",\"legendgroup\":\"8\",\"marker\":{\"color\":\"tomato\",\"pattern\":{\"shape\":\"\"}},\"name\":\"8\",\"offsetgroup\":\"8\",\"orientation\":\"h\",\"showlegend\":true,\"text\":[\"\\uad50\\uc721\\uc815\\ub3c4_\\ud559\\ub825\\uad6c\\ubd84\\ucf54\\ub4dc\"],\"textposition\":\"auto\",\"x\":[0.2314346879720688],\"xaxis\":\"x\",\"y\":[\"\\uad50\\uc721\\uc815\\ub3c4_\\ud559\\ub825\\uad6c\\ubd84\\ucf54\\ub4dc\"],\"yaxis\":\"y\",\"type\":\"bar\"},{\"alignmentgroup\":\"True\",\"hovertemplate\":\"\\uc21c\\uc704=7\\u003cbr\\u003e\\uc784\\uae08\\ubd84\\uc704=\\uc784\\uae084\\ubd84\\uc704\\u003cbr\\u003e\\uc784\\uae08\\uc5d0 \\ub300\\ud55c \\uc601\\ud5a5\\ub825=%{x}\\u003cbr\\u003e\\ubcc0\\uc218=%{text}\\u003cextra\\u003e\\u003c\\u002fextra\\u003e\",\"legendgroup\":\"7\",\"marker\":{\"color\":\"tomato\",\"pattern\":{\"shape\":\"\"}},\"name\":\"7\",\"offsetgroup\":\"7\",\"orientation\":\"h\",\"showlegend\":true,\"text\":[\"\\uc5f0\\ub839_10\\ubd84\\uc704\"],\"textposition\":\"auto\",\"x\":[0.2600691020488739],\"xaxis\":\"x\",\"y\":[\"\\uc5f0\\ub839_10\\ubd84\\uc704\"],\"yaxis\":\"y\",\"type\":\"bar\"},{\"alignmentgroup\":\"True\",\"hovertemplate\":\"\\uc21c\\uc704=12\\u003cbr\\u003e\\uc784\\uae08\\ubd84\\uc704=\\uc784\\uae084\\ubd84\\uc704\\u003cbr\\u003e\\uc784\\uae08\\uc5d0 \\ub300\\ud55c \\uc601\\ud5a5\\ub825=%{x}\\u003cbr\\u003e\\ubcc0\\uc218=%{text}\\u003cextra\\u003e\\u003c\\u002fextra\\u003e\",\"legendgroup\":\"12\",\"marker\":{\"color\":\"tomato\",\"pattern\":{\"shape\":\"\"}},\"name\":\"12\",\"offsetgroup\":\"12\",\"orientation\":\"h\",\"showlegend\":true,\"text\":[\"\\uadfc\\ubb34\\ud615\\ud0dc\\ucf54\\ub4dc\"],\"textposition\":\"auto\",\"x\":[0.1402740478515625],\"xaxis\":\"x\",\"y\":[\"\\uadfc\\ubb34\\ud615\\ud0dc\\ucf54\\ub4dc\"],\"yaxis\":\"y\",\"type\":\"bar\"},{\"alignmentgroup\":\"True\",\"hovertemplate\":\"\\uc21c\\uc704=5\\u003cbr\\u003e\\uc784\\uae08\\ubd84\\uc704=\\uc784\\uae084\\ubd84\\uc704\\u003cbr\\u003e\\uc784\\uae08\\uc5d0 \\ub300\\ud55c \\uc601\\ud5a5\\ub825=%{x}\\u003cbr\\u003e\\ubcc0\\uc218=%{text}\\u003cextra\\u003e\\u003c\\u002fextra\\u003e\",\"legendgroup\":\"5\",\"marker\":{\"color\":\"tomato\",\"pattern\":{\"shape\":\"\"}},\"name\":\"5\",\"offsetgroup\":\"5\",\"orientation\":\"h\",\"showlegend\":true,\"text\":[\"\\uc131\\ubcc4\\ucf54\\ub4dc\"],\"textposition\":\"auto\",\"x\":[0.29751721024513245],\"xaxis\":\"x\",\"y\":[\"\\uc131\\ubcc4\\ucf54\\ub4dc\"],\"yaxis\":\"y\",\"type\":\"bar\"},{\"alignmentgroup\":\"True\",\"hovertemplate\":\"\\uc21c\\uc704=4\\u003cbr\\u003e\\uc784\\uae08\\ubd84\\uc704=\\uc784\\uae084\\ubd84\\uc704\\u003cbr\\u003e\\uc784\\uae08\\uc5d0 \\ub300\\ud55c \\uc601\\ud5a5\\ub825=%{x}\\u003cbr\\u003e\\ubcc0\\uc218=%{text}\\u003cextra\\u003e\\u003c\\u002fextra\\u003e\",\"legendgroup\":\"4\",\"marker\":{\"color\":\"tomato\",\"pattern\":{\"shape\":\"\"}},\"name\":\"4\",\"offsetgroup\":\"4\",\"orientation\":\"h\",\"showlegend\":true,\"text\":[\"\\ucd1d\\uadfc\\ub85c\\uc2dc\\uac04_10\\ubd84\\uc704\"],\"textposition\":\"auto\",\"x\":[0.3274719715118408],\"xaxis\":\"x\",\"y\":[\"\\ucd1d\\uadfc\\ub85c\\uc2dc\\uac04_10\\ubd84\\uc704\"],\"yaxis\":\"y\",\"type\":\"bar\"},{\"alignmentgroup\":\"True\",\"hovertemplate\":\"\\uc21c\\uc704=19\\u003cbr\\u003e\\uc784\\uae08\\ubd84\\uc704=\\uc784\\uae084\\ubd84\\uc704\\u003cbr\\u003e\\uc784\\uae08\\uc5d0 \\ub300\\ud55c \\uc601\\ud5a5\\ub825=%{x}\\u003cbr\\u003e\\ubcc0\\uc218=%{text}\\u003cextra\\u003e\\u003c\\u002fextra\\u003e\",\"legendgroup\":\"19\",\"marker\":{\"color\":\"tomato\",\"pattern\":{\"shape\":\"\"}},\"name\":\"19\",\"offsetgroup\":\"19\",\"orientation\":\"h\",\"showlegend\":true,\"text\":[\"\\uadfc\\ubb34\\ud615\\ud0dc_\\uc804\\uc77c\\uc81c\\uc0c1\\uc6a9\\uc5ec\\ubd80\"],\"textposition\":\"auto\",\"x\":[0.022731801494956017],\"xaxis\":\"x\",\"y\":[\"\\uadfc\\ubb34\\ud615\\ud0dc_\\uc804\\uc77c\\uc81c\\uc0c1\\uc6a9\\uc5ec\\ubd80\"],\"yaxis\":\"y\",\"type\":\"bar\"},{\"alignmentgroup\":\"True\",\"hovertemplate\":\"\\uc21c\\uc704=6\\u003cbr\\u003e\\uc784\\uae08\\ubd84\\uc704=\\uc784\\uae084\\ubd84\\uc704\\u003cbr\\u003e\\uc784\\uae08\\uc5d0 \\ub300\\ud55c \\uc601\\ud5a5\\ub825=%{x}\\u003cbr\\u003e\\ubcc0\\uc218=%{text}\\u003cextra\\u003e\\u003c\\u002fextra\\u003e\",\"legendgroup\":\"6\",\"marker\":{\"color\":\"tomato\",\"pattern\":{\"shape\":\"\"}},\"name\":\"6\",\"offsetgroup\":\"6\",\"orientation\":\"h\",\"showlegend\":true,\"text\":[\"\\uc0b0\\uc5c5\\ub300\\ubd84\\ub958\\ucf54\\ub4dc\"],\"textposition\":\"auto\",\"x\":[0.2759428024291992],\"xaxis\":\"x\",\"y\":[\"\\uc0b0\\uc5c5\\ub300\\ubd84\\ub958\\ucf54\\ub4dc\"],\"yaxis\":\"y\",\"type\":\"bar\"},{\"alignmentgroup\":\"True\",\"hovertemplate\":\"\\uc21c\\uc704=2\\u003cbr\\u003e\\uc784\\uae08\\ubd84\\uc704=\\uc784\\uae084\\ubd84\\uc704\\u003cbr\\u003e\\uc784\\uae08\\uc5d0 \\ub300\\ud55c \\uc601\\ud5a5\\ub825=%{x}\\u003cbr\\u003e\\ubcc0\\uc218=%{text}\\u003cextra\\u003e\\u003c\\u002fextra\\u003e\",\"legendgroup\":\"2\",\"marker\":{\"color\":\"saddlebrown\",\"pattern\":{\"shape\":\"\"}},\"name\":\"2\",\"offsetgroup\":\"2\",\"orientation\":\"h\",\"showlegend\":true,\"text\":[\"\\uc9c1\\uc5c5\\ub300\\ubd84\\ub958\\ucf54\\ub4dc\"],\"textposition\":\"auto\",\"x\":[0.36447790265083313],\"xaxis\":\"x\",\"y\":[\"\\uc9c1\\uc5c5\\ub300\\ubd84\\ub958\\ucf54\\ub4dc\"],\"yaxis\":\"y\",\"type\":\"bar\"},{\"alignmentgroup\":\"True\",\"hovertemplate\":\"\\uc21c\\uc704=10\\u003cbr\\u003e\\uc784\\uae08\\ubd84\\uc704=\\uc784\\uae084\\ubd84\\uc704\\u003cbr\\u003e\\uc784\\uae08\\uc5d0 \\ub300\\ud55c \\uc601\\ud5a5\\ub825=%{x}\\u003cbr\\u003e\\ubcc0\\uc218=%{text}\\u003cextra\\u003e\\u003c\\u002fextra\\u003e\",\"legendgroup\":\"10\",\"marker\":{\"color\":\"tomato\",\"pattern\":{\"shape\":\"\"}},\"name\":\"10\",\"offsetgroup\":\"10\",\"orientation\":\"h\",\"showlegend\":true,\"text\":[\"\\uace0\\uc6a9\\ud615\\ud0dc\\ucf54\\ub4dc\"],\"textposition\":\"auto\",\"x\":[0.1567138433456421],\"xaxis\":\"x\",\"y\":[\"\\uace0\\uc6a9\\ud615\\ud0dc\\ucf54\\ub4dc\"],\"yaxis\":\"y\",\"type\":\"bar\"},{\"alignmentgroup\":\"True\",\"hovertemplate\":\"\\uc21c\\uc704=14\\u003cbr\\u003e\\uc784\\uae08\\ubd84\\uc704=\\uc784\\uae084\\ubd84\\uc704\\u003cbr\\u003e\\uc784\\uae08\\uc5d0 \\ub300\\ud55c \\uc601\\ud5a5\\ub825=%{x}\\u003cbr\\u003e\\ubcc0\\uc218=%{text}\\u003cextra\\u003e\\u003c\\u002fextra\\u003e\",\"legendgroup\":\"14\",\"marker\":{\"color\":\"tomato\",\"pattern\":{\"shape\":\"\"}},\"name\":\"14\",\"offsetgroup\":\"14\",\"orientation\":\"h\",\"showlegend\":true,\"text\":[\"\\uace0\\uc6a9\\ubcf4\\ud5d8\\uac00\\uc785\\uc5ec\\ubd80\"],\"textposition\":\"auto\",\"x\":[0.05362476408481598],\"xaxis\":\"x\",\"y\":[\"\\uace0\\uc6a9\\ubcf4\\ud5d8\\uac00\\uc785\\uc5ec\\ubd80\"],\"yaxis\":\"y\",\"type\":\"bar\"},{\"alignmentgroup\":\"True\",\"hovertemplate\":\"\\uc21c\\uc704=17\\u003cbr\\u003e\\uc784\\uae08\\ubd84\\uc704=\\uc784\\uae084\\ubd84\\uc704\\u003cbr\\u003e\\uc784\\uae08\\uc5d0 \\ub300\\ud55c \\uc601\\ud5a5\\ub825=%{x}\\u003cbr\\u003e\\ubcc0\\uc218=%{text}\\u003cextra\\u003e\\u003c\\u002fextra\\u003e\",\"legendgroup\":\"17\",\"marker\":{\"color\":\"tomato\",\"pattern\":{\"shape\":\"\"}},\"name\":\"17\",\"offsetgroup\":\"17\",\"orientation\":\"h\",\"showlegend\":true,\"text\":[\"\\uc0b0\\uc7ac\\ubcf4\\ud5d8\\uac00\\uc785\\uc5ec\\ubd80\"],\"textposition\":\"auto\",\"x\":[0.025538839399814606],\"xaxis\":\"x\",\"y\":[\"\\uc0b0\\uc7ac\\ubcf4\\ud5d8\\uac00\\uc785\\uc5ec\\ubd80\"],\"yaxis\":\"y\",\"type\":\"bar\"},{\"alignmentgroup\":\"True\",\"hovertemplate\":\"\\uc21c\\uc704=16\\u003cbr\\u003e\\uc784\\uae08\\ubd84\\uc704=\\uc784\\uae084\\ubd84\\uc704\\u003cbr\\u003e\\uc784\\uae08\\uc5d0 \\ub300\\ud55c \\uc601\\ud5a5\\ub825=%{x}\\u003cbr\\u003e\\ubcc0\\uc218=%{text}\\u003cextra\\u003e\\u003c\\u002fextra\\u003e\",\"legendgroup\":\"16\",\"marker\":{\"color\":\"tomato\",\"pattern\":{\"shape\":\"\"}},\"name\":\"16\",\"offsetgroup\":\"16\",\"orientation\":\"h\",\"showlegend\":true,\"text\":[\"\\uad6d\\ubbfc\\uc5f0\\uae08\\uac00\\uc785\\uc5ec\\ubd80\"],\"textposition\":\"auto\",\"x\":[0.03876727819442749],\"xaxis\":\"x\",\"y\":[\"\\uad6d\\ubbfc\\uc5f0\\uae08\\uac00\\uc785\\uc5ec\\ubd80\"],\"yaxis\":\"y\",\"type\":\"bar\"},{\"alignmentgroup\":\"True\",\"hovertemplate\":\"\\uc21c\\uc704=9\\u003cbr\\u003e\\uc784\\uae08\\ubd84\\uc704=\\uc784\\uae084\\ubd84\\uc704\\u003cbr\\u003e\\uc784\\uae08\\uc5d0 \\ub300\\ud55c \\uc601\\ud5a5\\ub825=%{x}\\u003cbr\\u003e\\ubcc0\\uc218=%{text}\\u003cextra\\u003e\\u003c\\u002fextra\\u003e\",\"legendgroup\":\"9\",\"marker\":{\"color\":\"tomato\",\"pattern\":{\"shape\":\"\"}},\"name\":\"9\",\"offsetgroup\":\"9\",\"orientation\":\"h\",\"showlegend\":true,\"text\":[\"\\uc0c1\\uc5ec\\uae08\\uc9c0\\uae09\\uc5ec\\ubd80\"],\"textposition\":\"auto\",\"x\":[0.18927805125713348],\"xaxis\":\"x\",\"y\":[\"\\uc0c1\\uc5ec\\uae08\\uc9c0\\uae09\\uc5ec\\ubd80\"],\"yaxis\":\"y\",\"type\":\"bar\"},{\"alignmentgroup\":\"True\",\"hovertemplate\":\"\\uc21c\\uc704=11\\u003cbr\\u003e\\uc784\\uae08\\ubd84\\uc704=\\uc784\\uae084\\ubd84\\uc704\\u003cbr\\u003e\\uc784\\uae08\\uc5d0 \\ub300\\ud55c \\uc601\\ud5a5\\ub825=%{x}\\u003cbr\\u003e\\ubcc0\\uc218=%{text}\\u003cextra\\u003e\\u003c\\u002fextra\\u003e\",\"legendgroup\":\"11\",\"marker\":{\"color\":\"tomato\",\"pattern\":{\"shape\":\"\"}},\"name\":\"11\",\"offsetgroup\":\"11\",\"orientation\":\"h\",\"showlegend\":true,\"text\":[\"\\uc784\\uae08\\uc0b0\\uc815\\uae30\\uc900\\ucf54\\ub4dc\"],\"textposition\":\"auto\",\"x\":[0.14599299430847168],\"xaxis\":\"x\",\"y\":[\"\\uc784\\uae08\\uc0b0\\uc815\\uae30\\uc900\\ucf54\\ub4dc\"],\"yaxis\":\"y\",\"type\":\"bar\"},{\"alignmentgroup\":\"True\",\"hovertemplate\":\"\\uc21c\\uc704=15\\u003cbr\\u003e\\uc784\\uae08\\ubd84\\uc704=\\uc784\\uae084\\ubd84\\uc704\\u003cbr\\u003e\\uc784\\uae08\\uc5d0 \\ub300\\ud55c \\uc601\\ud5a5\\ub825=%{x}\\u003cbr\\u003e\\ubcc0\\uc218=%{text}\\u003cextra\\u003e\\u003c\\u002fextra\\u003e\",\"legendgroup\":\"15\",\"marker\":{\"color\":\"tomato\",\"pattern\":{\"shape\":\"\"}},\"name\":\"15\",\"offsetgroup\":\"15\",\"orientation\":\"h\",\"showlegend\":true,\"text\":[\"\\ud1f4\\uc9c1\\uc5f0\\uae08\\uac00\\uc785\\uc5ec\\ubd80\"],\"textposition\":\"auto\",\"x\":[0.047959744930267334],\"xaxis\":\"x\",\"y\":[\"\\ud1f4\\uc9c1\\uc5f0\\uae08\\uac00\\uc785\\uc5ec\\ubd80\"],\"yaxis\":\"y\",\"type\":\"bar\"},{\"alignmentgroup\":\"True\",\"hovertemplate\":\"\\uc21c\\uc704=3\\u003cbr\\u003e\\uc784\\uae08\\ubd84\\uc704=\\uc784\\uae084\\ubd84\\uc704\\u003cbr\\u003e\\uc784\\uae08\\uc5d0 \\ub300\\ud55c \\uc601\\ud5a5\\ub825=%{x}\\u003cbr\\u003e\\ubcc0\\uc218=%{text}\\u003cextra\\u003e\\u003c\\u002fextra\\u003e\",\"legendgroup\":\"3\",\"marker\":{\"color\":\"saddlebrown\",\"pattern\":{\"shape\":\"\"}},\"name\":\"3\",\"offsetgroup\":\"3\",\"orientation\":\"h\",\"showlegend\":true,\"text\":[\"\\uc0ac\\uc5c5\\uccb4\\uaddc\\ubaa8\\ucf54\\ub4dc\"],\"textposition\":\"auto\",\"x\":[0.3510296046733856],\"xaxis\":\"x\",\"y\":[\"\\uc0ac\\uc5c5\\uccb4\\uaddc\\ubaa8\\ucf54\\ub4dc\"],\"yaxis\":\"y\",\"type\":\"bar\"},{\"alignmentgroup\":\"True\",\"hovertemplate\":\"\\uc21c\\uc704=18\\u003cbr\\u003e\\uc784\\uae08\\ubd84\\uc704=\\uc784\\uae084\\ubd84\\uc704\\u003cbr\\u003e\\uc784\\uae08\\uc5d0 \\ub300\\ud55c \\uc601\\ud5a5\\ub825=%{x}\\u003cbr\\u003e\\ubcc0\\uc218=%{text}\\u003cextra\\u003e\\u003c\\u002fextra\\u003e\",\"legendgroup\":\"18\",\"marker\":{\"color\":\"tomato\",\"pattern\":{\"shape\":\"\"}},\"name\":\"18\",\"offsetgroup\":\"18\",\"orientation\":\"h\",\"showlegend\":true,\"text\":[\"\\uac74\\uac15\\ubcf4\\ud5d8\\uac00\\uc785\\uc5ec\\ubd80\"],\"textposition\":\"auto\",\"x\":[0.023909632116556168],\"xaxis\":\"x\",\"y\":[\"\\uac74\\uac15\\ubcf4\\ud5d8\\uac00\\uc785\\uc5ec\\ubd80\"],\"yaxis\":\"y\",\"type\":\"bar\"}],\"name\":\"\\uc784\\uae084\\ubd84\\uc704\"},{\"data\":[{\"alignmentgroup\":\"True\",\"hovertemplate\":\"\\uc21c\\uc704=13\\u003cbr\\u003e\\uc784\\uae08\\ubd84\\uc704=\\uc784\\uae085\\ubd84\\uc704\\u003cbr\\u003e\\uc784\\uae08\\uc5d0 \\ub300\\ud55c \\uc601\\ud5a5\\ub825=%{x}\\u003cbr\\u003e\\ubcc0\\uc218=%{text}\\u003cextra\\u003e\\u003c\\u002fextra\\u003e\",\"legendgroup\":\"13\",\"marker\":{\"color\":\"tomato\",\"pattern\":{\"shape\":\"\"}},\"name\":\"13\",\"offsetgroup\":\"13\",\"orientation\":\"h\",\"showlegend\":true,\"text\":[\"\\ub178\\ub3d9\\uc870\\ud569\\uac00\\uc785\\ucf54\\ub4dc\"],\"textposition\":\"auto\",\"x\":[0.12540581822395325],\"xaxis\":\"x\",\"y\":[\"\\ub178\\ub3d9\\uc870\\ud569\\uac00\\uc785\\ucf54\\ub4dc\"],\"yaxis\":\"y\",\"type\":\"bar\"},{\"alignmentgroup\":\"True\",\"hovertemplate\":\"\\uc21c\\uc704=1\\u003cbr\\u003e\\uc784\\uae08\\ubd84\\uc704=\\uc784\\uae085\\ubd84\\uc704\\u003cbr\\u003e\\uc784\\uae08\\uc5d0 \\ub300\\ud55c \\uc601\\ud5a5\\ub825=%{x}\\u003cbr\\u003e\\ubcc0\\uc218=%{text}\\u003cextra\\u003e\\u003c\\u002fextra\\u003e\",\"legendgroup\":\"1\",\"marker\":{\"color\":\"forestgreen\",\"pattern\":{\"shape\":\"\"}},\"name\":\"1\",\"offsetgroup\":\"1\",\"orientation\":\"h\",\"showlegend\":true,\"text\":[\"\\uacbd\\ub825\\ub144\\uc218\\ucf54\\ub4dc\"],\"textposition\":\"auto\",\"x\":[0.8354313969612122],\"xaxis\":\"x\",\"y\":[\"\\uacbd\\ub825\\ub144\\uc218\\ucf54\\ub4dc\"],\"yaxis\":\"y\",\"type\":\"bar\"},{\"alignmentgroup\":\"True\",\"hovertemplate\":\"\\uc21c\\uc704=8\\u003cbr\\u003e\\uc784\\uae08\\ubd84\\uc704=\\uc784\\uae085\\ubd84\\uc704\\u003cbr\\u003e\\uc784\\uae08\\uc5d0 \\ub300\\ud55c \\uc601\\ud5a5\\ub825=%{x}\\u003cbr\\u003e\\ubcc0\\uc218=%{text}\\u003cextra\\u003e\\u003c\\u002fextra\\u003e\",\"legendgroup\":\"8\",\"marker\":{\"color\":\"tomato\",\"pattern\":{\"shape\":\"\"}},\"name\":\"8\",\"offsetgroup\":\"8\",\"orientation\":\"h\",\"showlegend\":true,\"text\":[\"\\uc0c1\\uc5ec\\uae08\\uc9c0\\uae09\\uc5ec\\ubd80\"],\"textposition\":\"auto\",\"x\":[0.36586976051330566],\"xaxis\":\"x\",\"y\":[\"\\uc0c1\\uc5ec\\uae08\\uc9c0\\uae09\\uc5ec\\ubd80\"],\"yaxis\":\"y\",\"type\":\"bar\"},{\"alignmentgroup\":\"True\",\"hovertemplate\":\"\\uc21c\\uc704=7\\u003cbr\\u003e\\uc784\\uae08\\ubd84\\uc704=\\uc784\\uae085\\ubd84\\uc704\\u003cbr\\u003e\\uc784\\uae08\\uc5d0 \\ub300\\ud55c \\uc601\\ud5a5\\ub825=%{x}\\u003cbr\\u003e\\ubcc0\\uc218=%{text}\\u003cextra\\u003e\\u003c\\u002fextra\\u003e\",\"legendgroup\":\"7\",\"marker\":{\"color\":\"tomato\",\"pattern\":{\"shape\":\"\"}},\"name\":\"7\",\"offsetgroup\":\"7\",\"orientation\":\"h\",\"showlegend\":true,\"text\":[\"\\uc131\\ubcc4\\ucf54\\ub4dc\"],\"textposition\":\"auto\",\"x\":[0.41417238116264343],\"xaxis\":\"x\",\"y\":[\"\\uc131\\ubcc4\\ucf54\\ub4dc\"],\"yaxis\":\"y\",\"type\":\"bar\"},{\"alignmentgroup\":\"True\",\"hovertemplate\":\"\\uc21c\\uc704=12\\u003cbr\\u003e\\uc784\\uae08\\ubd84\\uc704=\\uc784\\uae085\\ubd84\\uc704\\u003cbr\\u003e\\uc784\\uae08\\uc5d0 \\ub300\\ud55c \\uc601\\ud5a5\\ub825=%{x}\\u003cbr\\u003e\\ubcc0\\uc218=%{text}\\u003cextra\\u003e\\u003c\\u002fextra\\u003e\",\"legendgroup\":\"12\",\"marker\":{\"color\":\"tomato\",\"pattern\":{\"shape\":\"\"}},\"name\":\"12\",\"offsetgroup\":\"12\",\"orientation\":\"h\",\"showlegend\":true,\"text\":[\"\\uadfc\\ubb34\\ud615\\ud0dc\\ucf54\\ub4dc\"],\"textposition\":\"auto\",\"x\":[0.16543933749198914],\"xaxis\":\"x\",\"y\":[\"\\uadfc\\ubb34\\ud615\\ud0dc\\ucf54\\ub4dc\"],\"yaxis\":\"y\",\"type\":\"bar\"},{\"alignmentgroup\":\"True\",\"hovertemplate\":\"\\uc21c\\uc704=5\\u003cbr\\u003e\\uc784\\uae08\\ubd84\\uc704=\\uc784\\uae085\\ubd84\\uc704\\u003cbr\\u003e\\uc784\\uae08\\uc5d0 \\ub300\\ud55c \\uc601\\ud5a5\\ub825=%{x}\\u003cbr\\u003e\\ubcc0\\uc218=%{text}\\u003cextra\\u003e\\u003c\\u002fextra\\u003e\",\"legendgroup\":\"5\",\"marker\":{\"color\":\"tomato\",\"pattern\":{\"shape\":\"\"}},\"name\":\"5\",\"offsetgroup\":\"5\",\"orientation\":\"h\",\"showlegend\":true,\"text\":[\"\\uc5f0\\ub839_10\\ubd84\\uc704\"],\"textposition\":\"auto\",\"x\":[0.5063257813453674],\"xaxis\":\"x\",\"y\":[\"\\uc5f0\\ub839_10\\ubd84\\uc704\"],\"yaxis\":\"y\",\"type\":\"bar\"},{\"alignmentgroup\":\"True\",\"hovertemplate\":\"\\uc21c\\uc704=4\\u003cbr\\u003e\\uc784\\uae08\\ubd84\\uc704=\\uc784\\uae085\\ubd84\\uc704\\u003cbr\\u003e\\uc784\\uae08\\uc5d0 \\ub300\\ud55c \\uc601\\ud5a5\\ub825=%{x}\\u003cbr\\u003e\\ubcc0\\uc218=%{text}\\u003cextra\\u003e\\u003c\\u002fextra\\u003e\",\"legendgroup\":\"4\",\"marker\":{\"color\":\"tomato\",\"pattern\":{\"shape\":\"\"}},\"name\":\"4\",\"offsetgroup\":\"4\",\"orientation\":\"h\",\"showlegend\":true,\"text\":[\"\\uad50\\uc721\\uc815\\ub3c4_\\ud559\\ub825\\uad6c\\ubd84\\ucf54\\ub4dc\"],\"textposition\":\"auto\",\"x\":[0.5190364122390747],\"xaxis\":\"x\",\"y\":[\"\\uad50\\uc721\\uc815\\ub3c4_\\ud559\\ub825\\uad6c\\ubd84\\ucf54\\ub4dc\"],\"yaxis\":\"y\",\"type\":\"bar\"},{\"alignmentgroup\":\"True\",\"hovertemplate\":\"\\uc21c\\uc704=19\\u003cbr\\u003e\\uc784\\uae08\\ubd84\\uc704=\\uc784\\uae085\\ubd84\\uc704\\u003cbr\\u003e\\uc784\\uae08\\uc5d0 \\ub300\\ud55c \\uc601\\ud5a5\\ub825=%{x}\\u003cbr\\u003e\\ubcc0\\uc218=%{text}\\u003cextra\\u003e\\u003c\\u002fextra\\u003e\",\"legendgroup\":\"19\",\"marker\":{\"color\":\"tomato\",\"pattern\":{\"shape\":\"\"}},\"name\":\"19\",\"offsetgroup\":\"19\",\"orientation\":\"h\",\"showlegend\":true,\"text\":[\"\\uac74\\uac15\\ubcf4\\ud5d8\\uac00\\uc785\\uc5ec\\ubd80\"],\"textposition\":\"auto\",\"x\":[0.019233444705605507],\"xaxis\":\"x\",\"y\":[\"\\uac74\\uac15\\ubcf4\\ud5d8\\uac00\\uc785\\uc5ec\\ubd80\"],\"yaxis\":\"y\",\"type\":\"bar\"},{\"alignmentgroup\":\"True\",\"hovertemplate\":\"\\uc21c\\uc704=6\\u003cbr\\u003e\\uc784\\uae08\\ubd84\\uc704=\\uc784\\uae085\\ubd84\\uc704\\u003cbr\\u003e\\uc784\\uae08\\uc5d0 \\ub300\\ud55c \\uc601\\ud5a5\\ub825=%{x}\\u003cbr\\u003e\\ubcc0\\uc218=%{text}\\u003cextra\\u003e\\u003c\\u002fextra\\u003e\",\"legendgroup\":\"6\",\"marker\":{\"color\":\"tomato\",\"pattern\":{\"shape\":\"\"}},\"name\":\"6\",\"offsetgroup\":\"6\",\"orientation\":\"h\",\"showlegend\":true,\"text\":[\"\\uc0b0\\uc5c5\\ub300\\ubd84\\ub958\\ucf54\\ub4dc\"],\"textposition\":\"auto\",\"x\":[0.4637998044490814],\"xaxis\":\"x\",\"y\":[\"\\uc0b0\\uc5c5\\ub300\\ubd84\\ub958\\ucf54\\ub4dc\"],\"yaxis\":\"y\",\"type\":\"bar\"},{\"alignmentgroup\":\"True\",\"hovertemplate\":\"\\uc21c\\uc704=2\\u003cbr\\u003e\\uc784\\uae08\\ubd84\\uc704=\\uc784\\uae085\\ubd84\\uc704\\u003cbr\\u003e\\uc784\\uae08\\uc5d0 \\ub300\\ud55c \\uc601\\ud5a5\\ub825=%{x}\\u003cbr\\u003e\\ubcc0\\uc218=%{text}\\u003cextra\\u003e\\u003c\\u002fextra\\u003e\",\"legendgroup\":\"2\",\"marker\":{\"color\":\"saddlebrown\",\"pattern\":{\"shape\":\"\"}},\"name\":\"2\",\"offsetgroup\":\"2\",\"orientation\":\"h\",\"showlegend\":true,\"text\":[\"\\uc9c1\\uc5c5\\ub300\\ubd84\\ub958\\ucf54\\ub4dc\"],\"textposition\":\"auto\",\"x\":[0.7247803807258606],\"xaxis\":\"x\",\"y\":[\"\\uc9c1\\uc5c5\\ub300\\ubd84\\ub958\\ucf54\\ub4dc\"],\"yaxis\":\"y\",\"type\":\"bar\"},{\"alignmentgroup\":\"True\",\"hovertemplate\":\"\\uc21c\\uc704=10\\u003cbr\\u003e\\uc784\\uae08\\ubd84\\uc704=\\uc784\\uae085\\ubd84\\uc704\\u003cbr\\u003e\\uc784\\uae08\\uc5d0 \\ub300\\ud55c \\uc601\\ud5a5\\ub825=%{x}\\u003cbr\\u003e\\ubcc0\\uc218=%{text}\\u003cextra\\u003e\\u003c\\u002fextra\\u003e\",\"legendgroup\":\"10\",\"marker\":{\"color\":\"tomato\",\"pattern\":{\"shape\":\"\"}},\"name\":\"10\",\"offsetgroup\":\"10\",\"orientation\":\"h\",\"showlegend\":true,\"text\":[\"\\uc784\\uae08\\uc0b0\\uc815\\uae30\\uc900\\ucf54\\ub4dc\"],\"textposition\":\"auto\",\"x\":[0.3574763238430023],\"xaxis\":\"x\",\"y\":[\"\\uc784\\uae08\\uc0b0\\uc815\\uae30\\uc900\\ucf54\\ub4dc\"],\"yaxis\":\"y\",\"type\":\"bar\"},{\"alignmentgroup\":\"True\",\"hovertemplate\":\"\\uc21c\\uc704=14\\u003cbr\\u003e\\uc784\\uae08\\ubd84\\uc704=\\uc784\\uae085\\ubd84\\uc704\\u003cbr\\u003e\\uc784\\uae08\\uc5d0 \\ub300\\ud55c \\uc601\\ud5a5\\ub825=%{x}\\u003cbr\\u003e\\ubcc0\\uc218=%{text}\\u003cextra\\u003e\\u003c\\u002fextra\\u003e\",\"legendgroup\":\"14\",\"marker\":{\"color\":\"tomato\",\"pattern\":{\"shape\":\"\"}},\"name\":\"14\",\"offsetgroup\":\"14\",\"orientation\":\"h\",\"showlegend\":true,\"text\":[\"\\uace0\\uc6a9\\ubcf4\\ud5d8\\uac00\\uc785\\uc5ec\\ubd80\"],\"textposition\":\"auto\",\"x\":[0.08576399087905884],\"xaxis\":\"x\",\"y\":[\"\\uace0\\uc6a9\\ubcf4\\ud5d8\\uac00\\uc785\\uc5ec\\ubd80\"],\"yaxis\":\"y\",\"type\":\"bar\"},{\"alignmentgroup\":\"True\",\"hovertemplate\":\"\\uc21c\\uc704=17\\u003cbr\\u003e\\uc784\\uae08\\ubd84\\uc704=\\uc784\\uae085\\ubd84\\uc704\\u003cbr\\u003e\\uc784\\uae08\\uc5d0 \\ub300\\ud55c \\uc601\\ud5a5\\ub825=%{x}\\u003cbr\\u003e\\ubcc0\\uc218=%{text}\\u003cextra\\u003e\\u003c\\u002fextra\\u003e\",\"legendgroup\":\"17\",\"marker\":{\"color\":\"tomato\",\"pattern\":{\"shape\":\"\"}},\"name\":\"17\",\"offsetgroup\":\"17\",\"orientation\":\"h\",\"showlegend\":true,\"text\":[\"\\uadfc\\ubb34\\ud615\\ud0dc_\\uc804\\uc77c\\uc81c\\uc0c1\\uc6a9\\uc5ec\\ubd80\"],\"textposition\":\"auto\",\"x\":[0.036450859159231186],\"xaxis\":\"x\",\"y\":[\"\\uadfc\\ubb34\\ud615\\ud0dc_\\uc804\\uc77c\\uc81c\\uc0c1\\uc6a9\\uc5ec\\ubd80\"],\"yaxis\":\"y\",\"type\":\"bar\"},{\"alignmentgroup\":\"True\",\"hovertemplate\":\"\\uc21c\\uc704=16\\u003cbr\\u003e\\uc784\\uae08\\ubd84\\uc704=\\uc784\\uae085\\ubd84\\uc704\\u003cbr\\u003e\\uc784\\uae08\\uc5d0 \\ub300\\ud55c \\uc601\\ud5a5\\ub825=%{x}\\u003cbr\\u003e\\ubcc0\\uc218=%{text}\\u003cextra\\u003e\\u003c\\u002fextra\\u003e\",\"legendgroup\":\"16\",\"marker\":{\"color\":\"tomato\",\"pattern\":{\"shape\":\"\"}},\"name\":\"16\",\"offsetgroup\":\"16\",\"orientation\":\"h\",\"showlegend\":true,\"text\":[\"\\uad6d\\ubbfc\\uc5f0\\uae08\\uac00\\uc785\\uc5ec\\ubd80\"],\"textposition\":\"auto\",\"x\":[0.07264053821563721],\"xaxis\":\"x\",\"y\":[\"\\uad6d\\ubbfc\\uc5f0\\uae08\\uac00\\uc785\\uc5ec\\ubd80\"],\"yaxis\":\"y\",\"type\":\"bar\"},{\"alignmentgroup\":\"True\",\"hovertemplate\":\"\\uc21c\\uc704=9\\u003cbr\\u003e\\uc784\\uae08\\ubd84\\uc704=\\uc784\\uae085\\ubd84\\uc704\\u003cbr\\u003e\\uc784\\uae08\\uc5d0 \\ub300\\ud55c \\uc601\\ud5a5\\ub825=%{x}\\u003cbr\\u003e\\ubcc0\\uc218=%{text}\\u003cextra\\u003e\\u003c\\u002fextra\\u003e\",\"legendgroup\":\"9\",\"marker\":{\"color\":\"tomato\",\"pattern\":{\"shape\":\"\"}},\"name\":\"9\",\"offsetgroup\":\"9\",\"orientation\":\"h\",\"showlegend\":true,\"text\":[\"\\ucd1d\\uadfc\\ub85c\\uc2dc\\uac04_10\\ubd84\\uc704\"],\"textposition\":\"auto\",\"x\":[0.3616832494735718],\"xaxis\":\"x\",\"y\":[\"\\ucd1d\\uadfc\\ub85c\\uc2dc\\uac04_10\\ubd84\\uc704\"],\"yaxis\":\"y\",\"type\":\"bar\"},{\"alignmentgroup\":\"True\",\"hovertemplate\":\"\\uc21c\\uc704=11\\u003cbr\\u003e\\uc784\\uae08\\ubd84\\uc704=\\uc784\\uae085\\ubd84\\uc704\\u003cbr\\u003e\\uc784\\uae08\\uc5d0 \\ub300\\ud55c \\uc601\\ud5a5\\ub825=%{x}\\u003cbr\\u003e\\ubcc0\\uc218=%{text}\\u003cextra\\u003e\\u003c\\u002fextra\\u003e\",\"legendgroup\":\"11\",\"marker\":{\"color\":\"tomato\",\"pattern\":{\"shape\":\"\"}},\"name\":\"11\",\"offsetgroup\":\"11\",\"orientation\":\"h\",\"showlegend\":true,\"text\":[\"\\uace0\\uc6a9\\ud615\\ud0dc\\ucf54\\ub4dc\"],\"textposition\":\"auto\",\"x\":[0.20960447192192078],\"xaxis\":\"x\",\"y\":[\"\\uace0\\uc6a9\\ud615\\ud0dc\\ucf54\\ub4dc\"],\"yaxis\":\"y\",\"type\":\"bar\"},{\"alignmentgroup\":\"True\",\"hovertemplate\":\"\\uc21c\\uc704=15\\u003cbr\\u003e\\uc784\\uae08\\ubd84\\uc704=\\uc784\\uae085\\ubd84\\uc704\\u003cbr\\u003e\\uc784\\uae08\\uc5d0 \\ub300\\ud55c \\uc601\\ud5a5\\ub825=%{x}\\u003cbr\\u003e\\ubcc0\\uc218=%{text}\\u003cextra\\u003e\\u003c\\u002fextra\\u003e\",\"legendgroup\":\"15\",\"marker\":{\"color\":\"tomato\",\"pattern\":{\"shape\":\"\"}},\"name\":\"15\",\"offsetgroup\":\"15\",\"orientation\":\"h\",\"showlegend\":true,\"text\":[\"\\ud1f4\\uc9c1\\uc5f0\\uae08\\uac00\\uc785\\uc5ec\\ubd80\"],\"textposition\":\"auto\",\"x\":[0.08526621758937836],\"xaxis\":\"x\",\"y\":[\"\\ud1f4\\uc9c1\\uc5f0\\uae08\\uac00\\uc785\\uc5ec\\ubd80\"],\"yaxis\":\"y\",\"type\":\"bar\"},{\"alignmentgroup\":\"True\",\"hovertemplate\":\"\\uc21c\\uc704=3\\u003cbr\\u003e\\uc784\\uae08\\ubd84\\uc704=\\uc784\\uae085\\ubd84\\uc704\\u003cbr\\u003e\\uc784\\uae08\\uc5d0 \\ub300\\ud55c \\uc601\\ud5a5\\ub825=%{x}\\u003cbr\\u003e\\ubcc0\\uc218=%{text}\\u003cextra\\u003e\\u003c\\u002fextra\\u003e\",\"legendgroup\":\"3\",\"marker\":{\"color\":\"saddlebrown\",\"pattern\":{\"shape\":\"\"}},\"name\":\"3\",\"offsetgroup\":\"3\",\"orientation\":\"h\",\"showlegend\":true,\"text\":[\"\\uc0ac\\uc5c5\\uccb4\\uaddc\\ubaa8\\ucf54\\ub4dc\"],\"textposition\":\"auto\",\"x\":[0.6432784199714661],\"xaxis\":\"x\",\"y\":[\"\\uc0ac\\uc5c5\\uccb4\\uaddc\\ubaa8\\ucf54\\ub4dc\"],\"yaxis\":\"y\",\"type\":\"bar\"},{\"alignmentgroup\":\"True\",\"hovertemplate\":\"\\uc21c\\uc704=18\\u003cbr\\u003e\\uc784\\uae08\\ubd84\\uc704=\\uc784\\uae085\\ubd84\\uc704\\u003cbr\\u003e\\uc784\\uae08\\uc5d0 \\ub300\\ud55c \\uc601\\ud5a5\\ub825=%{x}\\u003cbr\\u003e\\ubcc0\\uc218=%{text}\\u003cextra\\u003e\\u003c\\u002fextra\\u003e\",\"legendgroup\":\"18\",\"marker\":{\"color\":\"tomato\",\"pattern\":{\"shape\":\"\"}},\"name\":\"18\",\"offsetgroup\":\"18\",\"orientation\":\"h\",\"showlegend\":true,\"text\":[\"\\uc0b0\\uc7ac\\ubcf4\\ud5d8\\uac00\\uc785\\uc5ec\\ubd80\"],\"textposition\":\"auto\",\"x\":[0.02649439312517643],\"xaxis\":\"x\",\"y\":[\"\\uc0b0\\uc7ac\\ubcf4\\ud5d8\\uac00\\uc785\\uc5ec\\ubd80\"],\"yaxis\":\"y\",\"type\":\"bar\"}],\"name\":\"\\uc784\\uae085\\ubd84\\uc704\"}]);\n",
       "                        }).then(function(){\n",
       "                            \n",
       "var gd = document.getElementById('3f426a9c-d0bf-42cb-9052-ba207eddfc6a');\n",
       "var x = new MutationObserver(function (mutations, observer) {{\n",
       "        var display = window.getComputedStyle(gd).display;\n",
       "        if (!display || display === 'none') {{\n",
       "            console.log([gd, 'removed!']);\n",
       "            Plotly.purge(gd);\n",
       "            observer.disconnect();\n",
       "        }}\n",
       "}});\n",
       "\n",
       "// Listen for the removal of the full notebook cells\n",
       "var notebookContainer = gd.closest('#notebook-container');\n",
       "if (notebookContainer) {{\n",
       "    x.observe(notebookContainer, {childList: true});\n",
       "}}\n",
       "\n",
       "// Listen for the clearing of the current output cell\n",
       "var outputEl = gd.closest('.output');\n",
       "if (outputEl) {{\n",
       "    x.observe(outputEl, {childList: true});\n",
       "}}\n",
       "\n",
       "                        })                };                });            </script>        </div>"
      ]
     },
     "metadata": {},
     "output_type": "display_data"
    }
   ],
   "source": [
    "#애니메이션 막대 그리기\n",
    "\n",
    "import plotly.express as px\n",
    "#import plotly.graph_objects as go\n",
    "\n",
    "colormap={}\n",
    "colormap['1']='forestgreen'\n",
    "colormap['2']='saddlebrown'\n",
    "colormap['3']='saddlebrown'\n",
    "for i in range(len(df_sorted['순위'].unique())-3):\n",
    "    str_num=f\"{i+4}\"\n",
    "    colormap[str_num]=\"tomato\"\n",
    "\n",
    "fig=px.bar(\n",
    "    df_sorted,\n",
    "    x='영향력',\n",
    "    y='항목',\n",
    "    animation_frame='임금분위',\n",
    "    orientation='h',         # 가로 막대 그래프\n",
    "    title='임금 분위별 변수 중요도 변화',\n",
    "    labels={'영향력': '임금에 대한 영향력', '항목': '변수'},\n",
    "    text='항목',\n",
    "    color='순위', # 색상의 기준을 '순위' 열로 지정\n",
    "    color_discrete_map=colormap,\n",
    "    category_orders={'항목':fixed_order},\n",
    "    \n",
    ")\n",
    "\n",
    "fig.update_layout(\n",
    "    height=700,\n",
    "    title_font_size=20,\n",
    "    uniformtext_minsize=8,\n",
    "    uniformtext_mode='hide',\n",
    "    # 애니메이션 버튼 및 슬라이더 텍스트 설정\n",
    "    sliders=[dict(currentvalue={'prefix': '임금 분위: '})],\n",
    "    updatemenus=[dict(buttons=[dict(args=[None, {\"frame\": {\"duration\": 1500}}])])] # 재생 속도 조절\n",
    ")\n",
    "fig.update_layout(coloraxis_showscale=False,\n",
    "                 showlegend=False)\n",
    "\n",
    "fig.show()\n",
    "fig.write_html(\"고용형태별.html\")"
   ]
  },
  {
   "cell_type": "code",
   "execution_count": 154,
   "id": "5052993a-b653-43ce-b55b-fb65731fcae8",
   "metadata": {},
   "outputs": [],
   "source": []
  },
  {
   "cell_type": "code",
   "execution_count": 165,
   "id": "c1b8486e-1e31-4888-b265-aeec320e4d90",
   "metadata": {},
   "outputs": [],
   "source": []
  },
  {
   "cell_type": "code",
   "execution_count": null,
   "id": "f0ad550e-b7b7-4013-8920-96bce5673d1c",
   "metadata": {},
   "outputs": [],
   "source": []
  }
 ],
 "metadata": {
  "kernelspec": {
   "display_name": "Python 3 (ipykernel)",
   "language": "python",
   "name": "python3"
  },
  "language_info": {
   "codemirror_mode": {
    "name": "ipython",
    "version": 3
   },
   "file_extension": ".py",
   "mimetype": "text/x-python",
   "name": "python",
   "nbconvert_exporter": "python",
   "pygments_lexer": "ipython3",
   "version": "3.12.7"
  }
 },
 "nbformat": 4,
 "nbformat_minor": 5
}
