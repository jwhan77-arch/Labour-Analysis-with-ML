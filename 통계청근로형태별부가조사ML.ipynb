{
 "cells": [
  {
   "cell_type": "code",
   "execution_count": 1,
   "id": "718ab5fb-64d7-4970-9473-5921ef4f2196",
   "metadata": {},
   "outputs": [],
   "source": [
    "import pandas as pd\n",
    "import numpy as np"
   ]
  },
  {
   "cell_type": "code",
   "execution_count": 23,
   "id": "1e717044-6112-4f3d-a456-7488c5dafb09",
   "metadata": {},
   "outputs": [],
   "source": [
    "file_path=\"data/경제활동인구근로형태별DB_09-04_21-47.csv\"\n",
    "df=pd.read_csv(file_path, encoding=\"cp949\")"
   ]
  },
  {
   "cell_type": "code",
   "execution_count": 24,
   "id": "214a6fa7-98fb-460e-8b0f-9f6a5dd7e38d",
   "metadata": {},
   "outputs": [],
   "source": [
    "#데이터 전처리\n",
    "df=df.drop(columns='Unnamed: 0', axis=1)"
   ]
  },
  {
   "cell_type": "code",
   "execution_count": 25,
   "id": "db7e7ccc-6c29-499c-b33a-d418dfa54c47",
   "metadata": {},
   "outputs": [
    {
     "name": "stdout",
     "output_type": "stream",
     "text": [
      "현재일관련사항_직장시작연월과 조사연월을 이용해 [재직월수] 칼럼을 만들었습니다.\n"
     ]
    }
   ],
   "source": [
    "#근속 구하기 \n",
    "enterance_date_col_name='현재일관련사항_직장시작연월'\n",
    "census_date_col_name='조사연월'\n",
    "enterance_date_col=[]\n",
    "census_date_col=[]\n",
    "len_of_service=[]\n",
    "enterance_date_col = pd.to_datetime(df[enterance_date_col_name].astype(str), format='%Y%m')\n",
    "census_date_col = pd.to_datetime(df[census_date_col_name].astype(str), format=\"%Y%m\")\n",
    "\n",
    "len_of_service=(census_date_col.dt.year - enterance_date_col.dt.year)*12 +(census_date_col.dt.month - enterance_date_col.dt.month)\n",
    "df_len_of_service = pd.Series(len_of_service, name=\"재직기간\")\n",
    "\n",
    "len_of_service\n",
    "\n",
    "df_len_of_service\n",
    "\n",
    "df=pd.concat([df, df_len_of_service], axis=1)\n",
    "df=df.drop(columns=[enterance_date_col_name,census_date_col_name])\n",
    "print (f\"{enterance_date_col_name}과 {census_date_col_name}을 이용해 [재직월수] 칼럼을 만들었습니다.\")"
   ]
  },
  {
   "cell_type": "code",
   "execution_count": 26,
   "id": "d3b9de6a-8752-4246-896c-adccafa72311",
   "metadata": {},
   "outputs": [],
   "source": [
    "#가중값 분리\n",
    "df_w= df['가중값']\n",
    "df=df.drop(columns='가중값', axis=1)\n"
   ]
  },
  {
   "cell_type": "code",
   "execution_count": 27,
   "id": "c640a871-c17a-452b-ac9f-764a365d2916",
   "metadata": {},
   "outputs": [],
   "source": [
    "#연속 값의 구간 범주화\n",
    "all_col=df.columns.tolist()\n",
    "col_cont=[col for col in all_col if not any(keyword in col for keyword in ['코드','여부'] )]\n",
    "\n",
    "q_wage= 5 #임금총액의 분위수 \n",
    "q_features=10 #나머지 범주들의 분류 갯수\n",
    "boundary_list={}\n",
    "\n",
    "for col in col_cont:\n",
    "    if \"급여\" in col:\n",
    "        col_name_decile= f\"{col}_{q_wage}분위\"\n",
    "        df[col_name_decile], bin_edges = pd.qcut(df[col], q=q_wage, duplicates='drop',labels=range(0,q_wage), retbins=True)\n",
    "    else:\n",
    "        col_name_decile= f\"{col}_{q_features}분위\"\n",
    "        df[col_name_decile], bin_edges = pd.qcut(df[col], q=q_features, duplicates='drop',labels=False, retbins=True)\n",
    "    boundary_list[col]=bin_edges.tolist()\n",
    "    df[col_name_decile]=df[col_name_decile].astype(int)\n",
    "df_cont=df[col_cont] #연속값 칼럼 따로 저장\n",
    "df=df.drop(col_cont, axis=1)"
   ]
  },
  {
   "cell_type": "code",
   "execution_count": null,
   "id": "45171fa6-5175-4d11-8668-8ac92b4ed737",
   "metadata": {},
   "outputs": [],
   "source": [
    "#XGBoost 전처리\n",
    "target_col= [col for col in df.columns.tolist() if '평균급여' in col]\n",
    "df_y= df[target_col]\n",
    "df=df.drop(columns=target_col, axis=1)\n",
    "df_x=df\n",
    "from sklearn.model_selection import train_test_split\n",
    "x_t, x_10, y_t, y_10, w_t, w_10 = train_test_split(df_x,df_y,df_w, test_size=0.1, random_state=36)\n",
    "\n",
    "del df"
   ]
  },
  {
   "cell_type": "code",
   "execution_count": 35,
   "id": "7cf6f2a2-89b1-4954-9ae5-8988b2ab9b27",
   "metadata": {},
   "outputs": [],
   "source": [
    "#XGBoost\n",
    "\n",
    "import xgboost as xgb\n",
    "\n",
    "model= xgb.XGBClassifier(\n",
    "    objective='multi:softmax', \n",
    "    num_class=q_wage, \n",
    "    eval_metric='mlogloss', \n",
    "    n_estimators=1000, \n",
    "    learning_rate=0.05, \n",
    "    max_depth=8,\n",
    "    verbosity=0)\n",
    "\n",
    "model.fit(x_t, y_t, sample_weight=w_t)\n",
    "y_pred = model.predict(x_10)"
   ]
  },
  {
   "cell_type": "code",
   "execution_count": 94,
   "id": "697576e1-0a15-49c6-9d92-ffc82954e8da",
   "metadata": {},
   "outputs": [
    {
     "data": {
      "text/plain": [
       "['xgboost_model_경제활동부가조사.pkl']"
      ]
     },
     "execution_count": 94,
     "metadata": {},
     "output_type": "execute_result"
    }
   ],
   "source": [
    "#학습된 모델 저장\n",
    "import joblib\n",
    "joblib.dump(model, 'xgboost_model_경제활동부가조사.pkl')"
   ]
  },
  {
   "cell_type": "code",
   "execution_count": 37,
   "id": "e56bcd54-3ad6-4958-81a0-c5cf90c8d404",
   "metadata": {},
   "outputs": [
    {
     "name": "stdout",
     "output_type": "stream",
     "text": [
      "\n",
      "정확도: 0.6259\n",
      "\n",
      "### 혼동 행렬 ###\n",
      "[[2151  359   17   17    5]\n",
      " [ 262 1858  455  210   46]\n",
      " [  41  653  865  579   98]\n",
      " [  19  285  403 1393  529]\n",
      " [   9   54   82  498 1880]]\n",
      "\n",
      "### 분류 리포트 ###\n",
      "              precision    recall  f1-score   support\n",
      "\n",
      "           0       0.87      0.84      0.86      2549\n",
      "           1       0.58      0.66      0.62      2831\n",
      "           2       0.47      0.39      0.43      2236\n",
      "           3       0.52      0.53      0.52      2629\n",
      "           4       0.73      0.75      0.74      2523\n",
      "\n",
      "    accuracy                           0.64     12768\n",
      "   macro avg       0.63      0.63      0.63     12768\n",
      "weighted avg       0.64      0.64      0.64     12768\n",
      "\n"
     ]
    }
   ],
   "source": [
    "from sklearn.metrics import accuracy_score, confusion_matrix, classification_report\n",
    "accuracy = accuracy_score(y_10, y_pred, sample_weight=w_10)\n",
    "print(f\"\\n정확도: {accuracy:.4f}\")\n",
    "print(\"\\n### 혼동 행렬 ###\")\n",
    "print(confusion_matrix(y_10, y_pred))\n",
    "\n",
    "print(\"\\n### 분류 리포트 ###\")\n",
    "print(classification_report(y_10, y_pred))"
   ]
  },
  {
   "cell_type": "code",
   "execution_count": 38,
   "id": "91242e4d-0d56-4225-8b4c-78da9b9b66d9",
   "metadata": {},
   "outputs": [],
   "source": [
    "#변수 영향력 분석_ 샤프 분석\n",
    "import shap\n",
    "x_shap = x_10.sample(n=1000, random_state=12)\n",
    "explainer =shap.TreeExplainer(model)\n",
    "shap_value = explainer(x_shap)\n"
   ]
  },
  {
   "cell_type": "code",
   "execution_count": null,
   "id": "76bd5ae9-a8cf-41f5-87e6-6ed96985ad68",
   "metadata": {},
   "outputs": [],
   "source": [
    "# 샤프 값 후처리\n",
    "shap_mean_value=np.empty((q_wage,f_num)) #1000개 샘플 샤프 값의 평균을 배열로 정리\n",
    "for i in range(q_wage): # [임금분위, 칼럼] 배열로 샤프 값 저장\n",
    "    for j in range(f_num):\n",
    "        shap_mean_value[i][j] = np.abs(shap_value.values[:,j,i]).mean()\n",
    "\n",
    "shap_by_feature= shap_mean_value.mean(axis=0) #임금분위 전체의 평균 샤프값\n",
    "\n",
    "#샤프 값 DataFrame\n",
    "shap_by_feature_df=pd.DataFrame(shap_by_feature, index=shap_value.feature_names) \n",
    "\n",
    "shap_by_feature_df.columns=['평균샤프값']\n",
    "\n",
    "for i in range(q_wage):\n",
    "    col_name=f\"임금{i+1}분위\"\n",
    "    shap_by_feature_df[col_name] =shap_mean_value[i]\n",
    "shap_by_feature_df"
   ]
  },
  {
   "cell_type": "code",
   "execution_count": 66,
   "id": "5f7ff53b-317a-4c85-8cb4-38bf16931b9e",
   "metadata": {},
   "outputs": [],
   "source": [
    "import seaborn as sns\n",
    "import matplotlib.pyplot as plt"
   ]
  },
  {
   "cell_type": "code",
   "execution_count": 118,
   "id": "8b9fc823-9cdd-4051-8c52-17c468520f88",
   "metadata": {},
   "outputs": [
    {
     "data": {
      "text/html": [
       "<div>\n",
       "<style scoped>\n",
       "    .dataframe tbody tr th:only-of-type {\n",
       "        vertical-align: middle;\n",
       "    }\n",
       "\n",
       "    .dataframe tbody tr th {\n",
       "        vertical-align: top;\n",
       "    }\n",
       "\n",
       "    .dataframe thead th {\n",
       "        text-align: right;\n",
       "    }\n",
       "</style>\n",
       "<table border=\"1\" class=\"dataframe\">\n",
       "  <thead>\n",
       "    <tr style=\"text-align: right;\">\n",
       "      <th></th>\n",
       "      <th>평균샤프값</th>\n",
       "      <th>임금1분위</th>\n",
       "      <th>임금2분위</th>\n",
       "      <th>임금3분위</th>\n",
       "      <th>임금4분위</th>\n",
       "      <th>임금5분위</th>\n",
       "    </tr>\n",
       "  </thead>\n",
       "  <tbody>\n",
       "    <tr>\n",
       "      <th>가구주관계코드</th>\n",
       "      <td>0.115533</td>\n",
       "      <td>0.155249</td>\n",
       "      <td>0.121549</td>\n",
       "      <td>0.060253</td>\n",
       "      <td>0.095784</td>\n",
       "      <td>0.144828</td>\n",
       "    </tr>\n",
       "    <tr>\n",
       "      <th>성별코드</th>\n",
       "      <td>0.305818</td>\n",
       "      <td>0.371222</td>\n",
       "      <td>0.316291</td>\n",
       "      <td>0.096510</td>\n",
       "      <td>0.285755</td>\n",
       "      <td>0.459313</td>\n",
       "    </tr>\n",
       "    <tr>\n",
       "      <th>교육정도_학력구분코드</th>\n",
       "      <td>0.075906</td>\n",
       "      <td>0.091257</td>\n",
       "      <td>0.083548</td>\n",
       "      <td>0.059394</td>\n",
       "      <td>0.061288</td>\n",
       "      <td>0.084041</td>\n",
       "    </tr>\n",
       "    <tr>\n",
       "      <th>교육정도_계열코드</th>\n",
       "      <td>0.100566</td>\n",
       "      <td>0.130469</td>\n",
       "      <td>0.094406</td>\n",
       "      <td>0.070062</td>\n",
       "      <td>0.069123</td>\n",
       "      <td>0.138768</td>\n",
       "    </tr>\n",
       "    <tr>\n",
       "      <th>교육정도_수학구분코드</th>\n",
       "      <td>0.017042</td>\n",
       "      <td>0.026267</td>\n",
       "      <td>0.017063</td>\n",
       "      <td>0.017079</td>\n",
       "      <td>0.010792</td>\n",
       "      <td>0.014011</td>\n",
       "    </tr>\n",
       "    <tr>\n",
       "      <th>혼인상태코드</th>\n",
       "      <td>0.069182</td>\n",
       "      <td>0.063846</td>\n",
       "      <td>0.069398</td>\n",
       "      <td>0.043854</td>\n",
       "      <td>0.033452</td>\n",
       "      <td>0.135359</td>\n",
       "    </tr>\n",
       "    <tr>\n",
       "      <th>현재일관련사항_지난주수입목적근로여부</th>\n",
       "      <td>0.005934</td>\n",
       "      <td>0.003391</td>\n",
       "      <td>0.004995</td>\n",
       "      <td>0.009840</td>\n",
       "      <td>0.004017</td>\n",
       "      <td>0.007428</td>\n",
       "    </tr>\n",
       "    <tr>\n",
       "      <th>현재일관련사항_지난주부업여부</th>\n",
       "      <td>0.018039</td>\n",
       "      <td>0.034261</td>\n",
       "      <td>0.016280</td>\n",
       "      <td>0.005421</td>\n",
       "      <td>0.009611</td>\n",
       "      <td>0.024619</td>\n",
       "    </tr>\n",
       "    <tr>\n",
       "      <th>현재일관련사항_지난주총근로시간구분코드</th>\n",
       "      <td>0.022894</td>\n",
       "      <td>0.055388</td>\n",
       "      <td>0.010266</td>\n",
       "      <td>0.017416</td>\n",
       "      <td>0.017684</td>\n",
       "      <td>0.013715</td>\n",
       "    </tr>\n",
       "    <tr>\n",
       "      <th>현재일관련사항_10차산업대분류코드</th>\n",
       "      <td>0.245148</td>\n",
       "      <td>0.274951</td>\n",
       "      <td>0.151380</td>\n",
       "      <td>0.131510</td>\n",
       "      <td>0.226305</td>\n",
       "      <td>0.441593</td>\n",
       "    </tr>\n",
       "    <tr>\n",
       "      <th>현재일관련사항_종사자규모코드</th>\n",
       "      <td>0.149967</td>\n",
       "      <td>0.187754</td>\n",
       "      <td>0.135156</td>\n",
       "      <td>0.087004</td>\n",
       "      <td>0.128737</td>\n",
       "      <td>0.211182</td>\n",
       "    </tr>\n",
       "    <tr>\n",
       "      <th>현재일관련사항_7차직업대분류코드</th>\n",
       "      <td>0.283817</td>\n",
       "      <td>0.335775</td>\n",
       "      <td>0.169283</td>\n",
       "      <td>0.152377</td>\n",
       "      <td>0.216287</td>\n",
       "      <td>0.545361</td>\n",
       "    </tr>\n",
       "    <tr>\n",
       "      <th>현재일관련사항_종사상지위코드</th>\n",
       "      <td>0.071746</td>\n",
       "      <td>0.209077</td>\n",
       "      <td>0.022135</td>\n",
       "      <td>0.046133</td>\n",
       "      <td>0.047240</td>\n",
       "      <td>0.034144</td>\n",
       "    </tr>\n",
       "    <tr>\n",
       "      <th>현재일관련사항_고용계약기간정함여부</th>\n",
       "      <td>0.030085</td>\n",
       "      <td>0.043168</td>\n",
       "      <td>0.019116</td>\n",
       "      <td>0.018925</td>\n",
       "      <td>0.028797</td>\n",
       "      <td>0.040417</td>\n",
       "    </tr>\n",
       "    <tr>\n",
       "      <th>가구구분코드</th>\n",
       "      <td>0.009255</td>\n",
       "      <td>0.010025</td>\n",
       "      <td>0.004444</td>\n",
       "      <td>0.007383</td>\n",
       "      <td>0.006819</td>\n",
       "      <td>0.017603</td>\n",
       "    </tr>\n",
       "    <tr>\n",
       "      <th>교육정도컨버젼코드</th>\n",
       "      <td>0.103946</td>\n",
       "      <td>0.075841</td>\n",
       "      <td>0.039788</td>\n",
       "      <td>0.058323</td>\n",
       "      <td>0.063824</td>\n",
       "      <td>0.281954</td>\n",
       "    </tr>\n",
       "    <tr>\n",
       "      <th>연령계층코드</th>\n",
       "      <td>0.170115</td>\n",
       "      <td>0.246194</td>\n",
       "      <td>0.165948</td>\n",
       "      <td>0.131103</td>\n",
       "      <td>0.125776</td>\n",
       "      <td>0.181553</td>\n",
       "    </tr>\n",
       "    <tr>\n",
       "      <th>경제활동상태코드</th>\n",
       "      <td>0.000000</td>\n",
       "      <td>0.000000</td>\n",
       "      <td>0.000000</td>\n",
       "      <td>0.000000</td>\n",
       "      <td>0.000000</td>\n",
       "      <td>0.000000</td>\n",
       "    </tr>\n",
       "    <tr>\n",
       "      <th>단기근로기간형태여부</th>\n",
       "      <td>0.020634</td>\n",
       "      <td>0.012954</td>\n",
       "      <td>0.008604</td>\n",
       "      <td>0.015171</td>\n",
       "      <td>0.023271</td>\n",
       "      <td>0.043168</td>\n",
       "    </tr>\n",
       "    <tr>\n",
       "      <th>계속근로가능여부</th>\n",
       "      <td>0.021061</td>\n",
       "      <td>0.028183</td>\n",
       "      <td>0.016223</td>\n",
       "      <td>0.021185</td>\n",
       "      <td>0.017799</td>\n",
       "      <td>0.021915</td>\n",
       "    </tr>\n",
       "    <tr>\n",
       "      <th>계속근로가능사유코드</th>\n",
       "      <td>0.083268</td>\n",
       "      <td>0.094644</td>\n",
       "      <td>0.089141</td>\n",
       "      <td>0.055879</td>\n",
       "      <td>0.047279</td>\n",
       "      <td>0.129395</td>\n",
       "    </tr>\n",
       "    <tr>\n",
       "      <th>근로시간형태코드</th>\n",
       "      <td>0.205215</td>\n",
       "      <td>0.361062</td>\n",
       "      <td>0.066873</td>\n",
       "      <td>0.290605</td>\n",
       "      <td>0.208020</td>\n",
       "      <td>0.099515</td>\n",
       "    </tr>\n",
       "    <tr>\n",
       "      <th>급여수령위치코드</th>\n",
       "      <td>0.017172</td>\n",
       "      <td>0.020773</td>\n",
       "      <td>0.006052</td>\n",
       "      <td>0.009770</td>\n",
       "      <td>0.019095</td>\n",
       "      <td>0.030170</td>\n",
       "    </tr>\n",
       "    <tr>\n",
       "      <th>특수형태근로종사자여부</th>\n",
       "      <td>0.009501</td>\n",
       "      <td>0.009576</td>\n",
       "      <td>0.007227</td>\n",
       "      <td>0.003273</td>\n",
       "      <td>0.015211</td>\n",
       "      <td>0.012218</td>\n",
       "    </tr>\n",
       "    <tr>\n",
       "      <th>근로장소코드</th>\n",
       "      <td>0.006002</td>\n",
       "      <td>0.006344</td>\n",
       "      <td>0.001334</td>\n",
       "      <td>0.013098</td>\n",
       "      <td>0.007095</td>\n",
       "      <td>0.002137</td>\n",
       "    </tr>\n",
       "    <tr>\n",
       "      <th>지난주취업동기코드</th>\n",
       "      <td>0.040800</td>\n",
       "      <td>0.021317</td>\n",
       "      <td>0.037953</td>\n",
       "      <td>0.010884</td>\n",
       "      <td>0.017791</td>\n",
       "      <td>0.116058</td>\n",
       "    </tr>\n",
       "    <tr>\n",
       "      <th>지난주취업_주요사유코드</th>\n",
       "      <td>0.143943</td>\n",
       "      <td>0.185958</td>\n",
       "      <td>0.078598</td>\n",
       "      <td>0.049373</td>\n",
       "      <td>0.156860</td>\n",
       "      <td>0.248925</td>\n",
       "    </tr>\n",
       "    <tr>\n",
       "      <th>국민연금및특수직연금가입구분코드</th>\n",
       "      <td>0.078414</td>\n",
       "      <td>0.125195</td>\n",
       "      <td>0.038048</td>\n",
       "      <td>0.029650</td>\n",
       "      <td>0.081488</td>\n",
       "      <td>0.117689</td>\n",
       "    </tr>\n",
       "    <tr>\n",
       "      <th>건강보험가입구분코드</th>\n",
       "      <td>0.085055</td>\n",
       "      <td>0.205871</td>\n",
       "      <td>0.029518</td>\n",
       "      <td>0.075086</td>\n",
       "      <td>0.029401</td>\n",
       "      <td>0.085396</td>\n",
       "    </tr>\n",
       "    <tr>\n",
       "      <th>고용보험가입여부</th>\n",
       "      <td>0.082417</td>\n",
       "      <td>0.162119</td>\n",
       "      <td>0.062576</td>\n",
       "      <td>0.081018</td>\n",
       "      <td>0.023200</td>\n",
       "      <td>0.083171</td>\n",
       "    </tr>\n",
       "    <tr>\n",
       "      <th>퇴직급여혜택여부</th>\n",
       "      <td>0.042742</td>\n",
       "      <td>0.085503</td>\n",
       "      <td>0.021303</td>\n",
       "      <td>0.043841</td>\n",
       "      <td>0.046778</td>\n",
       "      <td>0.016284</td>\n",
       "    </tr>\n",
       "    <tr>\n",
       "      <th>상여금혜택여부</th>\n",
       "      <td>0.061773</td>\n",
       "      <td>0.149376</td>\n",
       "      <td>0.044977</td>\n",
       "      <td>0.035654</td>\n",
       "      <td>0.045751</td>\n",
       "      <td>0.033106</td>\n",
       "    </tr>\n",
       "    <tr>\n",
       "      <th>시간외수당혜택여부</th>\n",
       "      <td>0.123495</td>\n",
       "      <td>0.282016</td>\n",
       "      <td>0.145062</td>\n",
       "      <td>0.035817</td>\n",
       "      <td>0.064225</td>\n",
       "      <td>0.090354</td>\n",
       "    </tr>\n",
       "    <tr>\n",
       "      <th>유급휴일및휴가혜택여부</th>\n",
       "      <td>0.125773</td>\n",
       "      <td>0.396725</td>\n",
       "      <td>0.088755</td>\n",
       "      <td>0.020065</td>\n",
       "      <td>0.040201</td>\n",
       "      <td>0.083117</td>\n",
       "    </tr>\n",
       "    <tr>\n",
       "      <th>노동조합가입구분코드</th>\n",
       "      <td>0.074306</td>\n",
       "      <td>0.073112</td>\n",
       "      <td>0.072016</td>\n",
       "      <td>0.046468</td>\n",
       "      <td>0.040969</td>\n",
       "      <td>0.138965</td>\n",
       "    </tr>\n",
       "    <tr>\n",
       "      <th>교육훈련경험여부</th>\n",
       "      <td>0.044231</td>\n",
       "      <td>0.047718</td>\n",
       "      <td>0.049614</td>\n",
       "      <td>0.028572</td>\n",
       "      <td>0.034698</td>\n",
       "      <td>0.060554</td>\n",
       "    </tr>\n",
       "    <tr>\n",
       "      <th>급여형태코드</th>\n",
       "      <td>0.246900</td>\n",
       "      <td>0.268491</td>\n",
       "      <td>0.253270</td>\n",
       "      <td>0.197100</td>\n",
       "      <td>0.194095</td>\n",
       "      <td>0.321545</td>\n",
       "    </tr>\n",
       "    <tr>\n",
       "      <th>근로계약서작성여부</th>\n",
       "      <td>0.047481</td>\n",
       "      <td>0.085677</td>\n",
       "      <td>0.037285</td>\n",
       "      <td>0.040596</td>\n",
       "      <td>0.034816</td>\n",
       "      <td>0.039032</td>\n",
       "    </tr>\n",
       "    <tr>\n",
       "      <th>유연근무제_활용여부</th>\n",
       "      <td>0.031151</td>\n",
       "      <td>0.018818</td>\n",
       "      <td>0.018587</td>\n",
       "      <td>0.034142</td>\n",
       "      <td>0.025629</td>\n",
       "      <td>0.058582</td>\n",
       "    </tr>\n",
       "    <tr>\n",
       "      <th>유연근무제_향후활용예정형태1코드</th>\n",
       "      <td>0.071634</td>\n",
       "      <td>0.150564</td>\n",
       "      <td>0.051263</td>\n",
       "      <td>0.042597</td>\n",
       "      <td>0.049515</td>\n",
       "      <td>0.064229</td>\n",
       "    </tr>\n",
       "    <tr>\n",
       "      <th>출생연도_10분위</th>\n",
       "      <td>0.269885</td>\n",
       "      <td>0.455421</td>\n",
       "      <td>0.293931</td>\n",
       "      <td>0.166826</td>\n",
       "      <td>0.218467</td>\n",
       "      <td>0.214781</td>\n",
       "    </tr>\n",
       "    <tr>\n",
       "      <th>현재일관련사항_주업실제취업시간수_10분위</th>\n",
       "      <td>0.102165</td>\n",
       "      <td>0.201683</td>\n",
       "      <td>0.082865</td>\n",
       "      <td>0.057069</td>\n",
       "      <td>0.096036</td>\n",
       "      <td>0.073170</td>\n",
       "    </tr>\n",
       "    <tr>\n",
       "      <th>현재일관련사항_총실제취업시간수_10분위</th>\n",
       "      <td>0.077648</td>\n",
       "      <td>0.191614</td>\n",
       "      <td>0.058200</td>\n",
       "      <td>0.042963</td>\n",
       "      <td>0.044131</td>\n",
       "      <td>0.051332</td>\n",
       "    </tr>\n",
       "    <tr>\n",
       "      <th>만연령_10분위</th>\n",
       "      <td>0.162963</td>\n",
       "      <td>0.213766</td>\n",
       "      <td>0.177799</td>\n",
       "      <td>0.067994</td>\n",
       "      <td>0.099937</td>\n",
       "      <td>0.255318</td>\n",
       "    </tr>\n",
       "    <tr>\n",
       "      <th>취업형태_전일제근로_1주간근로시간수_10분위</th>\n",
       "      <td>0.327275</td>\n",
       "      <td>0.861940</td>\n",
       "      <td>0.205375</td>\n",
       "      <td>0.253935</td>\n",
       "      <td>0.195448</td>\n",
       "      <td>0.119677</td>\n",
       "    </tr>\n",
       "    <tr>\n",
       "      <th>재직기간_10분위</th>\n",
       "      <td>0.260561</td>\n",
       "      <td>0.180461</td>\n",
       "      <td>0.323124</td>\n",
       "      <td>0.203035</td>\n",
       "      <td>0.126502</td>\n",
       "      <td>0.469682</td>\n",
       "    </tr>\n",
       "  </tbody>\n",
       "</table>\n",
       "</div>"
      ],
      "text/plain": [
       "                             평균샤프값     임금1분위     임금2분위     임금3분위     임금4분위  \\\n",
       "가구주관계코드                   0.115533  0.155249  0.121549  0.060253  0.095784   \n",
       "성별코드                      0.305818  0.371222  0.316291  0.096510  0.285755   \n",
       "교육정도_학력구분코드               0.075906  0.091257  0.083548  0.059394  0.061288   \n",
       "교육정도_계열코드                 0.100566  0.130469  0.094406  0.070062  0.069123   \n",
       "교육정도_수학구분코드               0.017042  0.026267  0.017063  0.017079  0.010792   \n",
       "혼인상태코드                    0.069182  0.063846  0.069398  0.043854  0.033452   \n",
       "현재일관련사항_지난주수입목적근로여부       0.005934  0.003391  0.004995  0.009840  0.004017   \n",
       "현재일관련사항_지난주부업여부           0.018039  0.034261  0.016280  0.005421  0.009611   \n",
       "현재일관련사항_지난주총근로시간구분코드      0.022894  0.055388  0.010266  0.017416  0.017684   \n",
       "현재일관련사항_10차산업대분류코드        0.245148  0.274951  0.151380  0.131510  0.226305   \n",
       "현재일관련사항_종사자규모코드           0.149967  0.187754  0.135156  0.087004  0.128737   \n",
       "현재일관련사항_7차직업대분류코드         0.283817  0.335775  0.169283  0.152377  0.216287   \n",
       "현재일관련사항_종사상지위코드           0.071746  0.209077  0.022135  0.046133  0.047240   \n",
       "현재일관련사항_고용계약기간정함여부        0.030085  0.043168  0.019116  0.018925  0.028797   \n",
       "가구구분코드                    0.009255  0.010025  0.004444  0.007383  0.006819   \n",
       "교육정도컨버젼코드                 0.103946  0.075841  0.039788  0.058323  0.063824   \n",
       "연령계층코드                    0.170115  0.246194  0.165948  0.131103  0.125776   \n",
       "경제활동상태코드                  0.000000  0.000000  0.000000  0.000000  0.000000   \n",
       "단기근로기간형태여부                0.020634  0.012954  0.008604  0.015171  0.023271   \n",
       "계속근로가능여부                  0.021061  0.028183  0.016223  0.021185  0.017799   \n",
       "계속근로가능사유코드                0.083268  0.094644  0.089141  0.055879  0.047279   \n",
       "근로시간형태코드                  0.205215  0.361062  0.066873  0.290605  0.208020   \n",
       "급여수령위치코드                  0.017172  0.020773  0.006052  0.009770  0.019095   \n",
       "특수형태근로종사자여부               0.009501  0.009576  0.007227  0.003273  0.015211   \n",
       "근로장소코드                    0.006002  0.006344  0.001334  0.013098  0.007095   \n",
       "지난주취업동기코드                 0.040800  0.021317  0.037953  0.010884  0.017791   \n",
       "지난주취업_주요사유코드              0.143943  0.185958  0.078598  0.049373  0.156860   \n",
       "국민연금및특수직연금가입구분코드          0.078414  0.125195  0.038048  0.029650  0.081488   \n",
       "건강보험가입구분코드                0.085055  0.205871  0.029518  0.075086  0.029401   \n",
       "고용보험가입여부                  0.082417  0.162119  0.062576  0.081018  0.023200   \n",
       "퇴직급여혜택여부                  0.042742  0.085503  0.021303  0.043841  0.046778   \n",
       "상여금혜택여부                   0.061773  0.149376  0.044977  0.035654  0.045751   \n",
       "시간외수당혜택여부                 0.123495  0.282016  0.145062  0.035817  0.064225   \n",
       "유급휴일및휴가혜택여부               0.125773  0.396725  0.088755  0.020065  0.040201   \n",
       "노동조합가입구분코드                0.074306  0.073112  0.072016  0.046468  0.040969   \n",
       "교육훈련경험여부                  0.044231  0.047718  0.049614  0.028572  0.034698   \n",
       "급여형태코드                    0.246900  0.268491  0.253270  0.197100  0.194095   \n",
       "근로계약서작성여부                 0.047481  0.085677  0.037285  0.040596  0.034816   \n",
       "유연근무제_활용여부                0.031151  0.018818  0.018587  0.034142  0.025629   \n",
       "유연근무제_향후활용예정형태1코드         0.071634  0.150564  0.051263  0.042597  0.049515   \n",
       "출생연도_10분위                 0.269885  0.455421  0.293931  0.166826  0.218467   \n",
       "현재일관련사항_주업실제취업시간수_10분위    0.102165  0.201683  0.082865  0.057069  0.096036   \n",
       "현재일관련사항_총실제취업시간수_10분위     0.077648  0.191614  0.058200  0.042963  0.044131   \n",
       "만연령_10분위                  0.162963  0.213766  0.177799  0.067994  0.099937   \n",
       "취업형태_전일제근로_1주간근로시간수_10분위  0.327275  0.861940  0.205375  0.253935  0.195448   \n",
       "재직기간_10분위                 0.260561  0.180461  0.323124  0.203035  0.126502   \n",
       "\n",
       "                             임금5분위  \n",
       "가구주관계코드                   0.144828  \n",
       "성별코드                      0.459313  \n",
       "교육정도_학력구분코드               0.084041  \n",
       "교육정도_계열코드                 0.138768  \n",
       "교육정도_수학구분코드               0.014011  \n",
       "혼인상태코드                    0.135359  \n",
       "현재일관련사항_지난주수입목적근로여부       0.007428  \n",
       "현재일관련사항_지난주부업여부           0.024619  \n",
       "현재일관련사항_지난주총근로시간구분코드      0.013715  \n",
       "현재일관련사항_10차산업대분류코드        0.441593  \n",
       "현재일관련사항_종사자규모코드           0.211182  \n",
       "현재일관련사항_7차직업대분류코드         0.545361  \n",
       "현재일관련사항_종사상지위코드           0.034144  \n",
       "현재일관련사항_고용계약기간정함여부        0.040417  \n",
       "가구구분코드                    0.017603  \n",
       "교육정도컨버젼코드                 0.281954  \n",
       "연령계층코드                    0.181553  \n",
       "경제활동상태코드                  0.000000  \n",
       "단기근로기간형태여부                0.043168  \n",
       "계속근로가능여부                  0.021915  \n",
       "계속근로가능사유코드                0.129395  \n",
       "근로시간형태코드                  0.099515  \n",
       "급여수령위치코드                  0.030170  \n",
       "특수형태근로종사자여부               0.012218  \n",
       "근로장소코드                    0.002137  \n",
       "지난주취업동기코드                 0.116058  \n",
       "지난주취업_주요사유코드              0.248925  \n",
       "국민연금및특수직연금가입구분코드          0.117689  \n",
       "건강보험가입구분코드                0.085396  \n",
       "고용보험가입여부                  0.083171  \n",
       "퇴직급여혜택여부                  0.016284  \n",
       "상여금혜택여부                   0.033106  \n",
       "시간외수당혜택여부                 0.090354  \n",
       "유급휴일및휴가혜택여부               0.083117  \n",
       "노동조합가입구분코드                0.138965  \n",
       "교육훈련경험여부                  0.060554  \n",
       "급여형태코드                    0.321545  \n",
       "근로계약서작성여부                 0.039032  \n",
       "유연근무제_활용여부                0.058582  \n",
       "유연근무제_향후활용예정형태1코드         0.064229  \n",
       "출생연도_10분위                 0.214781  \n",
       "현재일관련사항_주업실제취업시간수_10분위    0.073170  \n",
       "현재일관련사항_총실제취업시간수_10분위     0.051332  \n",
       "만연령_10분위                  0.255318  \n",
       "취업형태_전일제근로_1주간근로시간수_10분위  0.119677  \n",
       "재직기간_10분위                 0.469682  "
      ]
     },
     "execution_count": 118,
     "metadata": {},
     "output_type": "execute_result"
    }
   ],
   "source": [
    "shap_by_feature_df"
   ]
  },
  {
   "cell_type": "code",
   "execution_count": null,
   "id": "bf2e71d3-7ddc-4e19-9f1a-443e5d028b19",
   "metadata": {},
   "outputs": [],
   "source": [
    "#인덱스 이름 수정.\n",
    "\n",
    "new_index=[]\n",
    "del_words=['현재일관련사항_', '코드', '여부', '_10분위','_5분위']\n",
    "for col in shap_by_feature_df.index :\n",
    "    a=col\n",
    "    for key in del_words:\n",
    "        a=a.replace(key, '')\n",
    "    new_index.append(a)\n",
    "\n",
    "new_index2=[(name.split('_')[1] if '_' in name else name) for name in new_index ]\n",
    "new_index3=[name.replace('전일제근로', '주간근로시간(전일제)') for name in new_index2] \n",
    "\n",
    "shap_by_feature_df.index = new_index3 #1,2,3 중에 선택."
   ]
  },
  {
   "cell_type": "code",
   "execution_count": 245,
   "id": "a41bb92e-31c1-4b68-931e-beb6145dff4c",
   "metadata": {},
   "outputs": [],
   "source": [
    "shap_by_feature_df.index = new_index3 "
   ]
  },
  {
   "cell_type": "code",
   "execution_count": 246,
   "id": "8048b73b-ddce-400e-9aa7-44a8254c5b32",
   "metadata": {},
   "outputs": [
    {
     "data": {
      "text/plain": [
       "<Axes: title={'center': '임금에 미치는 항목의 영향도(임금분위별)'}>"
      ]
     },
     "execution_count": 246,
     "metadata": {},
     "output_type": "execute_result"
    },
    {
     "data": {
      "image/png": "[encoded data removed]",
      "text/plain": [
       "<Figure size 1500x1200 with 2 Axes>"
      ]
     },
     "metadata": {},
     "output_type": "display_data"
    }
   ],
   "source": [
    "#변수 전체 상황을 보여주는 히트맵\n",
    "import matplotlib.colors as mcolors\n",
    "plt.rc('font', family='NanumGothic')\n",
    "colors = ['#cccc99', '#cccc66', '#993333']\n",
    "boundaries = [0, 0.1, 0.2, 1.0]\n",
    "cmap1 = mcolors.ListedColormap(colors)\n",
    "norm1 = mcolors.BoundaryNorm(boundaries, cmap.N)\n",
    "f, ax = plt.subplots(figsize=(15, 12))\n",
    "shap_by_feature_df=shap_by_feature_df.sort_values(by='평균샤프값')\n",
    "norm2 = mcolors.TwoSlopeNorm(vmin=0, vcenter=0.2, vmax=1.0)\n",
    "cmap2 ='flare'\n",
    "plt.title('임금에 미치는 항목의 영향도(임금분위별)',fontsize=20)\n",
    "sns.heatmap(shap_by_feature_df, cmap=cmap2, norm=norm2, linewidths=0.5) #연속값 스타일은 2번, 상중하 스타일은 1번."
   ]
  },
  {
   "cell_type": "code",
   "execution_count": 247,
   "id": "99aaf36c-1f23-48f6-b5e5-71cd069fb792",
   "metadata": {},
   "outputs": [],
   "source": [
    "# 범프 차트를 위한 전처리\n",
    "top10=shap_by_feature_df.sort_values(by='평균샤프값', ascending=False).head(10)\n",
    "top10_order=top10.rank(axis=0, ascending=False, method='first')\n",
    "top10_order=top10_order.drop(columns=['평균샤프값','임금2분위','임금3분위','임금4분위'], axis=1)"
   ]
  },
  {
   "cell_type": "code",
   "execution_count": 248,
   "id": "fda18f0d-38e7-47d3-b704-ac2a35c41daa",
   "metadata": {},
   "outputs": [],
   "source": [
    "top10_order_long=top10_order.unstack().reset_index()\n",
    "top10_order_long=top10_order_long.rename(columns={'level_0':'임금분위', 'level_1':'항목', 0:'영향력'})"
   ]
  },
  {
   "cell_type": "code",
   "execution_count": 249,
   "id": "52b5b23d-2567-4913-90a7-691ddec93cdd",
   "metadata": {},
   "outputs": [],
   "source": [
    "#범프차트 그리기\n",
    "import plotly.express as px"
   ]
  },
  {
   "cell_type": "code",
   "execution_count": 252,
   "id": "4dbb1762-4595-415d-b067-97fdc32b0a9c",
   "metadata": {},
   "outputs": [
    {
     "data": {
      "application/vnd.plotly.v1+json": {
       "config": {
        "plotlyServerURL": "https://plot.ly"
       },
       "data": [
        {
         "hovertemplate": "<b>%{hovertext}</b><br><br>항목=%{text}<br>임금분위=%{x}<br>영향력=%{y}<extra></extra>",
         "hovertext": [
          "주간근로시간(전일제)",
          "주간근로시간(전일제)"
         ],
         "legendgroup": "주간근로시간(전일제)",
         "line": {
          "color": "#636efa",
          "dash": "solid",
          "shape": "spline",
          "width": 4
         },
         "marker": {
          "size": 12,
          "symbol": "circle"
         },
         "mode": "lines+markers+text",
         "name": "주간근로시간(전일제)",
         "orientation": "v",
         "showlegend": true,
         "text": [
          "주간근로시간(전일제)",
          "주간근로시간(전일제)"
         ],
         "textfont": {
          "color": "rgba(0,0,0,0)"
         },
         "type": "scatter",
         "x": [
          "임금1분위",
          "임금5분위"
         ],
         "xaxis": "x",
         "y": [
          1,
          9
         ],
         "yaxis": "y"
        },
        {
         "hovertemplate": "<b>%{hovertext}</b><br><br>항목=%{text}<br>임금분위=%{x}<br>영향력=%{y}<extra></extra>",
         "hovertext": [
          "성별",
          "성별"
         ],
         "legendgroup": "성별",
         "line": {
          "color": "#EF553B",
          "dash": "solid",
          "shape": "spline",
          "width": 4
         },
         "marker": {
          "size": 12,
          "symbol": "circle"
         },
         "mode": "lines+markers+text",
         "name": "성별",
         "orientation": "v",
         "showlegend": true,
         "text": [
          "성별",
          "성별"
         ],
         "textfont": {
          "color": "rgba(0,0,0,0)"
         },
         "type": "scatter",
         "x": [
          "임금1분위",
          "임금5분위"
         ],
         "xaxis": "x",
         "y": [
          3,
          3
         ],
         "yaxis": "y"
        },
        {
         "hovertemplate": "<b>%{hovertext}</b><br><br>항목=%{text}<br>임금분위=%{x}<br>영향력=%{y}<extra></extra>",
         "hovertext": [
          "7차직업대분류",
          "7차직업대분류"
         ],
         "legendgroup": "7차직업대분류",
         "line": {
          "color": "#00cc96",
          "dash": "solid",
          "shape": "spline",
          "width": 4
         },
         "marker": {
          "size": 12,
          "symbol": "circle"
         },
         "mode": "lines+markers+text",
         "name": "7차직업대분류",
         "orientation": "v",
         "showlegend": true,
         "text": [
          "7차직업대분류",
          "7차직업대분류"
         ],
         "textfont": {
          "color": "rgba(0,0,0,0)"
         },
         "type": "scatter",
         "x": [
          "임금1분위",
          "임금5분위"
         ],
         "xaxis": "x",
         "y": [
          5,
          1
         ],
         "yaxis": "y"
        },
        {
         "hovertemplate": "<b>%{hovertext}</b><br><br>항목=%{text}<br>임금분위=%{x}<br>영향력=%{y}<extra></extra>",
         "hovertext": [
          "출생연도",
          "출생연도"
         ],
         "legendgroup": "출생연도",
         "line": {
          "color": "#ab63fa",
          "dash": "solid",
          "shape": "spline",
          "width": 4
         },
         "marker": {
          "size": 12,
          "symbol": "circle"
         },
         "mode": "lines+markers+text",
         "name": "출생연도",
         "orientation": "v",
         "showlegend": true,
         "text": [
          "출생연도",
          "출생연도"
         ],
         "textfont": {
          "color": "rgba(0,0,0,0)"
         },
         "type": "scatter",
         "x": [
          "임금1분위",
          "임금5분위"
         ],
         "xaxis": "x",
         "y": [
          2,
          7
         ],
         "yaxis": "y"
        },
        {
         "hovertemplate": "<b>%{hovertext}</b><br><br>항목=%{text}<br>임금분위=%{x}<br>영향력=%{y}<extra></extra>",
         "hovertext": [
          "재직기간",
          "재직기간"
         ],
         "legendgroup": "재직기간",
         "line": {
          "color": "#FFA15A",
          "dash": "solid",
          "shape": "spline",
          "width": 4
         },
         "marker": {
          "size": 12,
          "symbol": "circle"
         },
         "mode": "lines+markers+text",
         "name": "재직기간",
         "orientation": "v",
         "showlegend": true,
         "text": [
          "재직기간",
          "재직기간"
         ],
         "textfont": {
          "color": "rgba(0,0,0,0)"
         },
         "type": "scatter",
         "x": [
          "임금1분위",
          "임금5분위"
         ],
         "xaxis": "x",
         "y": [
          10,
          2
         ],
         "yaxis": "y"
        },
        {
         "hovertemplate": "<b>%{hovertext}</b><br><br>항목=%{text}<br>임금분위=%{x}<br>영향력=%{y}<extra></extra>",
         "hovertext": [
          "급여형태",
          "급여형태"
         ],
         "legendgroup": "급여형태",
         "line": {
          "color": "#19d3f3",
          "dash": "solid",
          "shape": "spline",
          "width": 4
         },
         "marker": {
          "size": 12,
          "symbol": "circle"
         },
         "mode": "lines+markers+text",
         "name": "급여형태",
         "orientation": "v",
         "showlegend": true,
         "text": [
          "급여형태",
          "급여형태"
         ],
         "textfont": {
          "color": "rgba(0,0,0,0)"
         },
         "type": "scatter",
         "x": [
          "임금1분위",
          "임금5분위"
         ],
         "xaxis": "x",
         "y": [
          7,
          5
         ],
         "yaxis": "y"
        },
        {
         "hovertemplate": "<b>%{hovertext}</b><br><br>항목=%{text}<br>임금분위=%{x}<br>영향력=%{y}<extra></extra>",
         "hovertext": [
          "10차산업대분류",
          "10차산업대분류"
         ],
         "legendgroup": "10차산업대분류",
         "line": {
          "color": "#FF6692",
          "dash": "solid",
          "shape": "spline",
          "width": 4
         },
         "marker": {
          "size": 12,
          "symbol": "circle"
         },
         "mode": "lines+markers+text",
         "name": "10차산업대분류",
         "orientation": "v",
         "showlegend": true,
         "text": [
          "10차산업대분류",
          "10차산업대분류"
         ],
         "textfont": {
          "color": "rgba(0,0,0,0)"
         },
         "type": "scatter",
         "x": [
          "임금1분위",
          "임금5분위"
         ],
         "xaxis": "x",
         "y": [
          6,
          4
         ],
         "yaxis": "y"
        },
        {
         "hovertemplate": "<b>%{hovertext}</b><br><br>항목=%{text}<br>임금분위=%{x}<br>영향력=%{y}<extra></extra>",
         "hovertext": [
          "근로시간형태",
          "근로시간형태"
         ],
         "legendgroup": "근로시간형태",
         "line": {
          "color": "#B6E880",
          "dash": "solid",
          "shape": "spline",
          "width": 4
         },
         "marker": {
          "size": 12,
          "symbol": "circle"
         },
         "mode": "lines+markers+text",
         "name": "근로시간형태",
         "orientation": "v",
         "showlegend": true,
         "text": [
          "근로시간형태",
          "근로시간형태"
         ],
         "textfont": {
          "color": "rgba(0,0,0,0)"
         },
         "type": "scatter",
         "x": [
          "임금1분위",
          "임금5분위"
         ],
         "xaxis": "x",
         "y": [
          4,
          10
         ],
         "yaxis": "y"
        },
        {
         "hovertemplate": "<b>%{hovertext}</b><br><br>항목=%{text}<br>임금분위=%{x}<br>영향력=%{y}<extra></extra>",
         "hovertext": [
          "연령계층",
          "연령계층"
         ],
         "legendgroup": "연령계층",
         "line": {
          "color": "#FF97FF",
          "dash": "solid",
          "shape": "spline",
          "width": 4
         },
         "marker": {
          "size": 12,
          "symbol": "circle"
         },
         "mode": "lines+markers+text",
         "name": "연령계층",
         "orientation": "v",
         "showlegend": true,
         "text": [
          "연령계층",
          "연령계층"
         ],
         "textfont": {
          "color": "rgba(0,0,0,0)"
         },
         "type": "scatter",
         "x": [
          "임금1분위",
          "임금5분위"
         ],
         "xaxis": "x",
         "y": [
          8,
          8
         ],
         "yaxis": "y"
        },
        {
         "hovertemplate": "<b>%{hovertext}</b><br><br>항목=%{text}<br>임금분위=%{x}<br>영향력=%{y}<extra></extra>",
         "hovertext": [
          "만연령",
          "만연령"
         ],
         "legendgroup": "만연령",
         "line": {
          "color": "#FECB52",
          "dash": "solid",
          "shape": "spline",
          "width": 4
         },
         "marker": {
          "size": 12,
          "symbol": "circle"
         },
         "mode": "lines+markers+text",
         "name": "만연령",
         "orientation": "v",
         "showlegend": true,
         "text": [
          "만연령",
          "만연령"
         ],
         "textfont": {
          "color": "rgba(0,0,0,0)"
         },
         "type": "scatter",
         "x": [
          "임금1분위",
          "임금5분위"
         ],
         "xaxis": "x",
         "y": [
          9,
          6
         ],
         "yaxis": "y"
        }
       ],
       "layout": {
        "annotations": [
         {
          "font": {
           "color": "#636efa",
           "size": 14
          },
          "showarrow": false,
          "text": " 주간근로시간(전일제)",
          "x": "임금5분위",
          "xanchor": "left",
          "y": 9,
          "yanchor": "middle"
         },
         {
          "font": {
           "color": "#636efa",
           "size": 14
          },
          "showarrow": false,
          "text": "주간근로시간(전일제) ",
          "x": "임금1분위",
          "xanchor": "right",
          "y": 1,
          "yanchor": "middle"
         },
         {
          "font": {
           "color": "#EF553B",
           "size": 14
          },
          "showarrow": false,
          "text": " 성별",
          "x": "임금5분위",
          "xanchor": "left",
          "y": 3,
          "yanchor": "middle"
         },
         {
          "font": {
           "color": "#EF553B",
           "size": 14
          },
          "showarrow": false,
          "text": "성별 ",
          "x": "임금1분위",
          "xanchor": "right",
          "y": 3,
          "yanchor": "middle"
         },
         {
          "font": {
           "color": "#00cc96",
           "size": 14
          },
          "showarrow": false,
          "text": " 7차직업대분류",
          "x": "임금5분위",
          "xanchor": "left",
          "y": 1,
          "yanchor": "middle"
         },
         {
          "font": {
           "color": "#00cc96",
           "size": 14
          },
          "showarrow": false,
          "text": "7차직업대분류 ",
          "x": "임금1분위",
          "xanchor": "right",
          "y": 5,
          "yanchor": "middle"
         },
         {
          "font": {
           "color": "#ab63fa",
           "size": 14
          },
          "showarrow": false,
          "text": " 출생연도",
          "x": "임금5분위",
          "xanchor": "left",
          "y": 7,
          "yanchor": "middle"
         },
         {
          "font": {
           "color": "#ab63fa",
           "size": 14
          },
          "showarrow": false,
          "text": "출생연도 ",
          "x": "임금1분위",
          "xanchor": "right",
          "y": 2,
          "yanchor": "middle"
         },
         {
          "font": {
           "color": "#FFA15A",
           "size": 14
          },
          "showarrow": false,
          "text": " 재직기간",
          "x": "임금5분위",
          "xanchor": "left",
          "y": 2,
          "yanchor": "middle"
         },
         {
          "font": {
           "color": "#FFA15A",
           "size": 14
          },
          "showarrow": false,
          "text": "재직기간 ",
          "x": "임금1분위",
          "xanchor": "right",
          "y": 10,
          "yanchor": "middle"
         },
         {
          "font": {
           "color": "#19d3f3",
           "size": 14
          },
          "showarrow": false,
          "text": " 급여형태",
          "x": "임금5분위",
          "xanchor": "left",
          "y": 5,
          "yanchor": "middle"
         },
         {
          "font": {
           "color": "#19d3f3",
           "size": 14
          },
          "showarrow": false,
          "text": "급여형태 ",
          "x": "임금1분위",
          "xanchor": "right",
          "y": 7,
          "yanchor": "middle"
         },
         {
          "font": {
           "color": "#FF6692",
           "size": 14
          },
          "showarrow": false,
          "text": " 10차산업대분류",
          "x": "임금5분위",
          "xanchor": "left",
          "y": 4,
          "yanchor": "middle"
         },
         {
          "font": {
           "color": "#FF6692",
           "size": 14
          },
          "showarrow": false,
          "text": "10차산업대분류 ",
          "x": "임금1분위",
          "xanchor": "right",
          "y": 6,
          "yanchor": "middle"
         },
         {
          "font": {
           "color": "#B6E880",
           "size": 14
          },
          "showarrow": false,
          "text": " 근로시간형태",
          "x": "임금5분위",
          "xanchor": "left",
          "y": 10,
          "yanchor": "middle"
         },
         {
          "font": {
           "color": "#B6E880",
           "size": 14
          },
          "showarrow": false,
          "text": "근로시간형태 ",
          "x": "임금1분위",
          "xanchor": "right",
          "y": 4,
          "yanchor": "middle"
         },
         {
          "font": {
           "color": "#FF97FF",
           "size": 14
          },
          "showarrow": false,
          "text": " 연령계층",
          "x": "임금5분위",
          "xanchor": "left",
          "y": 8,
          "yanchor": "middle"
         },
         {
          "font": {
           "color": "#FF97FF",
           "size": 14
          },
          "showarrow": false,
          "text": "연령계층 ",
          "x": "임금1분위",
          "xanchor": "right",
          "y": 8,
          "yanchor": "middle"
         },
         {
          "font": {
           "color": "#FECB52",
           "size": 14
          },
          "showarrow": false,
          "text": " 만연령",
          "x": "임금5분위",
          "xanchor": "left",
          "y": 6,
          "yanchor": "middle"
         },
         {
          "font": {
           "color": "#FECB52",
           "size": 14
          },
          "showarrow": false,
          "text": "만연령 ",
          "x": "임금1분위",
          "xanchor": "right",
          "y": 9,
          "yanchor": "middle"
         }
        ],
        "height": 800,
        "legend": {
         "title": {
          "text": "항목"
         },
         "tracegroupgap": 0
        },
        "showlegend": false,
        "template": {
         "data": {
          "bar": [
           {
            "error_x": {
             "color": "#2a3f5f"
            },
            "error_y": {
             "color": "#2a3f5f"
            },
            "marker": {
             "line": {
              "color": "#E5ECF6",
              "width": 0.5
             },
             "pattern": {
              "fillmode": "overlay",
              "size": 10,
              "solidity": 0.2
             }
            },
            "type": "bar"
           }
          ],
          "barpolar": [
           {
            "marker": {
             "line": {
              "color": "#E5ECF6",
              "width": 0.5
             },
             "pattern": {
              "fillmode": "overlay",
              "size": 10,
              "solidity": 0.2
             }
            },
            "type": "barpolar"
           }
          ],
          "carpet": [
           {
            "aaxis": {
             "endlinecolor": "#2a3f5f",
             "gridcolor": "white",
             "linecolor": "white",
             "minorgridcolor": "white",
             "startlinecolor": "#2a3f5f"
            },
            "baxis": {
             "endlinecolor": "#2a3f5f",
             "gridcolor": "white",
             "linecolor": "white",
             "minorgridcolor": "white",
             "startlinecolor": "#2a3f5f"
            },
            "type": "carpet"
           }
          ],
          "choropleth": [
           {
            "colorbar": {
             "outlinewidth": 0,
             "ticks": ""
            },
            "type": "choropleth"
           }
          ],
          "contour": [
           {
            "colorbar": {
             "outlinewidth": 0,
             "ticks": ""
            },
            "colorscale": [
             [
              0,
              "#0d0887"
             ],
             [
              0.1111111111111111,
              "#46039f"
             ],
             [
              0.2222222222222222,
              "#7201a8"
             ],
             [
              0.3333333333333333,
              "#9c179e"
             ],
             [
              0.4444444444444444,
              "#bd3786"
             ],
             [
              0.5555555555555556,
              "#d8576b"
             ],
             [
              0.6666666666666666,
              "#ed7953"
             ],
             [
              0.7777777777777778,
              "#fb9f3a"
             ],
             [
              0.8888888888888888,
              "#fdca26"
             ],
             [
              1,
              "#f0f921"
             ]
            ],
            "type": "contour"
           }
          ],
          "contourcarpet": [
           {
            "colorbar": {
             "outlinewidth": 0,
             "ticks": ""
            },
            "type": "contourcarpet"
           }
          ],
          "heatmap": [
           {
            "colorbar": {
             "outlinewidth": 0,
             "ticks": ""
            },
            "colorscale": [
             [
              0,
              "#0d0887"
             ],
             [
              0.1111111111111111,
              "#46039f"
             ],
             [
              0.2222222222222222,
              "#7201a8"
             ],
             [
              0.3333333333333333,
              "#9c179e"
             ],
             [
              0.4444444444444444,
              "#bd3786"
             ],
             [
              0.5555555555555556,
              "#d8576b"
             ],
             [
              0.6666666666666666,
              "#ed7953"
             ],
             [
              0.7777777777777778,
              "#fb9f3a"
             ],
             [
              0.8888888888888888,
              "#fdca26"
             ],
             [
              1,
              "#f0f921"
             ]
            ],
            "type": "heatmap"
           }
          ],
          "heatmapgl": [
           {
            "colorbar": {
             "outlinewidth": 0,
             "ticks": ""
            },
            "colorscale": [
             [
              0,
              "#0d0887"
             ],
             [
              0.1111111111111111,
              "#46039f"
             ],
             [
              0.2222222222222222,
              "#7201a8"
             ],
             [
              0.3333333333333333,
              "#9c179e"
             ],
             [
              0.4444444444444444,
              "#bd3786"
             ],
             [
              0.5555555555555556,
              "#d8576b"
             ],
             [
              0.6666666666666666,
              "#ed7953"
             ],
             [
              0.7777777777777778,
              "#fb9f3a"
             ],
             [
              0.8888888888888888,
              "#fdca26"
             ],
             [
              1,
              "#f0f921"
             ]
            ],
            "type": "heatmapgl"
           }
          ],
          "histogram": [
           {
            "marker": {
             "pattern": {
              "fillmode": "overlay",
              "size": 10,
              "solidity": 0.2
             }
            },
            "type": "histogram"
           }
          ],
          "histogram2d": [
           {
            "colorbar": {
             "outlinewidth": 0,
             "ticks": ""
            },
            "colorscale": [
             [
              0,
              "#0d0887"
             ],
             [
              0.1111111111111111,
              "#46039f"
             ],
             [
              0.2222222222222222,
              "#7201a8"
             ],
             [
              0.3333333333333333,
              "#9c179e"
             ],
             [
              0.4444444444444444,
              "#bd3786"
             ],
             [
              0.5555555555555556,
              "#d8576b"
             ],
             [
              0.6666666666666666,
              "#ed7953"
             ],
             [
              0.7777777777777778,
              "#fb9f3a"
             ],
             [
              0.8888888888888888,
              "#fdca26"
             ],
             [
              1,
              "#f0f921"
             ]
            ],
            "type": "histogram2d"
           }
          ],
          "histogram2dcontour": [
           {
            "colorbar": {
             "outlinewidth": 0,
             "ticks": ""
            },
            "colorscale": [
             [
              0,
              "#0d0887"
             ],
             [
              0.1111111111111111,
              "#46039f"
             ],
             [
              0.2222222222222222,
              "#7201a8"
             ],
             [
              0.3333333333333333,
              "#9c179e"
             ],
             [
              0.4444444444444444,
              "#bd3786"
             ],
             [
              0.5555555555555556,
              "#d8576b"
             ],
             [
              0.6666666666666666,
              "#ed7953"
             ],
             [
              0.7777777777777778,
              "#fb9f3a"
             ],
             [
              0.8888888888888888,
              "#fdca26"
             ],
             [
              1,
              "#f0f921"
             ]
            ],
            "type": "histogram2dcontour"
           }
          ],
          "mesh3d": [
           {
            "colorbar": {
             "outlinewidth": 0,
             "ticks": ""
            },
            "type": "mesh3d"
           }
          ],
          "parcoords": [
           {
            "line": {
             "colorbar": {
              "outlinewidth": 0,
              "ticks": ""
             }
            },
            "type": "parcoords"
           }
          ],
          "pie": [
           {
            "automargin": true,
            "type": "pie"
           }
          ],
          "scatter": [
           {
            "fillpattern": {
             "fillmode": "overlay",
             "size": 10,
             "solidity": 0.2
            },
            "type": "scatter"
           }
          ],
          "scatter3d": [
           {
            "line": {
             "colorbar": {
              "outlinewidth": 0,
              "ticks": ""
             }
            },
            "marker": {
             "colorbar": {
              "outlinewidth": 0,
              "ticks": ""
             }
            },
            "type": "scatter3d"
           }
          ],
          "scattercarpet": [
           {
            "marker": {
             "colorbar": {
              "outlinewidth": 0,
              "ticks": ""
             }
            },
            "type": "scattercarpet"
           }
          ],
          "scattergeo": [
           {
            "marker": {
             "colorbar": {
              "outlinewidth": 0,
              "ticks": ""
             }
            },
            "type": "scattergeo"
           }
          ],
          "scattergl": [
           {
            "marker": {
             "colorbar": {
              "outlinewidth": 0,
              "ticks": ""
             }
            },
            "type": "scattergl"
           }
          ],
          "scattermapbox": [
           {
            "marker": {
             "colorbar": {
              "outlinewidth": 0,
              "ticks": ""
             }
            },
            "type": "scattermapbox"
           }
          ],
          "scatterpolar": [
           {
            "marker": {
             "colorbar": {
              "outlinewidth": 0,
              "ticks": ""
             }
            },
            "type": "scatterpolar"
           }
          ],
          "scatterpolargl": [
           {
            "marker": {
             "colorbar": {
              "outlinewidth": 0,
              "ticks": ""
             }
            },
            "type": "scatterpolargl"
           }
          ],
          "scatterternary": [
           {
            "marker": {
             "colorbar": {
              "outlinewidth": 0,
              "ticks": ""
             }
            },
            "type": "scatterternary"
           }
          ],
          "surface": [
           {
            "colorbar": {
             "outlinewidth": 0,
             "ticks": ""
            },
            "colorscale": [
             [
              0,
              "#0d0887"
             ],
             [
              0.1111111111111111,
              "#46039f"
             ],
             [
              0.2222222222222222,
              "#7201a8"
             ],
             [
              0.3333333333333333,
              "#9c179e"
             ],
             [
              0.4444444444444444,
              "#bd3786"
             ],
             [
              0.5555555555555556,
              "#d8576b"
             ],
             [
              0.6666666666666666,
              "#ed7953"
             ],
             [
              0.7777777777777778,
              "#fb9f3a"
             ],
             [
              0.8888888888888888,
              "#fdca26"
             ],
             [
              1,
              "#f0f921"
             ]
            ],
            "type": "surface"
           }
          ],
          "table": [
           {
            "cells": {
             "fill": {
              "color": "#EBF0F8"
             },
             "line": {
              "color": "white"
             }
            },
            "header": {
             "fill": {
              "color": "#C8D4E3"
             },
             "line": {
              "color": "white"
             }
            },
            "type": "table"
           }
          ]
         },
         "layout": {
          "annotationdefaults": {
           "arrowcolor": "#2a3f5f",
           "arrowhead": 0,
           "arrowwidth": 1
          },
          "autotypenumbers": "strict",
          "coloraxis": {
           "colorbar": {
            "outlinewidth": 0,
            "ticks": ""
           }
          },
          "colorscale": {
           "diverging": [
            [
             0,
             "#8e0152"
            ],
            [
             0.1,
             "#c51b7d"
            ],
            [
             0.2,
             "#de77ae"
            ],
            [
             0.3,
             "#f1b6da"
            ],
            [
             0.4,
             "#fde0ef"
            ],
            [
             0.5,
             "#f7f7f7"
            ],
            [
             0.6,
             "#e6f5d0"
            ],
            [
             0.7,
             "#b8e186"
            ],
            [
             0.8,
             "#7fbc41"
            ],
            [
             0.9,
             "#4d9221"
            ],
            [
             1,
             "#276419"
            ]
           ],
           "sequential": [
            [
             0,
             "#0d0887"
            ],
            [
             0.1111111111111111,
             "#46039f"
            ],
            [
             0.2222222222222222,
             "#7201a8"
            ],
            [
             0.3333333333333333,
             "#9c179e"
            ],
            [
             0.4444444444444444,
             "#bd3786"
            ],
            [
             0.5555555555555556,
             "#d8576b"
            ],
            [
             0.6666666666666666,
             "#ed7953"
            ],
            [
             0.7777777777777778,
             "#fb9f3a"
            ],
            [
             0.8888888888888888,
             "#fdca26"
            ],
            [
             1,
             "#f0f921"
            ]
           ],
           "sequentialminus": [
            [
             0,
             "#0d0887"
            ],
            [
             0.1111111111111111,
             "#46039f"
            ],
            [
             0.2222222222222222,
             "#7201a8"
            ],
            [
             0.3333333333333333,
             "#9c179e"
            ],
            [
             0.4444444444444444,
             "#bd3786"
            ],
            [
             0.5555555555555556,
             "#d8576b"
            ],
            [
             0.6666666666666666,
             "#ed7953"
            ],
            [
             0.7777777777777778,
             "#fb9f3a"
            ],
            [
             0.8888888888888888,
             "#fdca26"
            ],
            [
             1,
             "#f0f921"
            ]
           ]
          },
          "colorway": [
           "#636efa",
           "#EF553B",
           "#00cc96",
           "#ab63fa",
           "#FFA15A",
           "#19d3f3",
           "#FF6692",
           "#B6E880",
           "#FF97FF",
           "#FECB52"
          ],
          "font": {
           "color": "#2a3f5f"
          },
          "geo": {
           "bgcolor": "white",
           "lakecolor": "white",
           "landcolor": "#E5ECF6",
           "showlakes": true,
           "showland": true,
           "subunitcolor": "white"
          },
          "hoverlabel": {
           "align": "left"
          },
          "hovermode": "closest",
          "mapbox": {
           "style": "light"
          },
          "paper_bgcolor": "white",
          "plot_bgcolor": "#E5ECF6",
          "polar": {
           "angularaxis": {
            "gridcolor": "white",
            "linecolor": "white",
            "ticks": ""
           },
           "bgcolor": "#E5ECF6",
           "radialaxis": {
            "gridcolor": "white",
            "linecolor": "white",
            "ticks": ""
           }
          },
          "scene": {
           "xaxis": {
            "backgroundcolor": "#E5ECF6",
            "gridcolor": "white",
            "gridwidth": 2,
            "linecolor": "white",
            "showbackground": true,
            "ticks": "",
            "zerolinecolor": "white"
           },
           "yaxis": {
            "backgroundcolor": "#E5ECF6",
            "gridcolor": "white",
            "gridwidth": 2,
            "linecolor": "white",
            "showbackground": true,
            "ticks": "",
            "zerolinecolor": "white"
           },
           "zaxis": {
            "backgroundcolor": "#E5ECF6",
            "gridcolor": "white",
            "gridwidth": 2,
            "linecolor": "white",
            "showbackground": true,
            "ticks": "",
            "zerolinecolor": "white"
           }
          },
          "shapedefaults": {
           "line": {
            "color": "#2a3f5f"
           }
          },
          "ternary": {
           "aaxis": {
            "gridcolor": "white",
            "linecolor": "white",
            "ticks": ""
           },
           "baxis": {
            "gridcolor": "white",
            "linecolor": "white",
            "ticks": ""
           },
           "bgcolor": "#E5ECF6",
           "caxis": {
            "gridcolor": "white",
            "linecolor": "white",
            "ticks": ""
           }
          },
          "title": {
           "x": 0.05
          },
          "xaxis": {
           "automargin": true,
           "gridcolor": "white",
           "linecolor": "white",
           "ticks": "",
           "title": {
            "standoff": 15
           },
           "zerolinecolor": "white",
           "zerolinewidth": 2
          },
          "yaxis": {
           "automargin": true,
           "gridcolor": "white",
           "linecolor": "white",
           "ticks": "",
           "title": {
            "standoff": 15
           },
           "zerolinecolor": "white",
           "zerolinewidth": 2
          }
         }
        },
        "title": {
         "text": "임금 분위별 항목 순위 변화 (범프 차트)"
        },
        "width": 600,
        "xaxis": {
         "anchor": "y",
         "domain": [
          0,
          1
         ],
         "title": {
          "text": "임금분위"
         }
        },
        "yaxis": {
         "anchor": "x",
         "autorange": "reversed",
         "domain": [
          0,
          1
         ],
         "title": {
          "text": "영향력"
         }
        }
       }
      },
      "image/png": "[encoded data removed]",
      "text/html": [
       "<div>                            <div id=\"aba2647b-d42e-4d42-a5e4-76a47237d0d6\" class=\"plotly-graph-div\" style=\"height:800px; width:600px;\"></div>            <script type=\"text/javascript\">                require([\"plotly\"], function(Plotly) {                    window.PLOTLYENV=window.PLOTLYENV || {};                                    if (document.getElementById(\"aba2647b-d42e-4d42-a5e4-76a47237d0d6\")) {                    Plotly.newPlot(                        \"aba2647b-d42e-4d42-a5e4-76a47237d0d6\",                        [{\"hovertemplate\":\"\\u003cb\\u003e%{hovertext}\\u003c\\u002fb\\u003e\\u003cbr\\u003e\\u003cbr\\u003e\\ud56d\\ubaa9=%{text}\\u003cbr\\u003e\\uc784\\uae08\\ubd84\\uc704=%{x}\\u003cbr\\u003e\\uc601\\ud5a5\\ub825=%{y}\\u003cextra\\u003e\\u003c\\u002fextra\\u003e\",\"hovertext\":[\"\\uc8fc\\uac04\\uadfc\\ub85c\\uc2dc\\uac04(\\uc804\\uc77c\\uc81c)\",\"\\uc8fc\\uac04\\uadfc\\ub85c\\uc2dc\\uac04(\\uc804\\uc77c\\uc81c)\"],\"legendgroup\":\"\\uc8fc\\uac04\\uadfc\\ub85c\\uc2dc\\uac04(\\uc804\\uc77c\\uc81c)\",\"line\":{\"color\":\"#636efa\",\"dash\":\"solid\",\"shape\":\"spline\",\"width\":4},\"marker\":{\"symbol\":\"circle\",\"size\":12},\"mode\":\"lines+markers+text\",\"name\":\"\\uc8fc\\uac04\\uadfc\\ub85c\\uc2dc\\uac04(\\uc804\\uc77c\\uc81c)\",\"orientation\":\"v\",\"showlegend\":true,\"text\":[\"\\uc8fc\\uac04\\uadfc\\ub85c\\uc2dc\\uac04(\\uc804\\uc77c\\uc81c)\",\"\\uc8fc\\uac04\\uadfc\\ub85c\\uc2dc\\uac04(\\uc804\\uc77c\\uc81c)\"],\"x\":[\"\\uc784\\uae081\\ubd84\\uc704\",\"\\uc784\\uae085\\ubd84\\uc704\"],\"xaxis\":\"x\",\"y\":[1.0,9.0],\"yaxis\":\"y\",\"type\":\"scatter\",\"textfont\":{\"color\":\"rgba(0,0,0,0)\"}},{\"hovertemplate\":\"\\u003cb\\u003e%{hovertext}\\u003c\\u002fb\\u003e\\u003cbr\\u003e\\u003cbr\\u003e\\ud56d\\ubaa9=%{text}\\u003cbr\\u003e\\uc784\\uae08\\ubd84\\uc704=%{x}\\u003cbr\\u003e\\uc601\\ud5a5\\ub825=%{y}\\u003cextra\\u003e\\u003c\\u002fextra\\u003e\",\"hovertext\":[\"\\uc131\\ubcc4\",\"\\uc131\\ubcc4\"],\"legendgroup\":\"\\uc131\\ubcc4\",\"line\":{\"color\":\"#EF553B\",\"dash\":\"solid\",\"shape\":\"spline\",\"width\":4},\"marker\":{\"symbol\":\"circle\",\"size\":12},\"mode\":\"lines+markers+text\",\"name\":\"\\uc131\\ubcc4\",\"orientation\":\"v\",\"showlegend\":true,\"text\":[\"\\uc131\\ubcc4\",\"\\uc131\\ubcc4\"],\"x\":[\"\\uc784\\uae081\\ubd84\\uc704\",\"\\uc784\\uae085\\ubd84\\uc704\"],\"xaxis\":\"x\",\"y\":[3.0,3.0],\"yaxis\":\"y\",\"type\":\"scatter\",\"textfont\":{\"color\":\"rgba(0,0,0,0)\"}},{\"hovertemplate\":\"\\u003cb\\u003e%{hovertext}\\u003c\\u002fb\\u003e\\u003cbr\\u003e\\u003cbr\\u003e\\ud56d\\ubaa9=%{text}\\u003cbr\\u003e\\uc784\\uae08\\ubd84\\uc704=%{x}\\u003cbr\\u003e\\uc601\\ud5a5\\ub825=%{y}\\u003cextra\\u003e\\u003c\\u002fextra\\u003e\",\"hovertext\":[\"7\\ucc28\\uc9c1\\uc5c5\\ub300\\ubd84\\ub958\",\"7\\ucc28\\uc9c1\\uc5c5\\ub300\\ubd84\\ub958\"],\"legendgroup\":\"7\\ucc28\\uc9c1\\uc5c5\\ub300\\ubd84\\ub958\",\"line\":{\"color\":\"#00cc96\",\"dash\":\"solid\",\"shape\":\"spline\",\"width\":4},\"marker\":{\"symbol\":\"circle\",\"size\":12},\"mode\":\"lines+markers+text\",\"name\":\"7\\ucc28\\uc9c1\\uc5c5\\ub300\\ubd84\\ub958\",\"orientation\":\"v\",\"showlegend\":true,\"text\":[\"7\\ucc28\\uc9c1\\uc5c5\\ub300\\ubd84\\ub958\",\"7\\ucc28\\uc9c1\\uc5c5\\ub300\\ubd84\\ub958\"],\"x\":[\"\\uc784\\uae081\\ubd84\\uc704\",\"\\uc784\\uae085\\ubd84\\uc704\"],\"xaxis\":\"x\",\"y\":[5.0,1.0],\"yaxis\":\"y\",\"type\":\"scatter\",\"textfont\":{\"color\":\"rgba(0,0,0,0)\"}},{\"hovertemplate\":\"\\u003cb\\u003e%{hovertext}\\u003c\\u002fb\\u003e\\u003cbr\\u003e\\u003cbr\\u003e\\ud56d\\ubaa9=%{text}\\u003cbr\\u003e\\uc784\\uae08\\ubd84\\uc704=%{x}\\u003cbr\\u003e\\uc601\\ud5a5\\ub825=%{y}\\u003cextra\\u003e\\u003c\\u002fextra\\u003e\",\"hovertext\":[\"\\ucd9c\\uc0dd\\uc5f0\\ub3c4\",\"\\ucd9c\\uc0dd\\uc5f0\\ub3c4\"],\"legendgroup\":\"\\ucd9c\\uc0dd\\uc5f0\\ub3c4\",\"line\":{\"color\":\"#ab63fa\",\"dash\":\"solid\",\"shape\":\"spline\",\"width\":4},\"marker\":{\"symbol\":\"circle\",\"size\":12},\"mode\":\"lines+markers+text\",\"name\":\"\\ucd9c\\uc0dd\\uc5f0\\ub3c4\",\"orientation\":\"v\",\"showlegend\":true,\"text\":[\"\\ucd9c\\uc0dd\\uc5f0\\ub3c4\",\"\\ucd9c\\uc0dd\\uc5f0\\ub3c4\"],\"x\":[\"\\uc784\\uae081\\ubd84\\uc704\",\"\\uc784\\uae085\\ubd84\\uc704\"],\"xaxis\":\"x\",\"y\":[2.0,7.0],\"yaxis\":\"y\",\"type\":\"scatter\",\"textfont\":{\"color\":\"rgba(0,0,0,0)\"}},{\"hovertemplate\":\"\\u003cb\\u003e%{hovertext}\\u003c\\u002fb\\u003e\\u003cbr\\u003e\\u003cbr\\u003e\\ud56d\\ubaa9=%{text}\\u003cbr\\u003e\\uc784\\uae08\\ubd84\\uc704=%{x}\\u003cbr\\u003e\\uc601\\ud5a5\\ub825=%{y}\\u003cextra\\u003e\\u003c\\u002fextra\\u003e\",\"hovertext\":[\"\\uc7ac\\uc9c1\\uae30\\uac04\",\"\\uc7ac\\uc9c1\\uae30\\uac04\"],\"legendgroup\":\"\\uc7ac\\uc9c1\\uae30\\uac04\",\"line\":{\"color\":\"#FFA15A\",\"dash\":\"solid\",\"shape\":\"spline\",\"width\":4},\"marker\":{\"symbol\":\"circle\",\"size\":12},\"mode\":\"lines+markers+text\",\"name\":\"\\uc7ac\\uc9c1\\uae30\\uac04\",\"orientation\":\"v\",\"showlegend\":true,\"text\":[\"\\uc7ac\\uc9c1\\uae30\\uac04\",\"\\uc7ac\\uc9c1\\uae30\\uac04\"],\"x\":[\"\\uc784\\uae081\\ubd84\\uc704\",\"\\uc784\\uae085\\ubd84\\uc704\"],\"xaxis\":\"x\",\"y\":[10.0,2.0],\"yaxis\":\"y\",\"type\":\"scatter\",\"textfont\":{\"color\":\"rgba(0,0,0,0)\"}},{\"hovertemplate\":\"\\u003cb\\u003e%{hovertext}\\u003c\\u002fb\\u003e\\u003cbr\\u003e\\u003cbr\\u003e\\ud56d\\ubaa9=%{text}\\u003cbr\\u003e\\uc784\\uae08\\ubd84\\uc704=%{x}\\u003cbr\\u003e\\uc601\\ud5a5\\ub825=%{y}\\u003cextra\\u003e\\u003c\\u002fextra\\u003e\",\"hovertext\":[\"\\uae09\\uc5ec\\ud615\\ud0dc\",\"\\uae09\\uc5ec\\ud615\\ud0dc\"],\"legendgroup\":\"\\uae09\\uc5ec\\ud615\\ud0dc\",\"line\":{\"color\":\"#19d3f3\",\"dash\":\"solid\",\"shape\":\"spline\",\"width\":4},\"marker\":{\"symbol\":\"circle\",\"size\":12},\"mode\":\"lines+markers+text\",\"name\":\"\\uae09\\uc5ec\\ud615\\ud0dc\",\"orientation\":\"v\",\"showlegend\":true,\"text\":[\"\\uae09\\uc5ec\\ud615\\ud0dc\",\"\\uae09\\uc5ec\\ud615\\ud0dc\"],\"x\":[\"\\uc784\\uae081\\ubd84\\uc704\",\"\\uc784\\uae085\\ubd84\\uc704\"],\"xaxis\":\"x\",\"y\":[7.0,5.0],\"yaxis\":\"y\",\"type\":\"scatter\",\"textfont\":{\"color\":\"rgba(0,0,0,0)\"}},{\"hovertemplate\":\"\\u003cb\\u003e%{hovertext}\\u003c\\u002fb\\u003e\\u003cbr\\u003e\\u003cbr\\u003e\\ud56d\\ubaa9=%{text}\\u003cbr\\u003e\\uc784\\uae08\\ubd84\\uc704=%{x}\\u003cbr\\u003e\\uc601\\ud5a5\\ub825=%{y}\\u003cextra\\u003e\\u003c\\u002fextra\\u003e\",\"hovertext\":[\"10\\ucc28\\uc0b0\\uc5c5\\ub300\\ubd84\\ub958\",\"10\\ucc28\\uc0b0\\uc5c5\\ub300\\ubd84\\ub958\"],\"legendgroup\":\"10\\ucc28\\uc0b0\\uc5c5\\ub300\\ubd84\\ub958\",\"line\":{\"color\":\"#FF6692\",\"dash\":\"solid\",\"shape\":\"spline\",\"width\":4},\"marker\":{\"symbol\":\"circle\",\"size\":12},\"mode\":\"lines+markers+text\",\"name\":\"10\\ucc28\\uc0b0\\uc5c5\\ub300\\ubd84\\ub958\",\"orientation\":\"v\",\"showlegend\":true,\"text\":[\"10\\ucc28\\uc0b0\\uc5c5\\ub300\\ubd84\\ub958\",\"10\\ucc28\\uc0b0\\uc5c5\\ub300\\ubd84\\ub958\"],\"x\":[\"\\uc784\\uae081\\ubd84\\uc704\",\"\\uc784\\uae085\\ubd84\\uc704\"],\"xaxis\":\"x\",\"y\":[6.0,4.0],\"yaxis\":\"y\",\"type\":\"scatter\",\"textfont\":{\"color\":\"rgba(0,0,0,0)\"}},{\"hovertemplate\":\"\\u003cb\\u003e%{hovertext}\\u003c\\u002fb\\u003e\\u003cbr\\u003e\\u003cbr\\u003e\\ud56d\\ubaa9=%{text}\\u003cbr\\u003e\\uc784\\uae08\\ubd84\\uc704=%{x}\\u003cbr\\u003e\\uc601\\ud5a5\\ub825=%{y}\\u003cextra\\u003e\\u003c\\u002fextra\\u003e\",\"hovertext\":[\"\\uadfc\\ub85c\\uc2dc\\uac04\\ud615\\ud0dc\",\"\\uadfc\\ub85c\\uc2dc\\uac04\\ud615\\ud0dc\"],\"legendgroup\":\"\\uadfc\\ub85c\\uc2dc\\uac04\\ud615\\ud0dc\",\"line\":{\"color\":\"#B6E880\",\"dash\":\"solid\",\"shape\":\"spline\",\"width\":4},\"marker\":{\"symbol\":\"circle\",\"size\":12},\"mode\":\"lines+markers+text\",\"name\":\"\\uadfc\\ub85c\\uc2dc\\uac04\\ud615\\ud0dc\",\"orientation\":\"v\",\"showlegend\":true,\"text\":[\"\\uadfc\\ub85c\\uc2dc\\uac04\\ud615\\ud0dc\",\"\\uadfc\\ub85c\\uc2dc\\uac04\\ud615\\ud0dc\"],\"x\":[\"\\uc784\\uae081\\ubd84\\uc704\",\"\\uc784\\uae085\\ubd84\\uc704\"],\"xaxis\":\"x\",\"y\":[4.0,10.0],\"yaxis\":\"y\",\"type\":\"scatter\",\"textfont\":{\"color\":\"rgba(0,0,0,0)\"}},{\"hovertemplate\":\"\\u003cb\\u003e%{hovertext}\\u003c\\u002fb\\u003e\\u003cbr\\u003e\\u003cbr\\u003e\\ud56d\\ubaa9=%{text}\\u003cbr\\u003e\\uc784\\uae08\\ubd84\\uc704=%{x}\\u003cbr\\u003e\\uc601\\ud5a5\\ub825=%{y}\\u003cextra\\u003e\\u003c\\u002fextra\\u003e\",\"hovertext\":[\"\\uc5f0\\ub839\\uacc4\\uce35\",\"\\uc5f0\\ub839\\uacc4\\uce35\"],\"legendgroup\":\"\\uc5f0\\ub839\\uacc4\\uce35\",\"line\":{\"color\":\"#FF97FF\",\"dash\":\"solid\",\"shape\":\"spline\",\"width\":4},\"marker\":{\"symbol\":\"circle\",\"size\":12},\"mode\":\"lines+markers+text\",\"name\":\"\\uc5f0\\ub839\\uacc4\\uce35\",\"orientation\":\"v\",\"showlegend\":true,\"text\":[\"\\uc5f0\\ub839\\uacc4\\uce35\",\"\\uc5f0\\ub839\\uacc4\\uce35\"],\"x\":[\"\\uc784\\uae081\\ubd84\\uc704\",\"\\uc784\\uae085\\ubd84\\uc704\"],\"xaxis\":\"x\",\"y\":[8.0,8.0],\"yaxis\":\"y\",\"type\":\"scatter\",\"textfont\":{\"color\":\"rgba(0,0,0,0)\"}},{\"hovertemplate\":\"\\u003cb\\u003e%{hovertext}\\u003c\\u002fb\\u003e\\u003cbr\\u003e\\u003cbr\\u003e\\ud56d\\ubaa9=%{text}\\u003cbr\\u003e\\uc784\\uae08\\ubd84\\uc704=%{x}\\u003cbr\\u003e\\uc601\\ud5a5\\ub825=%{y}\\u003cextra\\u003e\\u003c\\u002fextra\\u003e\",\"hovertext\":[\"\\ub9cc\\uc5f0\\ub839\",\"\\ub9cc\\uc5f0\\ub839\"],\"legendgroup\":\"\\ub9cc\\uc5f0\\ub839\",\"line\":{\"color\":\"#FECB52\",\"dash\":\"solid\",\"shape\":\"spline\",\"width\":4},\"marker\":{\"symbol\":\"circle\",\"size\":12},\"mode\":\"lines+markers+text\",\"name\":\"\\ub9cc\\uc5f0\\ub839\",\"orientation\":\"v\",\"showlegend\":true,\"text\":[\"\\ub9cc\\uc5f0\\ub839\",\"\\ub9cc\\uc5f0\\ub839\"],\"x\":[\"\\uc784\\uae081\\ubd84\\uc704\",\"\\uc784\\uae085\\ubd84\\uc704\"],\"xaxis\":\"x\",\"y\":[9.0,6.0],\"yaxis\":\"y\",\"type\":\"scatter\",\"textfont\":{\"color\":\"rgba(0,0,0,0)\"}}],                        {\"template\":{\"data\":{\"histogram2dcontour\":[{\"type\":\"histogram2dcontour\",\"colorbar\":{\"outlinewidth\":0,\"ticks\":\"\"},\"colorscale\":[[0.0,\"#0d0887\"],[0.1111111111111111,\"#46039f\"],[0.2222222222222222,\"#7201a8\"],[0.3333333333333333,\"#9c179e\"],[0.4444444444444444,\"#bd3786\"],[0.5555555555555556,\"#d8576b\"],[0.6666666666666666,\"#ed7953\"],[0.7777777777777778,\"#fb9f3a\"],[0.8888888888888888,\"#fdca26\"],[1.0,\"#f0f921\"]]}],\"choropleth\":[{\"type\":\"choropleth\",\"colorbar\":{\"outlinewidth\":0,\"ticks\":\"\"}}],\"histogram2d\":[{\"type\":\"histogram2d\",\"colorbar\":{\"outlinewidth\":0,\"ticks\":\"\"},\"colorscale\":[[0.0,\"#0d0887\"],[0.1111111111111111,\"#46039f\"],[0.2222222222222222,\"#7201a8\"],[0.3333333333333333,\"#9c179e\"],[0.4444444444444444,\"#bd3786\"],[0.5555555555555556,\"#d8576b\"],[0.6666666666666666,\"#ed7953\"],[0.7777777777777778,\"#fb9f3a\"],[0.8888888888888888,\"#fdca26\"],[1.0,\"#f0f921\"]]}],\"heatmap\":[{\"type\":\"heatmap\",\"colorbar\":{\"outlinewidth\":0,\"ticks\":\"\"},\"colorscale\":[[0.0,\"#0d0887\"],[0.1111111111111111,\"#46039f\"],[0.2222222222222222,\"#7201a8\"],[0.3333333333333333,\"#9c179e\"],[0.4444444444444444,\"#bd3786\"],[0.5555555555555556,\"#d8576b\"],[0.6666666666666666,\"#ed7953\"],[0.7777777777777778,\"#fb9f3a\"],[0.8888888888888888,\"#fdca26\"],[1.0,\"#f0f921\"]]}],\"heatmapgl\":[{\"type\":\"heatmapgl\",\"colorbar\":{\"outlinewidth\":0,\"ticks\":\"\"},\"colorscale\":[[0.0,\"#0d0887\"],[0.1111111111111111,\"#46039f\"],[0.2222222222222222,\"#7201a8\"],[0.3333333333333333,\"#9c179e\"],[0.4444444444444444,\"#bd3786\"],[0.5555555555555556,\"#d8576b\"],[0.6666666666666666,\"#ed7953\"],[0.7777777777777778,\"#fb9f3a\"],[0.8888888888888888,\"#fdca26\"],[1.0,\"#f0f921\"]]}],\"contourcarpet\":[{\"type\":\"contourcarpet\",\"colorbar\":{\"outlinewidth\":0,\"ticks\":\"\"}}],\"contour\":[{\"type\":\"contour\",\"colorbar\":{\"outlinewidth\":0,\"ticks\":\"\"},\"colorscale\":[[0.0,\"#0d0887\"],[0.1111111111111111,\"#46039f\"],[0.2222222222222222,\"#7201a8\"],[0.3333333333333333,\"#9c179e\"],[0.4444444444444444,\"#bd3786\"],[0.5555555555555556,\"#d8576b\"],[0.6666666666666666,\"#ed7953\"],[0.7777777777777778,\"#fb9f3a\"],[0.8888888888888888,\"#fdca26\"],[1.0,\"#f0f921\"]]}],\"surface\":[{\"type\":\"surface\",\"colorbar\":{\"outlinewidth\":0,\"ticks\":\"\"},\"colorscale\":[[0.0,\"#0d0887\"],[0.1111111111111111,\"#46039f\"],[0.2222222222222222,\"#7201a8\"],[0.3333333333333333,\"#9c179e\"],[0.4444444444444444,\"#bd3786\"],[0.5555555555555556,\"#d8576b\"],[0.6666666666666666,\"#ed7953\"],[0.7777777777777778,\"#fb9f3a\"],[0.8888888888888888,\"#fdca26\"],[1.0,\"#f0f921\"]]}],\"mesh3d\":[{\"type\":\"mesh3d\",\"colorbar\":{\"outlinewidth\":0,\"ticks\":\"\"}}],\"scatter\":[{\"fillpattern\":{\"fillmode\":\"overlay\",\"size\":10,\"solidity\":0.2},\"type\":\"scatter\"}],\"parcoords\":[{\"type\":\"parcoords\",\"line\":{\"colorbar\":{\"outlinewidth\":0,\"ticks\":\"\"}}}],\"scatterpolargl\":[{\"type\":\"scatterpolargl\",\"marker\":{\"colorbar\":{\"outlinewidth\":0,\"ticks\":\"\"}}}],\"bar\":[{\"error_x\":{\"color\":\"#2a3f5f\"},\"error_y\":{\"color\":\"#2a3f5f\"},\"marker\":{\"line\":{\"color\":\"#E5ECF6\",\"width\":0.5},\"pattern\":{\"fillmode\":\"overlay\",\"size\":10,\"solidity\":0.2}},\"type\":\"bar\"}],\"scattergeo\":[{\"type\":\"scattergeo\",\"marker\":{\"colorbar\":{\"outlinewidth\":0,\"ticks\":\"\"}}}],\"scatterpolar\":[{\"type\":\"scatterpolar\",\"marker\":{\"colorbar\":{\"outlinewidth\":0,\"ticks\":\"\"}}}],\"histogram\":[{\"marker\":{\"pattern\":{\"fillmode\":\"overlay\",\"size\":10,\"solidity\":0.2}},\"type\":\"histogram\"}],\"scattergl\":[{\"type\":\"scattergl\",\"marker\":{\"colorbar\":{\"outlinewidth\":0,\"ticks\":\"\"}}}],\"scatter3d\":[{\"type\":\"scatter3d\",\"line\":{\"colorbar\":{\"outlinewidth\":0,\"ticks\":\"\"}},\"marker\":{\"colorbar\":{\"outlinewidth\":0,\"ticks\":\"\"}}}],\"scattermapbox\":[{\"type\":\"scattermapbox\",\"marker\":{\"colorbar\":{\"outlinewidth\":0,\"ticks\":\"\"}}}],\"scatterternary\":[{\"type\":\"scatterternary\",\"marker\":{\"colorbar\":{\"outlinewidth\":0,\"ticks\":\"\"}}}],\"scattercarpet\":[{\"type\":\"scattercarpet\",\"marker\":{\"colorbar\":{\"outlinewidth\":0,\"ticks\":\"\"}}}],\"carpet\":[{\"aaxis\":{\"endlinecolor\":\"#2a3f5f\",\"gridcolor\":\"white\",\"linecolor\":\"white\",\"minorgridcolor\":\"white\",\"startlinecolor\":\"#2a3f5f\"},\"baxis\":{\"endlinecolor\":\"#2a3f5f\",\"gridcolor\":\"white\",\"linecolor\":\"white\",\"minorgridcolor\":\"white\",\"startlinecolor\":\"#2a3f5f\"},\"type\":\"carpet\"}],\"table\":[{\"cells\":{\"fill\":{\"color\":\"#EBF0F8\"},\"line\":{\"color\":\"white\"}},\"header\":{\"fill\":{\"color\":\"#C8D4E3\"},\"line\":{\"color\":\"white\"}},\"type\":\"table\"}],\"barpolar\":[{\"marker\":{\"line\":{\"color\":\"#E5ECF6\",\"width\":0.5},\"pattern\":{\"fillmode\":\"overlay\",\"size\":10,\"solidity\":0.2}},\"type\":\"barpolar\"}],\"pie\":[{\"automargin\":true,\"type\":\"pie\"}]},\"layout\":{\"autotypenumbers\":\"strict\",\"colorway\":[\"#636efa\",\"#EF553B\",\"#00cc96\",\"#ab63fa\",\"#FFA15A\",\"#19d3f3\",\"#FF6692\",\"#B6E880\",\"#FF97FF\",\"#FECB52\"],\"font\":{\"color\":\"#2a3f5f\"},\"hovermode\":\"closest\",\"hoverlabel\":{\"align\":\"left\"},\"paper_bgcolor\":\"white\",\"plot_bgcolor\":\"#E5ECF6\",\"polar\":{\"bgcolor\":\"#E5ECF6\",\"angularaxis\":{\"gridcolor\":\"white\",\"linecolor\":\"white\",\"ticks\":\"\"},\"radialaxis\":{\"gridcolor\":\"white\",\"linecolor\":\"white\",\"ticks\":\"\"}},\"ternary\":{\"bgcolor\":\"#E5ECF6\",\"aaxis\":{\"gridcolor\":\"white\",\"linecolor\":\"white\",\"ticks\":\"\"},\"baxis\":{\"gridcolor\":\"white\",\"linecolor\":\"white\",\"ticks\":\"\"},\"caxis\":{\"gridcolor\":\"white\",\"linecolor\":\"white\",\"ticks\":\"\"}},\"coloraxis\":{\"colorbar\":{\"outlinewidth\":0,\"ticks\":\"\"}},\"colorscale\":{\"sequential\":[[0.0,\"#0d0887\"],[0.1111111111111111,\"#46039f\"],[0.2222222222222222,\"#7201a8\"],[0.3333333333333333,\"#9c179e\"],[0.4444444444444444,\"#bd3786\"],[0.5555555555555556,\"#d8576b\"],[0.6666666666666666,\"#ed7953\"],[0.7777777777777778,\"#fb9f3a\"],[0.8888888888888888,\"#fdca26\"],[1.0,\"#f0f921\"]],\"sequentialminus\":[[0.0,\"#0d0887\"],[0.1111111111111111,\"#46039f\"],[0.2222222222222222,\"#7201a8\"],[0.3333333333333333,\"#9c179e\"],[0.4444444444444444,\"#bd3786\"],[0.5555555555555556,\"#d8576b\"],[0.6666666666666666,\"#ed7953\"],[0.7777777777777778,\"#fb9f3a\"],[0.8888888888888888,\"#fdca26\"],[1.0,\"#f0f921\"]],\"diverging\":[[0,\"#8e0152\"],[0.1,\"#c51b7d\"],[0.2,\"#de77ae\"],[0.3,\"#f1b6da\"],[0.4,\"#fde0ef\"],[0.5,\"#f7f7f7\"],[0.6,\"#e6f5d0\"],[0.7,\"#b8e186\"],[0.8,\"#7fbc41\"],[0.9,\"#4d9221\"],[1,\"#276419\"]]},\"xaxis\":{\"gridcolor\":\"white\",\"linecolor\":\"white\",\"ticks\":\"\",\"title\":{\"standoff\":15},\"zerolinecolor\":\"white\",\"automargin\":true,\"zerolinewidth\":2},\"yaxis\":{\"gridcolor\":\"white\",\"linecolor\":\"white\",\"ticks\":\"\",\"title\":{\"standoff\":15},\"zerolinecolor\":\"white\",\"automargin\":true,\"zerolinewidth\":2},\"scene\":{\"xaxis\":{\"backgroundcolor\":\"#E5ECF6\",\"gridcolor\":\"white\",\"linecolor\":\"white\",\"showbackground\":true,\"ticks\":\"\",\"zerolinecolor\":\"white\",\"gridwidth\":2},\"yaxis\":{\"backgroundcolor\":\"#E5ECF6\",\"gridcolor\":\"white\",\"linecolor\":\"white\",\"showbackground\":true,\"ticks\":\"\",\"zerolinecolor\":\"white\",\"gridwidth\":2},\"zaxis\":{\"backgroundcolor\":\"#E5ECF6\",\"gridcolor\":\"white\",\"linecolor\":\"white\",\"showbackground\":true,\"ticks\":\"\",\"zerolinecolor\":\"white\",\"gridwidth\":2}},\"shapedefaults\":{\"line\":{\"color\":\"#2a3f5f\"}},\"annotationdefaults\":{\"arrowcolor\":\"#2a3f5f\",\"arrowhead\":0,\"arrowwidth\":1},\"geo\":{\"bgcolor\":\"white\",\"landcolor\":\"#E5ECF6\",\"subunitcolor\":\"white\",\"showland\":true,\"showlakes\":true,\"lakecolor\":\"white\"},\"title\":{\"x\":0.05},\"mapbox\":{\"style\":\"light\"}}},\"xaxis\":{\"anchor\":\"y\",\"domain\":[0.0,1.0],\"title\":{\"text\":\"\\uc784\\uae08\\ubd84\\uc704\"}},\"yaxis\":{\"anchor\":\"x\",\"domain\":[0.0,1.0],\"title\":{\"text\":\"\\uc601\\ud5a5\\ub825\"},\"autorange\":\"reversed\"},\"legend\":{\"title\":{\"text\":\"\\ud56d\\ubaa9\"},\"tracegroupgap\":0},\"title\":{\"text\":\"\\uc784\\uae08 \\ubd84\\uc704\\ubcc4 \\ud56d\\ubaa9 \\uc21c\\uc704 \\ubcc0\\ud654 (\\ubc94\\ud504 \\ucc28\\ud2b8)\"},\"height\":800,\"width\":600,\"annotations\":[{\"font\":{\"color\":\"#636efa\",\"size\":14},\"showarrow\":false,\"text\":\" \\uc8fc\\uac04\\uadfc\\ub85c\\uc2dc\\uac04(\\uc804\\uc77c\\uc81c)\",\"x\":\"\\uc784\\uae085\\ubd84\\uc704\",\"xanchor\":\"left\",\"y\":9.0,\"yanchor\":\"middle\"},{\"font\":{\"color\":\"#636efa\",\"size\":14},\"showarrow\":false,\"text\":\"\\uc8fc\\uac04\\uadfc\\ub85c\\uc2dc\\uac04(\\uc804\\uc77c\\uc81c) \",\"x\":\"\\uc784\\uae081\\ubd84\\uc704\",\"xanchor\":\"right\",\"y\":1.0,\"yanchor\":\"middle\"},{\"font\":{\"color\":\"#EF553B\",\"size\":14},\"showarrow\":false,\"text\":\" \\uc131\\ubcc4\",\"x\":\"\\uc784\\uae085\\ubd84\\uc704\",\"xanchor\":\"left\",\"y\":3.0,\"yanchor\":\"middle\"},{\"font\":{\"color\":\"#EF553B\",\"size\":14},\"showarrow\":false,\"text\":\"\\uc131\\ubcc4 \",\"x\":\"\\uc784\\uae081\\ubd84\\uc704\",\"xanchor\":\"right\",\"y\":3.0,\"yanchor\":\"middle\"},{\"font\":{\"color\":\"#00cc96\",\"size\":14},\"showarrow\":false,\"text\":\" 7\\ucc28\\uc9c1\\uc5c5\\ub300\\ubd84\\ub958\",\"x\":\"\\uc784\\uae085\\ubd84\\uc704\",\"xanchor\":\"left\",\"y\":1.0,\"yanchor\":\"middle\"},{\"font\":{\"color\":\"#00cc96\",\"size\":14},\"showarrow\":false,\"text\":\"7\\ucc28\\uc9c1\\uc5c5\\ub300\\ubd84\\ub958 \",\"x\":\"\\uc784\\uae081\\ubd84\\uc704\",\"xanchor\":\"right\",\"y\":5.0,\"yanchor\":\"middle\"},{\"font\":{\"color\":\"#ab63fa\",\"size\":14},\"showarrow\":false,\"text\":\" \\ucd9c\\uc0dd\\uc5f0\\ub3c4\",\"x\":\"\\uc784\\uae085\\ubd84\\uc704\",\"xanchor\":\"left\",\"y\":7.0,\"yanchor\":\"middle\"},{\"font\":{\"color\":\"#ab63fa\",\"size\":14},\"showarrow\":false,\"text\":\"\\ucd9c\\uc0dd\\uc5f0\\ub3c4 \",\"x\":\"\\uc784\\uae081\\ubd84\\uc704\",\"xanchor\":\"right\",\"y\":2.0,\"yanchor\":\"middle\"},{\"font\":{\"color\":\"#FFA15A\",\"size\":14},\"showarrow\":false,\"text\":\" \\uc7ac\\uc9c1\\uae30\\uac04\",\"x\":\"\\uc784\\uae085\\ubd84\\uc704\",\"xanchor\":\"left\",\"y\":2.0,\"yanchor\":\"middle\"},{\"font\":{\"color\":\"#FFA15A\",\"size\":14},\"showarrow\":false,\"text\":\"\\uc7ac\\uc9c1\\uae30\\uac04 \",\"x\":\"\\uc784\\uae081\\ubd84\\uc704\",\"xanchor\":\"right\",\"y\":10.0,\"yanchor\":\"middle\"},{\"font\":{\"color\":\"#19d3f3\",\"size\":14},\"showarrow\":false,\"text\":\" \\uae09\\uc5ec\\ud615\\ud0dc\",\"x\":\"\\uc784\\uae085\\ubd84\\uc704\",\"xanchor\":\"left\",\"y\":5.0,\"yanchor\":\"middle\"},{\"font\":{\"color\":\"#19d3f3\",\"size\":14},\"showarrow\":false,\"text\":\"\\uae09\\uc5ec\\ud615\\ud0dc \",\"x\":\"\\uc784\\uae081\\ubd84\\uc704\",\"xanchor\":\"right\",\"y\":7.0,\"yanchor\":\"middle\"},{\"font\":{\"color\":\"#FF6692\",\"size\":14},\"showarrow\":false,\"text\":\" 10\\ucc28\\uc0b0\\uc5c5\\ub300\\ubd84\\ub958\",\"x\":\"\\uc784\\uae085\\ubd84\\uc704\",\"xanchor\":\"left\",\"y\":4.0,\"yanchor\":\"middle\"},{\"font\":{\"color\":\"#FF6692\",\"size\":14},\"showarrow\":false,\"text\":\"10\\ucc28\\uc0b0\\uc5c5\\ub300\\ubd84\\ub958 \",\"x\":\"\\uc784\\uae081\\ubd84\\uc704\",\"xanchor\":\"right\",\"y\":6.0,\"yanchor\":\"middle\"},{\"font\":{\"color\":\"#B6E880\",\"size\":14},\"showarrow\":false,\"text\":\" \\uadfc\\ub85c\\uc2dc\\uac04\\ud615\\ud0dc\",\"x\":\"\\uc784\\uae085\\ubd84\\uc704\",\"xanchor\":\"left\",\"y\":10.0,\"yanchor\":\"middle\"},{\"font\":{\"color\":\"#B6E880\",\"size\":14},\"showarrow\":false,\"text\":\"\\uadfc\\ub85c\\uc2dc\\uac04\\ud615\\ud0dc \",\"x\":\"\\uc784\\uae081\\ubd84\\uc704\",\"xanchor\":\"right\",\"y\":4.0,\"yanchor\":\"middle\"},{\"font\":{\"color\":\"#FF97FF\",\"size\":14},\"showarrow\":false,\"text\":\" \\uc5f0\\ub839\\uacc4\\uce35\",\"x\":\"\\uc784\\uae085\\ubd84\\uc704\",\"xanchor\":\"left\",\"y\":8.0,\"yanchor\":\"middle\"},{\"font\":{\"color\":\"#FF97FF\",\"size\":14},\"showarrow\":false,\"text\":\"\\uc5f0\\ub839\\uacc4\\uce35 \",\"x\":\"\\uc784\\uae081\\ubd84\\uc704\",\"xanchor\":\"right\",\"y\":8.0,\"yanchor\":\"middle\"},{\"font\":{\"color\":\"#FECB52\",\"size\":14},\"showarrow\":false,\"text\":\" \\ub9cc\\uc5f0\\ub839\",\"x\":\"\\uc784\\uae085\\ubd84\\uc704\",\"xanchor\":\"left\",\"y\":6.0,\"yanchor\":\"middle\"},{\"font\":{\"color\":\"#FECB52\",\"size\":14},\"showarrow\":false,\"text\":\"\\ub9cc\\uc5f0\\ub839 \",\"x\":\"\\uc784\\uae081\\ubd84\\uc704\",\"xanchor\":\"right\",\"y\":9.0,\"yanchor\":\"middle\"}],\"showlegend\":false},                        {\"responsive\": true}                    ).then(function(){\n",
       "                            \n",
       "var gd = document.getElementById('aba2647b-d42e-4d42-a5e4-76a47237d0d6');\n",
       "var x = new MutationObserver(function (mutations, observer) {{\n",
       "        var display = window.getComputedStyle(gd).display;\n",
       "        if (!display || display === 'none') {{\n",
       "            console.log([gd, 'removed!']);\n",
       "            Plotly.purge(gd);\n",
       "            observer.disconnect();\n",
       "        }}\n",
       "}});\n",
       "\n",
       "// Listen for the removal of the full notebook cells\n",
       "var notebookContainer = gd.closest('#notebook-container');\n",
       "if (notebookContainer) {{\n",
       "    x.observe(notebookContainer, {childList: true});\n",
       "}}\n",
       "\n",
       "// Listen for the clearing of the current output cell\n",
       "var outputEl = gd.closest('.output');\n",
       "if (outputEl) {{\n",
       "    x.observe(outputEl, {childList: true});\n",
       "}}\n",
       "\n",
       "                        })                };                });            </script>        </div>"
      ]
     },
     "metadata": {},
     "output_type": "display_data"
    }
   ],
   "source": [
    "top10_order_long['임금분위'] = pd.Categorical(top10_order_long['임금분위'],\n",
    "                                            categories=['임금1분위', '임금5분위'],\n",
    "                                            ordered=True)\n",
    "\n",
    "# Plotly Express로 범프 차트 생성\n",
    "fig = px.line(\n",
    "    top10_order_long,\n",
    "    x='임금분위',\n",
    "    y='영향력',\n",
    "    color='항목',       # 각 항목에 따라 다른 색상\n",
    "    text='항목',       # 각 점에 항목 텍스트 표시\n",
    "    line_shape='spline', # 핵심: 곡선으로 연결\n",
    "    markers=True,        # 점(마커) 표시\n",
    "    title='임금 분위별 항목 순위 변화 (범프 차트)',\n",
    "    hover_name='항목',  # 마우스 오버 시 항목 이름 표시\n",
    "    width=600,\n",
    "    height=800\n",
    "\n",
    ")\n",
    "\n",
    "# y축을 뒤집어서 1위가 위에 오도록 설정\n",
    "fig.update_yaxes(autorange=\"reversed\")\n",
    "\n",
    "# 라인 굵기 및 마커 크기 조절\n",
    "fig.update_traces(\n",
    "    line=dict(width=4),\n",
    "    marker=dict(size=12),\n",
    ")\n",
    "\n",
    "# 텍스트 레이블 커스터마이징 (선 끝에만 표시)\n",
    "fig.for_each_trace(lambda trace: trace.update(textfont_color='rgba(0,0,0,0)')) # 모든 텍스트 투명하게\n",
    "\n",
    "# 각 항목에 대해 첫 점과 끝 점에만 라벨(annotation) 추가\n",
    "for i, item_name in enumerate(top10_order_long['항목'].unique()):\n",
    "    # 마지막 점 데이터 찾기\n",
    "    last_point = top10_order_long[(top10_order_long['항목'] == item_name) &\n",
    "                                (top10_order_long['임금분위'] == top10_order_long['임금분위'].cat.categories[-1])]\n",
    "    if not last_point.empty:\n",
    "        fig.add_annotation(\n",
    "            x=last_point['임금분위'].iloc[0],\n",
    "            y=last_point['영향력'].iloc[0],\n",
    "            text=f\" {item_name}\",\n",
    "            showarrow=False,\n",
    "            xanchor='left',\n",
    "            font=dict(size=14, color=fig.data[i].line.color),\n",
    "            yanchor='middle'\n",
    "        )\n",
    "    # 첫번째 점 데이터 찾기\n",
    "    first_point = top10_order_long[(top10_order_long['항목'] == item_name) &\n",
    "                                 (top10_order_long['임금분위'] == top10_order_long['임금분위'].cat.categories[0])]\n",
    "    if not first_point.empty:\n",
    "        fig.add_annotation(\n",
    "            x=first_point['임금분위'].iloc[0],\n",
    "            y=first_point['영향력'].iloc[0],\n",
    "            text=f\"{item_name} \",\n",
    "            showarrow=False,\n",
    "            xanchor='right',\n",
    "            font=dict(size=14, color=fig.data[i].line.color),\n",
    "            yanchor='middle'\n",
    "        )\n",
    "\n",
    "# 범례 숨기기\n",
    "fig.update_layout(showlegend=False)\n",
    "\n",
    "fig.show()"
   ]
  },
  {
   "cell_type": "code",
   "execution_count": null,
   "id": "4a4dca6f-12a3-49bf-8fda-e338ae4d6c22",
   "metadata": {},
   "outputs": [],
   "source": []
  }
 ],
 "metadata": {
  "kernelspec": {
   "display_name": "Python 3 (ipykernel)",
   "language": "python",
   "name": "python3"
  },
  "language_info": {
   "codemirror_mode": {
    "name": "ipython",
    "version": 3
   },
   "file_extension": ".py",
   "mimetype": "text/x-python",
   "name": "python",
   "nbconvert_exporter": "python",
   "pygments_lexer": "ipython3",
   "version": "3.12.7"
  }
 },
 "nbformat": 4,
 "nbformat_minor": 5
}
